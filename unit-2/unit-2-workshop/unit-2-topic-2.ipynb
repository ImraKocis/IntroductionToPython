{
 "cells": [
  {
   "cell_type": "markdown",
   "metadata": {},
   "source": [
    "# 2. Introduction to syntax\n",
    "\n",
    "## 2.2. While, for, break, continue and variants of for and while loops\n",
    "\n",
    "A loop is a piece of code that is executed multiple times.\n",
    "\n",
    "### The while statement\n",
    "\n",
    "- The **while** command is used to create loops\n",
    "- **while** loop is executed as long as the logical expression is equal to True\n",
    "\n",
    "**Syntax of the while command:**\n",
    "```python\n",
    "  while logical_expression:\n",
    "    A block that is executed while the logical expression is true\n",
    "```"
   ]
  },
  {
   "cell_type": "markdown",
   "metadata": {},
   "source": [
    "<br><div class=\"alert alert-info\"><b>Example 01</b></div>\n",
    "Write a program that prints the numbers from 1 to 5 using a while loop."
   ]
  },
  {
   "cell_type": "code",
   "execution_count": 3,
   "metadata": {},
   "outputs": [
    {
     "name": "stdout",
     "output_type": "stream",
     "text": [
      "1\n",
      "2\n",
      "3\n",
      "4\n",
      "5\n"
     ]
    }
   ],
   "source": []
  },
  {
   "cell_type": "markdown",
   "metadata": {},
   "source": [
    "Change the program so that it prints the numbers one after another, delimited with space. \n",
    "\n",
    "Example: `1 2 3 4 5`"
   ]
  },
  {
   "cell_type": "code",
   "execution_count": 10,
   "metadata": {},
   "outputs": [
    {
     "name": "stdout",
     "output_type": "stream",
     "text": [
      "1 2 3 4 5 "
     ]
    }
   ],
   "source": []
  },
  {
   "cell_type": "markdown",
   "metadata": {},
   "source": [
    "<br><div class=\"alert alert-info\"><b>Example 02</b></div>\n",
    "Write a program that inputs a string that will be output in capital case (capitalized string).\n",
    "\n",
    "Program should run in an infinite loop.\n",
    "\n",
    "Specifically, if letter `q` is entered, program should exit"
   ]
  },
  {
   "cell_type": "code",
   "execution_count": 11,
   "metadata": {},
   "outputs": [
    {
     "name": "stdout",
     "output_type": "stream",
     "text": [
      "One\n",
      "Two\n",
      "Three\n"
     ]
    }
   ],
   "source": []
  },
  {
   "cell_type": "markdown",
   "metadata": {},
   "source": [
    "> This is called `infinite loop`. It's actually not so infinite, you can stop that any time using ESC, Ctrl+c, \"Interrupt\" button... depends where you're running the code from. Also, infinite loop is stopped from inside loop using `break`, as shown in this example."
   ]
  },
  {
   "cell_type": "markdown",
   "metadata": {},
   "source": [
    "<br><div class=\"alert alert-info\"><b>Example 03</b></div>\n",
    "Write a program that asks for two numbers.\n",
    "If first number is smaller than the second one, increase it in loop until it get equal as the second one.\n",
    "If second number is smaller than the first one, increase it in loop until it get equal as the first one.\n",
    "At the end, write the values."
   ]
  },
  {
   "cell_type": "code",
   "execution_count": 16,
   "metadata": {},
   "outputs": [
    {
     "name": "stdout",
     "output_type": "stream",
     "text": [
      "1st is catching up... 1\n",
      "1st is catching up... 2\n",
      "1st is catching up... 3\n",
      "1st is catching up... 4\n",
      "1st is catching up... 5\n",
      "1st is catching up... 6\n",
      "a = 7 ; b = 7\n"
     ]
    }
   ],
   "source": []
  },
  {
   "cell_type": "markdown",
   "metadata": {},
   "source": [
    "<br><div class=\"alert alert-info\"><b>Example 04</b></div>\n",
    "Change the last example so that it outputs all the even numbers between the given two numbers."
   ]
  },
  {
   "cell_type": "code",
   "execution_count": 18,
   "metadata": {},
   "outputs": [
    {
     "name": "stdout",
     "output_type": "stream",
     "text": [
      "4 6 8 10 12 "
     ]
    }
   ],
   "source": []
  },
  {
   "cell_type": "markdown",
   "metadata": {},
   "source": [
    "<br><div class=\"alert alert-info\"><b>Example 05</b></div>\n",
    "Simplify the last example in order to use just one loop."
   ]
  },
  {
   "cell_type": "code",
   "execution_count": 20,
   "metadata": {},
   "outputs": [
    {
     "name": "stdout",
     "output_type": "stream",
     "text": [
      "2 4 6 8 10 12 14 "
     ]
    }
   ],
   "source": []
  },
  {
   "cell_type": "markdown",
   "metadata": {},
   "source": [
    "<br><div class=\"alert alert-info\"><b>Example 06</b></div>\n",
    "Write a program that will accept numbers and just for odd ones print squared values. Allow the program to exit on `q`.\n",
    "\n",
    "Explanation:\n",
    "* In an endless loop, keep entering values.\n",
    "* If value is `q`, then quit the program.\n",
    "* Else, try to convert it to number. If it's an odd number, print its squared value."
   ]
  },
  {
   "cell_type": "code",
   "execution_count": 24,
   "metadata": {},
   "outputs": [
    {
     "name": "stdout",
     "output_type": "stream",
     "text": [
      "1 squared is 1\n",
      "3 squared is 9\n",
      "5 squared is 25\n"
     ]
    }
   ],
   "source": []
  },
  {
   "cell_type": "markdown",
   "metadata": {},
   "source": [
    "### Command for\n",
    "\n",
    "- The `for` command is also even more frequently!) used to create loops\n",
    "- It is used when the number of repetitions of the loop is known in advance\n",
    "- It serves to go through the sequence\n",
    "\n",
    "#### Sequence\n",
    "\n",
    "- A sequence is a series of values\n",
    "- Examples: \n",
    "  - 1, 2, 3, 4, 5, 6, 7, 8, 9, 10\n",
    "  - 10, 8, 6, 4, 2, 0\n",
    "  - 100, 200, 300, 400, 500\n",
    "  - 1, 1, 2, 3, 5, 8, 13\n",
    "  - \"red\", \"white\", \"blue\", \"cyan\", \"fuchsia\", \"gamboge\"\n",
    "\n",
    "The easiest way to get the sequence of numbers is with the **range** function\n",
    "\n",
    "Syntax of the range function:\n",
    "```python\n",
    "  range(Min, Max, Step)\n",
    "```\n",
    "Example:\n",
    "- range(5) creates a sequence of numbers 0, 1, 2, 3 and 4\n",
    "- range(3, 10) creates the sequence 3, 4, 5, 6, 7, 8 and 9\n",
    "- range(10, 20, 2) creates the sequence 10, 12, 14, 16, 18\n",
    "\n",
    "**For command syntax:**\n",
    "```python\n",
    "     for variable in sequence:\n",
    "         block of repeating commands\n",
    "```"
   ]
  },
  {
   "cell_type": "markdown",
   "metadata": {},
   "source": [
    "<br><div class=\"alert alert-info\"><b>Example 07</b></div>\n",
    "Write a program that prints numbers from 1 to 10 separated by *tabs* using a for loop."
   ]
  },
  {
   "cell_type": "code",
   "execution_count": 8,
   "metadata": {},
   "outputs": [
    {
     "name": "stdout",
     "output_type": "stream",
     "text": [
      "1\t2\t3\t4\t5\t6\t7\t8\t9\t10\t"
     ]
    }
   ],
   "source": []
  },
  {
   "cell_type": "markdown",
   "metadata": {},
   "source": [
    "<br><div class=\"alert alert-info\"><b>Example 08</b></div>\n",
    "Write a program that prints all odd numbers between 10 and 30 separated by tabs using a for loop."
   ]
  },
  {
   "cell_type": "code",
   "execution_count": 9,
   "metadata": {},
   "outputs": [
    {
     "name": "stdout",
     "output_type": "stream",
     "text": [
      "11\t13\t15\t17\t19\t21\t23\t25\t27\t29\t"
     ]
    }
   ],
   "source": []
  },
  {
   "cell_type": "markdown",
   "metadata": {},
   "source": [
    "<br><div class=\"alert alert-info\"><b>Example 09</b></div>\n",
    "Write a program that loads two numbers from the user and prints all numbers from larger to smaller separated by spaces using a for loop."
   ]
  },
  {
   "cell_type": "code",
   "execution_count": 10,
   "metadata": {},
   "outputs": [
    {
     "name": "stdout",
     "output_type": "stream",
     "text": [
      "10 9 8 7 6 5 "
     ]
    }
   ],
   "source": []
  },
  {
   "cell_type": "markdown",
   "metadata": {},
   "source": [
    "Simplify the program to use just one loop."
   ]
  },
  {
   "cell_type": "code",
   "execution_count": 33,
   "metadata": {},
   "outputs": [
    {
     "name": "stdout",
     "output_type": "stream",
     "text": [
      "10 9 8 7 6 5 4 3 2 1 "
     ]
    }
   ],
   "source": []
  },
  {
   "cell_type": "markdown",
   "metadata": {},
   "source": [
    "<br><div class=\"alert alert-info\"><b>Example 10</b></div>\n",
    "Write a program that draws a triangle like this:\n",
    "```\n",
    "*\n",
    "* *\n",
    "* * *\n",
    "* * * *\n",
    "* * * * *\n",
    "```"
   ]
  },
  {
   "cell_type": "code",
   "execution_count": 34,
   "metadata": {},
   "outputs": [
    {
     "name": "stdout",
     "output_type": "stream",
     "text": [
      "* \n",
      "* * \n",
      "* * * \n",
      "* * * * \n",
      "* * * * * \n"
     ]
    }
   ],
   "source": []
  },
  {
   "cell_type": "markdown",
   "metadata": {},
   "source": [
    "<br><div class=\"alert alert-info\"><b>Example 11</b></div>\n",
    "Write a program that draws a triangle like this:\n",
    "```\n",
    "        *\n",
    "      * *\n",
    "    * * *\n",
    "  * * * *\n",
    "* * * * *\n",
    "```"
   ]
  },
  {
   "cell_type": "code",
   "execution_count": 38,
   "metadata": {},
   "outputs": [
    {
     "name": "stdout",
     "output_type": "stream",
     "text": [
      "        * \n",
      "      * * \n",
      "    * * * \n",
      "  * * * * \n",
      "* * * * * \n"
     ]
    }
   ],
   "source": []
  },
  {
   "cell_type": "markdown",
   "metadata": {},
   "source": [
    "## Exercises"
   ]
  },
  {
   "cell_type": "markdown",
   "metadata": {},
   "source": [
    "<br><div class=\"alert alert-info\"><b>Task 01</b></div>\n",
    "Write a program that in an infinite loop loads a number from the keyboard and prints whether it is even or not.\n"
   ]
  },
  {
   "cell_type": "code",
   "execution_count": 5,
   "metadata": {},
   "outputs": [
    {
     "name": "stdout",
     "output_type": "stream",
     "text": [
      "Wrong input!!\n",
      "6 is even\n",
      "88 is even\n",
      "Wrong input!!\n"
     ]
    }
   ],
   "source": [
    "while True:\n",
    "    inpt = input('Input number, or x to exit: ')\n",
    "    try:\n",
    "        if(inpt == 'x'):\n",
    "            break\n",
    "        if(int(inpt) % 2 == 0):\n",
    "            print(f'{inpt} is even')\n",
    "        else:\n",
    "            print(f'{inpt} is odd')\n",
    "    except:\n",
    "        print('Wrong input!!')\n",
    "\n",
    "\n",
    "\n"
   ]
  },
  {
   "cell_type": "markdown",
   "metadata": {},
   "source": [
    "<br><div class=\"alert alert-info\"><b>Task 02</b></div>\n",
    "Write a program that prints the numbers from 100 to 200 separated by spaces."
   ]
  },
  {
   "cell_type": "code",
   "execution_count": 7,
   "metadata": {},
   "outputs": [
    {
     "name": "stdout",
     "output_type": "stream",
     "text": [
      "100 101 102 103 104 105 106 107 108 109 110 111 112 113 114 115 116 117 118 119 120 121 122 123 124 125 126 127 128 129 130 131 132 133 134 135 136 137 138 139 140 141 142 143 144 145 146 147 148 149 150 151 152 153 154 155 156 157 158 159 160 161 162 163 164 165 166 167 168 169 170 171 172 173 174 175 176 177 178 179 180 181 182 183 184 185 186 187 188 189 190 191 192 193 194 195 196 197 198 199 200\n"
     ]
    }
   ],
   "source": [
    "num = 100\n",
    "all_nums = []\n",
    "while(num <= 200):\n",
    "    all_nums.append(num)\n",
    "    num += 1\n",
    "\n",
    "print(*all_nums)"
   ]
  },
  {
   "cell_type": "markdown",
   "metadata": {},
   "source": [
    "<br><div class=\"alert alert-info\"><b>Task 03</b></div>\n",
    "Write a program that manages a counter in an infinite loop.<br />\n",
    "Counter starts from 0.<br />\n",
    "Prompt for command should be `cmd>`\n",
    "\n",
    "Support these commands:\n",
    "* `inc`: increase counter by 1\n",
    "* `dec`: decrease counter by 1\n",
    "* `rst`: resets counter to 0\n",
    "* `quit`: ends the program\n",
    "* if any unknown command is entered, ignore it\n",
    "\n",
    "After any command except `quit` and unknown, output `ok` and the current counter value.\n",
    "\n",
    "> Note: for last two points (`quit` and unknown) use `break` and `continue`"
   ]
  },
  {
   "cell_type": "code",
   "execution_count": 9,
   "metadata": {},
   "outputs": [
    {
     "name": "stdout",
     "output_type": "stream",
     "text": [
      "ok, 1\n"
     ]
    }
   ],
   "source": [
    "counter = 0\n",
    "while True:\n",
    "    inpt = input('''Input a command\\n\n",
    "                 inc -> increase counter by 1\\n\n",
    "                 dec -> decrease counter by 1\\n\n",
    "                 rst -> reset counter to 0\\n\n",
    "                 quit -> quit the program''')\n",
    "    if(inpt == 'inc'):\n",
    "        counter += 1\n",
    "    elif(inpt == 'dec'):\n",
    "        counter-=1\n",
    "    elif(inpt == 'rst'):\n",
    "        counter = 0\n",
    "    elif(inpt=='quit'):\n",
    "        break\n",
    "    else:\n",
    "        continue\n",
    "    print(f'ok, {counter}')\n"
   ]
  },
  {
   "cell_type": "markdown",
   "metadata": {},
   "source": [
    "<br><div class=\"alert alert-info\"><b>Task 04</b></div>\n",
    "Write a program that prints the multiplication table from 1 to 10."
   ]
  },
  {
   "cell_type": "code",
   "execution_count": 40,
   "metadata": {},
   "outputs": [
    {
     "name": "stdout",
     "output_type": "stream",
     "text": [
      "1      2      3      4      5      6      7      8      9      10     \n",
      "2      4      6      8      10     12     14     16     18     20     \n",
      "3      6      9      12     15     18     21     24     27     30     \n",
      "4      8      12     16     20     24     28     32     36     40     \n",
      "5      10     15     20     25     30     35     40     45     50     \n",
      "6      12     18     24     30     36     42     48     54     60     \n",
      "7      14     21     28     35     42     49     56     63     70     \n",
      "8      16     24     32     40     48     56     64     72     80     \n",
      "9      18     27     36     45     54     63     72     81     90     \n",
      "10     20     30     40     50     60     70     80     90     100    \n"
     ]
    }
   ],
   "source": [
    "for i in range(1,11):\n",
    "    for j in range(1,11):\n",
    "        m = i*j\n",
    "        if(m<10):\n",
    "            print(m, end=\"      \")\n",
    "        elif(m<100):\n",
    "            print(m, end=\"     \")\n",
    "        else:\n",
    "            print(m, end=\"    \")\n",
    "            \n",
    "    print()"
   ]
  },
  {
   "cell_type": "markdown",
   "metadata": {},
   "source": [
    "<br><div class=\"alert alert-info\"><b>Task 05</b></div>\n",
    "Write a program that loads two integers from the keyboard and prints all the numbers from larger to smaller. Solve the printout with a for loop. The program is executed until the first entered number is smaller than the second (while loop)."
   ]
  },
  {
   "cell_type": "code",
   "execution_count": 19,
   "metadata": {},
   "outputs": [
    {
     "name": "stdout",
     "output_type": "stream",
     "text": [
      "10\n",
      "9\n",
      "8\n",
      "7\n",
      "6\n",
      "10\n",
      "9\n",
      "8\n",
      "7\n",
      "------\n"
     ]
    }
   ],
   "source": [
    "line_counter = 0\n",
    "while True:\n",
    "\n",
    "    try:\n",
    "        if(line_counter > 0):\n",
    "            print('------')\n",
    "        num1 = int(input('Input 1st number: '))\n",
    "        num2 = int(input('Input 2nd number: '))\n",
    "        counter = num2\n",
    "        if(num1 >= num2):\n",
    "            break\n",
    "        for i in range(num1, num2):\n",
    "            print(counter)\n",
    "            counter-=1\n",
    "        \n",
    "        line_counter+=1\n",
    "    except:\n",
    "        break\n"
   ]
  },
  {
   "cell_type": "markdown",
   "metadata": {},
   "source": [
    "<br><div class=\"alert alert-info\"><b>Task 06</b></div>\n",
    "Write a program that prints the ASCII table from 32 to 127.\n",
    "\n",
    "> Note: to get the ASCII character from the numeric value, use function `chr()`\n",
    "> \n",
    "> I.e. `chr(32)` should return a space character."
   ]
  },
  {
   "cell_type": "code",
   "execution_count": 21,
   "metadata": {},
   "outputs": [
    {
     "name": "stdout",
     "output_type": "stream",
     "text": [
      "32    \n",
      "33   !\n",
      "34   \"\n",
      "35   #\n",
      "36   $\n",
      "37   %\n",
      "38   &\n",
      "39   '\n",
      "40   (\n",
      "41   )\n",
      "42   *\n",
      "43   +\n",
      "44   ,\n",
      "45   -\n",
      "46   .\n",
      "47   /\n",
      "48   0\n",
      "49   1\n",
      "50   2\n",
      "51   3\n",
      "52   4\n",
      "53   5\n",
      "54   6\n",
      "55   7\n",
      "56   8\n",
      "57   9\n",
      "58   :\n",
      "59   ;\n",
      "60   <\n",
      "61   =\n",
      "62   >\n",
      "63   ?\n",
      "64   @\n",
      "65   A\n",
      "66   B\n",
      "67   C\n",
      "68   D\n",
      "69   E\n",
      "70   F\n",
      "71   G\n",
      "72   H\n",
      "73   I\n",
      "74   J\n",
      "75   K\n",
      "76   L\n",
      "77   M\n",
      "78   N\n",
      "79   O\n",
      "80   P\n",
      "81   Q\n",
      "82   R\n",
      "83   S\n",
      "84   T\n",
      "85   U\n",
      "86   V\n",
      "87   W\n",
      "88   X\n",
      "89   Y\n",
      "90   Z\n",
      "91   [\n",
      "92   \\\n",
      "93   ]\n",
      "94   ^\n",
      "95   _\n",
      "96   `\n",
      "97   a\n",
      "98   b\n",
      "99   c\n",
      "100   d\n",
      "101   e\n",
      "102   f\n",
      "103   g\n",
      "104   h\n",
      "105   i\n",
      "106   j\n",
      "107   k\n",
      "108   l\n",
      "109   m\n",
      "110   n\n",
      "111   o\n",
      "112   p\n",
      "113   q\n",
      "114   r\n",
      "115   s\n",
      "116   t\n",
      "117   u\n",
      "118   v\n",
      "119   w\n",
      "120   x\n",
      "121   y\n",
      "122   z\n",
      "123   {\n",
      "124   |\n",
      "125   }\n",
      "126   ~\n"
     ]
    }
   ],
   "source": [
    "for i in range(32,127):\n",
    "    print(i,' ',chr(i))"
   ]
  },
  {
   "cell_type": "markdown",
   "metadata": {},
   "source": [
    "<br><div class=\"alert alert-info\"><b>Task 07</b></div>\n",
    "Write a program that asks for the integer n and then prints sum of all numbers from 1 to n."
   ]
  },
  {
   "cell_type": "code",
   "execution_count": 27,
   "metadata": {},
   "outputs": [
    {
     "name": "stdout",
     "output_type": "stream",
     "text": [
      "Sum = 10\n"
     ]
    }
   ],
   "source": [
    "x = int(input('Input number: '))\n",
    "sum = 0\n",
    "\n",
    "for i in range(1,x):\n",
    "    sum = sum + i\n",
    "\n",
    "print(f'Sum = {sum}')\n"
   ]
  },
  {
   "cell_type": "markdown",
   "metadata": {},
   "source": [
    "<br><div class=\"alert alert-info\"><b>Task 08</b></div>\n",
    "Write a program that asks for the integer n and then prints factorial of n."
   ]
  },
  {
   "cell_type": "code",
   "execution_count": 33,
   "metadata": {},
   "outputs": [
    {
     "name": "stdout",
     "output_type": "stream",
     "text": [
      "i = 5, factoriel = 5\n",
      "i = 4, factoriel = 20\n",
      "i = 3, factoriel = 60\n",
      "i = 2, factoriel = 120\n",
      "i = 1, factoriel = 120\n",
      "factoriel = 120\n"
     ]
    }
   ],
   "source": [
    "x = int(input('Input number: '))\n",
    "factoriel = 1\n",
    "\n",
    "for i in reversed(range(1,x+1)):\n",
    "    factoriel = factoriel * i\n",
    "\n",
    "print(f'factoriel = {factoriel}')\n"
   ]
  },
  {
   "cell_type": "markdown",
   "metadata": {},
   "source": [
    "<br><div class=\"alert alert-info\"><b>Task 09</b></div>\n",
    "Write a program that loads two integers as width and height from the keyboard, and prints a rectangle using character `*`.\n",
    "\n",
    "> Note: if you don't need current value of range counter, you can use `_` instead of a variable name."
   ]
  },
  {
   "cell_type": "code",
   "execution_count": 30,
   "metadata": {},
   "outputs": [
    {
     "name": "stdout",
     "output_type": "stream",
     "text": [
      "*****\n",
      "*****\n",
      "*****\n"
     ]
    }
   ],
   "source": []
  },
  {
   "cell_type": "markdown",
   "metadata": {},
   "source": [
    "<br><div class=\"alert alert-info\"><b>Task 10</b></div>\n",
    "Write a program that loads a number from the keyboard, checks whether it is prime and prints the result of that check."
   ]
  },
  {
   "cell_type": "code",
   "execution_count": 32,
   "metadata": {},
   "outputs": [
    {
     "name": "stdout",
     "output_type": "stream",
     "text": [
      "It's a prime number\n"
     ]
    }
   ],
   "source": []
  },
  {
   "cell_type": "markdown",
   "metadata": {},
   "source": [
    "<br><div class=\"alert alert-info\"><b>Task 11</b></div>\n",
    "Write a program that loads two integers from the keyboard and prints all prime numbers between them."
   ]
  },
  {
   "cell_type": "code",
   "execution_count": 33,
   "metadata": {},
   "outputs": [
    {
     "name": "stdout",
     "output_type": "stream",
     "text": [
      "11 13 17 19 23 29 31 37 41 43 47 53 59 61 67 71 73 79 83 89 97 "
     ]
    }
   ],
   "source": []
  },
  {
   "cell_type": "markdown",
   "metadata": {},
   "source": [
    "<br><div class=\"alert alert-info\"><b>Task 12</b></div>\n",
    "Write a program that draws a triangle as shown in the picture.\n",
    "```\n",
    "* * * * *\n",
    "* * * *\n",
    "* * *\n",
    "* *\n",
    "*\n",
    "```"
   ]
  },
  {
   "cell_type": "code",
   "execution_count": 34,
   "metadata": {},
   "outputs": [
    {
     "name": "stdout",
     "output_type": "stream",
     "text": [
      "* * * * * \n",
      "* * * * \n",
      "* * * \n",
      "* * \n",
      "* \n"
     ]
    }
   ],
   "source": []
  },
  {
   "cell_type": "markdown",
   "metadata": {},
   "source": [
    "<br><div class=\"alert alert-info\"><b>Task 13</b></div>\n",
    "Write a program that draws a shape shown in the picture.\n",
    "```\n",
    "* * * * * * * * *\n",
    "* * * *   * * * *\n",
    "* * *       * * *\n",
    "* *           * *\n",
    "*               *\n",
    "```"
   ]
  },
  {
   "cell_type": "code",
   "execution_count": 35,
   "metadata": {},
   "outputs": [
    {
     "name": "stdout",
     "output_type": "stream",
     "text": [
      "* * * * * * * * * * \n",
      "* * * *     * * * * \n",
      "* * *         * * * \n",
      "* *             * * \n",
      "*                 * \n"
     ]
    }
   ],
   "source": [
    "n = 5\n",
    "for i in range (n):\n",
    "    for j in range(5-i):\n",
    "        print('*',end=' ')\n",
    "    for j in range (i*2):\n",
    "        print(' ',end=' ')\n",
    "    for j in range(5-i):\n",
    "        print('*', end=' ')\n",
    "    print()"
   ]
  },
  {
   "cell_type": "markdown",
   "metadata": {},
   "source": [
    "<br><div class=\"alert alert-info\"><b>Task 13</b></div>\n",
    "Write a number guessing game.\n",
    "Program comes up with a number from 1 to 100, and user has to guess it.\n",
    "If user inputs number that is lower, program prints \"too low\", and same for a number that is too high.\n",
    "If user inputs the correct number, program prints \"correct\" and exits.\n",
    "\n",
    "> Note: to get a random number, use this function call<br />\n",
    ">\n",
    ">   `x = random.randint(0, 100)`\n",
    ">\n",
    "> This will assign random number from 0 to 100 (both boundaries included) to x.<br />\n",
    "> Also, you will have to **import** random module at the start of your program.<br />\n",
    ">\n",
    ">   `import random`\n",
    ">\n",
    "> So, let the start of your program look like this:<br />\n",
    ">\n",
    ">   `import random`<br />\n",
    ">   `x = random.randint(0, 100)`"
   ]
  },
  {
   "cell_type": "code",
   "execution_count": 43,
   "metadata": {},
   "outputs": [
    {
     "name": "stdout",
     "output_type": "stream",
     "text": [
      "x = 31 and num = 5\n",
      "To low\n",
      "x = 31 and num = 80\n",
      "To high\n",
      "x = 31 and num = 31\n",
      "Bingo :)\n"
     ]
    }
   ],
   "source": [
    "import random\n",
    "\n",
    "xX = random.randint(0,100)\n",
    "\n",
    "while True:\n",
    "    num=int(input('Input num: '))\n",
    "    if num<xX:\n",
    "        print('To low')\n",
    "    elif num>xX:\n",
    "        print('To high')\n",
    "    else:\n",
    "        print('Bingo :)')\n",
    "        break"
   ]
  }
 ],
 "metadata": {
  "kernelspec": {
   "display_name": "Python 3.10.5 64-bit",
   "language": "python",
   "name": "python3"
  },
  "language_info": {
   "codemirror_mode": {
    "name": "ipython",
    "version": 3
   },
   "file_extension": ".py",
   "mimetype": "text/x-python",
   "name": "python",
   "nbconvert_exporter": "python",
   "pygments_lexer": "ipython3",
   "version": "3.12.0"
  },
  "orig_nbformat": 4,
  "vscode": {
   "interpreter": {
    "hash": "3553903dba64754d2bfb0d59acd2dbff5bc8fcd3f403a6584ff751f2f4eee55f"
   }
  }
 },
 "nbformat": 4,
 "nbformat_minor": 2
}
