{
 "cells": [
  {
   "cell_type": "markdown",
   "metadata": {},
   "source": [
    "# 2. Introduction to syntax\n",
    "\n",
    "## Comments"
   ]
  },
  {
   "cell_type": "markdown",
   "metadata": {},
   "source": [
    "A comment is a piece of text in your program that is ignored by the Python interpreter.\n",
    "You might use comments to clarify nearby Python code, make notes to yourself to fix something someday, or for whatever purpose you like. \n",
    "\n",
    "You mark acomment by using the `#` character; everything from that point on to the end of the current line is part of the comment. \n",
    "You’ll usually see a comment on a line by itself, as shown here:\n",
    "\n",
    "```Python\n",
    "# 60 sec/min * 60 min/hr * 24 hr/day\n",
    "seconds_per_day = 86400\n",
    "```"
   ]
  },
  {
   "cell_type": "markdown",
   "metadata": {},
   "source": [
    "If you need, you can use create comment that spans multiple lines like this:\n",
    "\n",
    "```Python\n",
    "#This is a multi-line comment\n",
    "#\n",
    "#print(\"Hello world\")\n",
    "```\n",
    "\n",
    "Or even more simple, like this:\n",
    "\n",
    "```Python\n",
    "\"\"\"\n",
    "This is a multi-line comment\n",
    "\n",
    "print(\"Hello world\")\n",
    "\"\"\"\n",
    "```"
   ]
  },
  {
   "cell_type": "markdown",
   "metadata": {},
   "source": [
    "<br><div class=\"alert alert-info\"><b>Example 01</b></div>\n",
    "Write a code that assigns date of birth in string form to a variable `dob`.\n",
    "\n",
    "Make a comment on that string, that it's a date of birth."
   ]
  },
  {
   "cell_type": "code",
   "execution_count": null,
   "metadata": {},
   "outputs": [],
   "source": []
  },
  {
   "cell_type": "markdown",
   "metadata": {},
   "source": [
    "<br><div class=\"alert alert-info\"><b>Example 02</b></div>\n",
    "Write a code that asks for a length of the side of a square.\n",
    "It then calculates the surface area of that square and prints it out.\n",
    "\n",
    "At the end, comment out the calculation and printing using single-line or multiline comment."
   ]
  },
  {
   "cell_type": "code",
   "execution_count": null,
   "metadata": {},
   "outputs": [],
   "source": []
  },
  {
   "cell_type": "markdown",
   "metadata": {},
   "source": [
    "## 2.1. The if command and its variants"
   ]
  },
  {
   "cell_type": "markdown",
   "metadata": {},
   "source": [
    "We use the `if` command it when we want a piece of code to be executed (i.e. a block of commands), but only if a given condition is met.\n",
    "\n",
    "If the condition is not met, the command block will not be executed.\n",
    "\n",
    "A condition is a *logical expression*.\n",
    "\n",
    "### Syntax of the if command\n",
    "\n",
    "```python\n",
    "    if logical_expression:\n",
    "      # a piece of code that is executed if a logical expression is true\n",
    "```"
   ]
  },
  {
   "cell_type": "code",
   "execution_count": null,
   "metadata": {},
   "outputs": [],
   "source": []
  },
  {
   "cell_type": "markdown",
   "metadata": {},
   "source": [
    "Pay attention:\n",
    "\n",
    "1. Piece of code that is executing has to be indented by at least one space or tab. Otherwise Python doesn't know where is the start and where is the end of the code block. Some other languages use `{` and `}` to denote the block start and end, but Python uses whitespace to indent the block.\n",
    "\n",
    "2. If you forget the colon after the expression, you will get an error"
   ]
  },
  {
   "cell_type": "markdown",
   "metadata": {},
   "source": [
    "\n",
    "### The elif statement\n",
    "\n",
    "If we have more than one condition to check, the `if` statement is not enough.\n",
    "The `elif` statement cannot stand alone, it can only be used after the `if` command.\n",
    "\n",
    "We can use it as many times as we need. With `elif` we say *if the previous condition is not fulfilled, check this one*.\n",
    "\n",
    "**Syntax:**\n",
    "```python\n",
    "    if logical_expression_1:\n",
    "        #The part of the code that is executed if the logical expression 1 is true\n",
    "    elif logical_expression_2:\n",
    "        #The part of the code that is executed if the logical expression 2 is true\n",
    "    elif logical_expression_n:\n",
    "        #The part of code that is executed if the logical expression n is true\n",
    "```"
   ]
  },
  {
   "cell_type": "code",
   "execution_count": null,
   "metadata": {},
   "outputs": [],
   "source": []
  },
  {
   "cell_type": "markdown",
   "metadata": {},
   "source": [
    "### The else statement\n",
    "\n",
    "Sometimes we want to execute a piece of code, but only if none of the conditions are met, either in `if` or `elif`. The else statement cannot stand alone, it can only be used after the `if` or `elif` commands.\n",
    "\n",
    "It can be stated only once and no condition is written next to it.\n",
    "\n",
    "**Syntax:**\n",
    "```python\n",
    "    if logical_expression_1:\n",
    "        #The part of the code that is executed if the logical expression 1 is true\n",
    "    elif logical_expression_2:\n",
    "        #The part of the code that is executed if the logical expression 2 is true\n",
    "    elif logical_expression_n:\n",
    "        #The part of code that is executed if the logical expression n is true\n",
    "    else:\n",
    "        #The piece of code that is executed if none of the preceding logical expressions is true\n",
    "```"
   ]
  },
  {
   "cell_type": "code",
   "execution_count": null,
   "metadata": {},
   "outputs": [],
   "source": []
  },
  {
   "cell_type": "markdown",
   "metadata": {},
   "source": [
    "### The logical expression\n",
    "\n",
    "What can we check to decide which block to execute?\n",
    "\n",
    "#### Check for number equality or inequality\n",
    "\n",
    "```python\n",
    "x = int(input(\"Enter a number\"))\n",
    "if x == 7:\n",
    "  print(\"It's exactly 7\")\n",
    "elif x > 7:\n",
    "  print(\"It's greater than 7\")\n",
    "elif x < 7:\n",
    "  print(\"It's less than 7\")\n",
    "else:\n",
    "  print(\"Wait... how is this possible? :/\")\n",
    "```"
   ]
  },
  {
   "cell_type": "code",
   "execution_count": null,
   "metadata": {},
   "outputs": [],
   "source": []
  },
  {
   "cell_type": "markdown",
   "metadata": {},
   "source": [
    "#### More \"interesting\" check for number equality or inequality\n",
    "\n",
    "```python\n",
    "x = int(input(\"Enter a number\"))\n",
    "\n",
    "if x >= 7:\n",
    "  print(\"It's greater or equal to 7\")\n",
    "\n",
    "if x <= 7:\n",
    "  print(\"It's less or equal to 7\")\n",
    "\n",
    "if x != 7:\n",
    "  print(\"It's definitely not 7\")\n",
    "```"
   ]
  },
  {
   "cell_type": "code",
   "execution_count": null,
   "metadata": {},
   "outputs": [],
   "source": []
  },
  {
   "cell_type": "markdown",
   "metadata": {},
   "source": [
    "#### Combined check for two (or more) conditions\n",
    "\n",
    "```python\n",
    "x = int(input(\"Enter coordinate x\"))\n",
    "y = int(input(\"Enter coordinate y\"))\n",
    "\n",
    "if x > 0 and y > 0:\n",
    "  print(\"Coordinate is in 1st quadrant\")\n",
    "else if x < 0 and y > 0:\n",
    "  print(\"Coordinate is in 2nd quadrant\")\n",
    "else if x < 0 and y < 0:\n",
    "  print(\"Coordinate is in 3rd quadrant\")\n",
    "else if x > 0 and y < 0:\n",
    "  print(\"Coordinate is in 4th quadrant\")\n",
    "else:\n",
    "  print(\"Coordinate is somewhere on the axis\")\n",
    "```"
   ]
  },
  {
   "cell_type": "code",
   "execution_count": null,
   "metadata": {},
   "outputs": [],
   "source": []
  },
  {
   "cell_type": "markdown",
   "metadata": {},
   "source": [
    "#### Check if there is some part of a string inside\n",
    "\n",
    "```python\n",
    "sentence = \"Sphinx of black quartz, judge my vow.\"\n",
    "word = \"quartz\"\n",
    "\n",
    "if word in sentence:\n",
    "  print(\"There it is\")\n",
    "else:\n",
    "  print(\"Nope, there's no such word\")\n",
    "```"
   ]
  },
  {
   "cell_type": "code",
   "execution_count": null,
   "metadata": {},
   "outputs": [],
   "source": []
  },
  {
   "cell_type": "markdown",
   "metadata": {},
   "source": [
    "#### Combined check for any of the two (or more) conditions\n",
    "\n",
    "```python\n",
    "sentence = \"Sphinx of black quartz, judge my vow.\"\n",
    "word1 = \"quarts\"\n",
    "word2 = \"vow\"\n",
    "word3 = \"Sphinx\"\n",
    "\n",
    "if word1 in sentence or word2 in sentence or word3 in sentence:\n",
    "  print(\"At least one of these words found\")\n",
    "else:\n",
    "  print(\"No words, none found\")\n",
    "```"
   ]
  },
  {
   "cell_type": "code",
   "execution_count": null,
   "metadata": {},
   "outputs": [],
   "source": []
  },
  {
   "cell_type": "markdown",
   "metadata": {},
   "source": [
    "#### Nesting (if in if)\n",
    "\n",
    "```python\n",
    "x = int(input(\"Enter coordinate x\"))\n",
    "y = int(input(\"Enter coordinate y\"))\n",
    "\n",
    "if x > 0:\n",
    "  print(\"Point is on the right side\")\n",
    "  if y > 0:\n",
    "    print(\"Point is on the upper side\")\n",
    "  elif y < 0:\n",
    "    print(\"Point is on the lower side\")\n",
    "else:\n",
    "  print(\"Coordinate is on the left side\")\n",
    "```"
   ]
  },
  {
   "cell_type": "code",
   "execution_count": null,
   "metadata": {},
   "outputs": [],
   "source": []
  },
  {
   "cell_type": "markdown",
   "metadata": {},
   "source": [
    "<div class=\"alert alert-info\"><b>Example 03</b></div>\n",
    "Write a program that loads an integer from the keyboard and prints whether it is divisible by 3, 5, 7 and 11. If program finds e.g. that it's divisible by 3, it should skip other checks. It should work the same for all the cases."
   ]
  },
  {
   "cell_type": "code",
   "execution_count": null,
   "metadata": {},
   "outputs": [],
   "source": []
  },
  {
   "cell_type": "markdown",
   "metadata": {},
   "source": [
    "<div class=\"alert alert-info\"><b>Example 04</b></div>\n",
    "Change the last program in the way that it always checks all the conditions. Meaning, if program finds e.g. that it's divisible by 3, it should check also if it's divisible by other numbers."
   ]
  },
  {
   "cell_type": "code",
   "execution_count": null,
   "metadata": {},
   "outputs": [],
   "source": []
  },
  {
   "cell_type": "markdown",
   "metadata": {},
   "source": [
    "<div class=\"alert alert-info\"><b>Example 05</b></div>\n",
    "Write a program that loads three integers from the keyboard and prints the largest of them."
   ]
  },
  {
   "cell_type": "code",
   "execution_count": null,
   "metadata": {},
   "outputs": [],
   "source": []
  },
  {
   "cell_type": "markdown",
   "metadata": {},
   "source": [
    "## Exercises"
   ]
  },
  {
   "cell_type": "markdown",
   "metadata": {},
   "source": [
    "<div class=\"alert alert-info\"><b>Task 01</b></div>\n",
    "Write a program that loads a number from the keyboard and prints whether it is even or not."
   ]
  },
  {
   "cell_type": "code",
   "execution_count": 3,
   "metadata": {},
   "outputs": [
    {
     "name": "stdout",
     "output_type": "stream",
     "text": [
      "10\n",
      "even\n"
     ]
    }
   ],
   "source": [
    "a = int(input('enter the number: '))\n",
    "\n",
    "if(a % 2 == 0): \n",
    "    print('even')\n",
    "else:\n",
    "    print('odd')"
   ]
  },
  {
   "cell_type": "markdown",
   "metadata": {},
   "source": [
    "<div class=\"alert alert-info\"><b>Task 02</b></div>\n",
    "Write a program that loads two numbers (enumerated as 1 and 2) from the keyboard and if first one is greater prints \"Number 1 is greater\", and vice versa. If they are the same print \"Numbers are the same\"."
   ]
  },
  {
   "cell_type": "code",
   "execution_count": 5,
   "metadata": {},
   "outputs": [
    {
     "name": "stdout",
     "output_type": "stream",
     "text": [
      "15 is greater then 10\n"
     ]
    }
   ],
   "source": [
    "num1 = int(input('Input 1st number: '))\n",
    "num2 = int(input('Input 2nd number: '))\n",
    "\n",
    "if(num1 > num2):\n",
    "    print(f\"{num1} is greater then {num2}\")\n",
    "    exit()\n",
    "elif(num2 > num1):\n",
    "    print(f\"{num2} is greater then {num1}\")\n",
    "else: \n",
    "    print('numbers are same')"
   ]
  },
  {
   "cell_type": "markdown",
   "metadata": {},
   "source": [
    "<div class=\"alert alert-info\"><b>Task 03</b></div>\n",
    "Write a program that asks for a command. If command is...\n",
    "\n",
    "* \"run\", print output \"Running...\",\n",
    "* \"stop\" print output \"Done.\"\n",
    "* \"pause\", \"repeat\" or \"skip\" print which command is executed (e.g. \"Executing command: pause\").<br />\n",
    "  Use **or** operator here.\n",
    "* something else, print the command along with the information that is unknown (e.g. \"Unknown command: qwe\")."
   ]
  },
  {
   "cell_type": "code",
   "execution_count": 34,
   "metadata": {},
   "outputs": [
    {
     "name": "stdout",
     "output_type": "stream",
     "text": [
      "Unknown command asdasdas\n"
     ]
    }
   ],
   "source": [
    "command = str(input('give me a command: '))\n",
    "\n",
    "if(command == 'run'):\n",
    "    print('Running...')\n",
    "elif(command == 'stop'):\n",
    "    print('Done')\n",
    "elif(command == 'pause' or command == 'repeat' or command == 'skip'):\n",
    "    print(f'Executing command {command}')\n",
    "else:\n",
    "    print(f'Unknown command: {command}')"
   ]
  },
  {
   "cell_type": "markdown",
   "metadata": {},
   "source": [
    "<div class=\"alert alert-info\"><b>Task 04</b></div>\n",
    "Write a program that loads an integer from the keyboard and prints whether it is divisible by 3 or 7. Otherwise it prints the message \"The loaded number is divisible neither by 3 nor by 7\"."
   ]
  },
  {
   "cell_type": "code",
   "execution_count": 12,
   "metadata": {},
   "outputs": [
    {
     "name": "stdout",
     "output_type": "stream",
     "text": [
      "num is not dicisable by 3 or 7\n"
     ]
    }
   ],
   "source": [
    "num = int(input('enter number: '))\n",
    "\n",
    "if(num % 3 == 0):\n",
    "    print('number is divisible by 3')\n",
    "elif(num % 7 == 0):\n",
    "    print('number is divisible by 7')\n",
    "else:\n",
    "    print('num is not divisable by 3 or 7')"
   ]
  },
  {
   "cell_type": "markdown",
   "metadata": {},
   "source": [
    "<div class=\"alert alert-info\"><b>Task 05</b></div>\n",
    "Write a program that loads two integers and an operation from the user. Valid operations are +, -, * and /. \n",
    "\n",
    "Print the result of the operation nicely formatted, with conditions:\n",
    "- If the operation is not correct, print an error.\n",
    "- If the second number is 0 and the operation is division, print an error."
   ]
  },
  {
   "cell_type": "code",
   "execution_count": 19,
   "metadata": {},
   "outputs": [
    {
     "name": "stdout",
     "output_type": "stream",
     "text": [
      "10.0\n"
     ]
    }
   ],
   "source": [
    "import operator\n",
    "num1 = int(input('enter 1st number: '))\n",
    "num2 = int(input('enter 2nd number: '))\n",
    "opr = str(input('enter operant \"+, -, * or /\": '))\n",
    "\n",
    "ops = {'+': operator.add, '-': operator.sub, '*': operator.mul, '/':operator.truediv}\n",
    "\n",
    "if '+' or '-' or '/' or '*' in opr:\n",
    "    if(num2 == 0 and opr == '/'):\n",
    "        print('math error')\n",
    "    print(ops[opr](num1,num2))\n",
    "else:\n",
    "    print('Wrong operant')\n",
    "    "
   ]
  },
  {
   "cell_type": "markdown",
   "metadata": {},
   "source": [
    "<div class=\"alert alert-info\"><b>Task 06</b></div>\n",
    "Write a program that loads a sentence.\n",
    "\n",
    "If there is a word \"red\" in the sentence then check if the last word in the sentence is \"pill\", and output \"Accept life-changing facts\". \n",
    "\n",
    "If there is a word \"blue\" in the sentence then check if the last word in the sentence is \"pill\", and output \"Remain ignorant\".\n",
    "\n",
    "In \"red\" and \"blue\" case, if the second word is not \"pill\", then output \"Red and blue are colors\"."
   ]
  },
  {
   "cell_type": "code",
   "execution_count": 22,
   "metadata": {},
   "outputs": [
    {
     "name": "stdout",
     "output_type": "stream",
     "text": [
      "Remain ignorant\n"
     ]
    }
   ],
   "source": [
    "sentance = str(input('Write some sentance: '))\n",
    "senToArr = list(sentance.split(\" \"))\n",
    "\n",
    "if 'red' in sentance:\n",
    "    if(senToArr[len(senToArr)-1] == 'pill'):\n",
    "        print('Accept life-changing facts')\n",
    "    elif(senToArr[1] == 'pill'):\n",
    "        print('rad and blue are colors')\n",
    "elif 'blue' in sentance:\n",
    "    if(senToArr[len(senToArr)-1] == 'pill'):\n",
    "        print('Remain ignorant')\n",
    "    elif(senToArr[1] == 'pill'):\n",
    "        print('rad and blue are colors')\n",
    "else: \n",
    "    print('error')\n",
    "    "
   ]
  },
  {
   "cell_type": "markdown",
   "metadata": {},
   "source": [
    "<div class=\"alert alert-info\"><b>Task 07</b></div>\n",
    "Try to simplify the last task as much as you can to avoid repeating the code.\n"
   ]
  },
  {
   "cell_type": "code",
   "execution_count": 33,
   "metadata": {},
   "outputs": [
    {
     "name": "stdout",
     "output_type": "stream",
     "text": [
      "red and blue are colors\n"
     ]
    }
   ],
   "source": [
    "sentance = str(input('Write some sentance: '))\n",
    "senToArr = list(sentance.split(\" \"))\n",
    "\n",
    "if 'red' in sentance:\n",
    "    if(senToArr[len(senToArr)-1] == 'pill'):\n",
    "        print('Accept life-changing facts')\n",
    "\n",
    "elif 'blue' in sentance:\n",
    "    if(senToArr[len(senToArr)-1] == 'pill'):\n",
    "        print('Remain ignorant')\n",
    "\n",
    "if 'red' in sentance or 'blue' in sentance and senToArr[1] == 'pill':\n",
    "    print('red and blue are colors')\n",
    "\n",
    "else:\n",
    "    print('error')"
   ]
  }
 ],
 "metadata": {
  "kernelspec": {
   "display_name": "Python 3.10.5 64-bit",
   "language": "python",
   "name": "python3"
  },
  "language_info": {
   "codemirror_mode": {
    "name": "ipython",
    "version": 3
   },
   "file_extension": ".py",
   "mimetype": "text/x-python",
   "name": "python",
   "nbconvert_exporter": "python",
   "pygments_lexer": "ipython3",
   "version": "3.12.0"
  },
  "orig_nbformat": 4,
  "vscode": {
   "interpreter": {
    "hash": "3553903dba64754d2bfb0d59acd2dbff5bc8fcd3f403a6584ff751f2f4eee55f"
   }
  }
 },
 "nbformat": 4,
 "nbformat_minor": 2
}
