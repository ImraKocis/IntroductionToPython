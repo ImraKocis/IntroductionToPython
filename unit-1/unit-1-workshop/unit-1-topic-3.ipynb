{
 "cells": [
  {
   "cell_type": "markdown",
   "metadata": {},
   "source": [
    "# 1. Introduction to Python\n",
    "## 1.2. Names and name memory model, objects"
   ]
  },
  {
   "cell_type": "markdown",
   "metadata": {},
   "source": [
    "There are 5 simple (built-in, primitive) data types in Python:\n",
    "- **bool** – stores True or False\n",
    "- **int** – stores an integer\n",
    "- **float** – stores a decimal number\n",
    "- **str** – stores zero or more characters (text or string)\n",
    "- **complex** – stores a complex number (x + yj)\n"
   ]
  },
  {
   "cell_type": "markdown",
   "metadata": {},
   "source": [
    "## Variables"
   ]
  },
  {
   "attachments": {},
   "cell_type": "markdown",
   "metadata": {},
   "source": [
    "Variable is a named part of memory large enough to hold data of the requested type.\n",
    "\n",
    "The variable is defined by:\n",
    "- Name\n",
    "    - The name of something (including a variable) is also called an identifier\n",
    "- Data type\n",
    "- Starting address in memory\n",
    "\n",
    "### Creating variables\n",
    "\n",
    "By creating a variable, we take a part of the working memory:\n",
    "```python\n",
    "variable_name = value\n",
    "```\n",
    "\n",
    "Name rules:\n",
    "- The name may contain the following characters:\n",
    "    - Lowercase and uppercase letters of the English alphabet a...z and A...Z\n",
    "    - Digits 0...9\n",
    "    - Underscore (English underscore) _\n",
    "- The name must not start with a digit\n",
    "- The name must not be a Python reserved word\n",
    "- Names are case sensitive\n",
    "    - Number, number, nUmBeR, NUMBER, ... are not the same names\n",
    "\n",
    "### Variable type\n",
    "\n",
    "- Every Python variable is of exactly one type\n",
    "- The variable type is indirectly determined when the variable is created\n",
    "- The type can be changed later (not recommended!)\n",
    "\n",
    "The type can be obtained with the function **type()**\n",
    "\n",
    "### Literals\n",
    "\n",
    "Literals are literal values ​​that we assign to variables. They are written to the right of the equal sign.\n",
    "\n",
    "The following rules apply:\n",
    "- We enter **bool** as True or False\n",
    "- **int** is entered as a positive or negative number without a decimal point\n",
    "- **float** is entered as a number with a decimal point\n",
    "- **complex** is entered as a complex number e.g. 6 + 5j (not 6 + 5i)\n",
    "- **string** is entered as characters inside single or double quotes\n",
    "\n",
    "### Additional variable options\n",
    "\n",
    "We can define a variable using an expression instead of a literal:\n",
    "```python\n",
    "    area = (10.0 * 10.0) / 3.14\n",
    "```\n",
    "When defining variables, we can also use duplicate assignment:\n",
    "```python\n",
    "    a = b = c = 17\n",
    "```\n",
    "In the same expression we can define multiple variables with multiple different values:\n",
    "```python\n",
    "    student, grade, average = \"Ana Anić\", 5, 4.75\n",
    "```"
   ]
  },
  {
   "cell_type": "markdown",
   "metadata": {},
   "source": [
    "## Printing"
   ]
  },
  {
   "cell_type": "markdown",
   "metadata": {},
   "source": [
    "To print, we use the function:\n",
    "```python\n",
    "     print()\n",
    "```\n",
    "\n",
    "As a parameter we can send:\n",
    "- **Nothing** => an empty line is printed\n",
    "- **Literal** => exactly that literal is printed\n",
    "- **Variable** => its value is printed\n",
    "- **Multiple variables separated by commas** => all values separated by spaces are printed\n",
    "\n",
    "Special characters we can print:\n",
    "- **\\n** = also indicates transition to a new line (enter)\n",
    "- **\\t** = indicates tab"
   ]
  },
  {
   "cell_type": "markdown",
   "metadata": {},
   "source": [
    "<br><div class=\"alert alert-info\"><b>Example 01</b></div>\n",
    "Write a program that prints three names: \"Peter\", \"Mark\" and \"Joanna\" - each name on its own line with a blank line in between."
   ]
  },
  {
   "cell_type": "code",
   "execution_count": 1,
   "metadata": {},
   "outputs": [
    {
     "name": "stdout",
     "output_type": "stream",
     "text": [
      "Peter\n",
      "\n",
      "Mark\n",
      "\n",
      "Joanna\n",
      "\n"
     ]
    }
   ],
   "source": [
    "print(\"Peter\\n\")\n",
    "print(\"Mark\\n\")\n",
    "print(\"Joanna\\n\")"
   ]
  },
  {
   "cell_type": "markdown",
   "metadata": {},
   "source": [
    "<br><div class=\"alert alert-info\"><b>Example 02</b></div>\n",
    "Declare 5 variables of different types and assign values to them. Print the type and the value of each variable."
   ]
  },
  {
   "cell_type": "code",
   "execution_count": null,
   "metadata": {},
   "outputs": [],
   "source": [
    "a = True\n",
    "b = 1\n",
    "c = 1.1\n",
    "d = \"string\"\n",
    "e = "
   ]
  },
  {
   "cell_type": "markdown",
   "metadata": {},
   "source": [
    "<br><div class=\"alert alert-info\"><b>Example 03</b></div>\n",
    "Declare two variables and assign them a numeric value. Print the product of those two numbers."
   ]
  },
  {
   "cell_type": "code",
   "execution_count": null,
   "metadata": {},
   "outputs": [],
   "source": []
  },
  {
   "cell_type": "markdown",
   "metadata": {},
   "source": [
    "### Loading a value from the user"
   ]
  },
  {
   "cell_type": "markdown",
   "metadata": {},
   "source": [
    "Loading is done with the function **input()**:\n",
    "```python\n",
    "     variable = input(\"text that the user sees: \")\n",
    "```"
   ]
  },
  {
   "cell_type": "markdown",
   "metadata": {},
   "source": [
    "<br><div class=\"alert alert-info\"><b>Example 04</b></div>\n",
    "Write a program that loads the name from the user and prints the loaded value."
   ]
  },
  {
   "cell_type": "code",
   "execution_count": null,
   "metadata": {},
   "outputs": [],
   "source": []
  },
  {
   "cell_type": "markdown",
   "metadata": {},
   "source": [
    "### Numbers\n",
    "<div class=\"alert alert-info\"><b>Example 05</b></div>\n",
    "Write a program that loads two numbers from the user and prints their sum."
   ]
  },
  {
   "cell_type": "code",
   "execution_count": null,
   "metadata": {},
   "outputs": [],
   "source": []
  },
  {
   "attachments": {},
   "cell_type": "markdown",
   "metadata": {},
   "source": [
    "**Type of the loaded variable is always string!!**\n",
    "\n",
    "We can convert it to the desired type using the functions:\n",
    "- **int()** converts to int\n",
    "- **float()** converts to a float\n",
    "- **complex()** converts to complex\n",
    "- **bool()** converts to bool\n",
    "- **str()** converts to str (really? :D)"
   ]
  },
  {
   "cell_type": "markdown",
   "metadata": {},
   "source": [
    "Let's try to convert string \"-5\" to each of these types."
   ]
  },
  {
   "cell_type": "code",
   "execution_count": null,
   "metadata": {},
   "outputs": [],
   "source": []
  },
  {
   "cell_type": "markdown",
   "metadata": {},
   "source": [
    "<br><div class=\"alert alert-info\"><b>Example 06</b></div>\n",
    "Correct the previous example so that the program adds the two loaded numbers."
   ]
  },
  {
   "cell_type": "code",
   "execution_count": null,
   "metadata": {},
   "outputs": [],
   "source": []
  },
  {
   "cell_type": "markdown",
   "metadata": {},
   "source": [
    "### Mathematical operations\n",
    "Python has built-in support for integers (whole numbers such as 5 and 1,000,000,000) and floating point numbers (such as 3.1416, 14.99, and 1.87e4).\n",
    "\n",
    "You can calculate combinations of numbers with the simple math operators:\n",
    "* `+` addition (like `5 + 8`)\n",
    "* `-` subtraction (like `90 - 10`)\n",
    "* `*` multiplication (like `4 * 7`)\n",
    "* `/` floating point division (like `7 / 2`, which equals `3.5`)\n",
    "* `//` integer (truncating) division (like `7 // 2`, which equals `3`)\n",
    "* `%` modulus (remainder) (like `7 % 3`, which equals `1`)\n",
    "* `**` exponentiation (like `3 ** 4`, which equals `81`)"
   ]
  },
  {
   "cell_type": "code",
   "execution_count": null,
   "metadata": {},
   "outputs": [],
   "source": []
  },
  {
   "cell_type": "markdown",
   "metadata": {},
   "source": [
    "Python doesn't know how to divide with 0."
   ]
  },
  {
   "cell_type": "code",
   "execution_count": null,
   "metadata": {},
   "outputs": [],
   "source": []
  },
  {
   "cell_type": "markdown",
   "metadata": {},
   "source": [
    "<br><div class=\"alert alert-info\"><b>Example 07</b></div>\n",
    "Change the previous example so that the program adds the two loaded numbers and multiplies the sum with 5."
   ]
  },
  {
   "cell_type": "code",
   "execution_count": null,
   "metadata": {},
   "outputs": [],
   "source": []
  },
  {
   "cell_type": "markdown",
   "metadata": {},
   "source": [
    "**Precedence of operations does matter!**\n",
    "\n",
    "These two operations are different:\n",
    "  - result = a2+b2*5\n",
    "  - result = (a2+b2)*5\n",
    "\n",
    "Multiplication has a higher precedence than addition, which means that it's calculated before addition.\n",
    "\n",
    "It's the same as in a common mathematical expression. You have to use brackets."
   ]
  },
  {
   "cell_type": "code",
   "execution_count": null,
   "metadata": {},
   "outputs": [],
   "source": []
  },
  {
   "cell_type": "markdown",
   "metadata": {},
   "source": [
    "<br><div class=\"alert alert-info\"><b>Example 08</b></div>\n",
    "Load first name, last name and the date of birth of a user. Print the loaded values (each on its own line)."
   ]
  },
  {
   "cell_type": "code",
   "execution_count": null,
   "metadata": {},
   "outputs": [],
   "source": []
  },
  {
   "cell_type": "markdown",
   "metadata": {},
   "source": [
    "<br><div class=\"alert alert-info\"><b>Example 09</b></div>\n",
    "Write a program that converts engine power from kW to horsepower (1 kw = 1.341 Ks). Load the motor power in kW from the user."
   ]
  },
  {
   "cell_type": "code",
   "execution_count": null,
   "metadata": {},
   "outputs": [],
   "source": []
  },
  {
   "cell_type": "markdown",
   "metadata": {},
   "source": [
    "<br><div class=\"alert alert-info\"><b>Example 10</b></div>\n",
    "The student received grades 2, 4, 4, 5, 3, 5. Calculate the mean score and standard deviation.\n",
    "\n",
    "#### Standard deviation\n",
    "![deviation](Images/deviation.JPG)\n",
    "\n",
    "#### Exponentiation and the square root\n",
    "\n",
    "You need to load the **math** library:\n",
    "```python\n",
    "     import math as m\n",
    "```\n",
    "Exponentiation:\n",
    "```python\n",
    "     m.pow(base, exponent)\n",
    "```\n",
    "Square root:\n",
    "```python\n",
    "     m.sqrt(value)\n",
    "```"
   ]
  },
  {
   "cell_type": "code",
   "execution_count": null,
   "metadata": {},
   "outputs": [],
   "source": []
  },
  {
   "cell_type": "markdown",
   "metadata": {},
   "source": [
    "<br><div class=\"alert alert-info\"><b>Example 11</b></div>\n",
    "Write a program that takes three inputs and outputs in the following manner: first output is not indented, second output is indented with 2 spaces and third output is indented with 4 spaces."
   ]
  },
  {
   "cell_type": "code",
   "execution_count": null,
   "metadata": {},
   "outputs": [],
   "source": [
    "\n"
   ]
  },
  {
   "cell_type": "markdown",
   "metadata": {},
   "source": [
    "<br><div class=\"alert alert-info\"><b>Example 12</b></div>\n",
    "Write a program that takes an input and writes that input 10 times in a row, with space between each print and at the end.\n",
    "For input \"John\", output should be \"John John John John John John John John John John \"."
   ]
  },
  {
   "cell_type": "code",
   "execution_count": null,
   "metadata": {},
   "outputs": [],
   "source": []
  },
  {
   "cell_type": "markdown",
   "metadata": {},
   "source": [
    "<br><div class=\"alert alert-info\"><b>Example 13</b></div>\n",
    "Write a program that takes a first and a last name. Then output a greeting message with the acronym.\n",
    "For John Smith, the message should be \"Hi JS!\""
   ]
  },
  {
   "cell_type": "code",
   "execution_count": null,
   "metadata": {},
   "outputs": [],
   "source": []
  },
  {
   "cell_type": "markdown",
   "metadata": {},
   "source": [
    "<br><div class=\"alert alert-info\"><b>Example 14</b></div>\n",
    "Write a program that takes two numbers and uses them as start and end position.\n",
    "Then it outputs all the letters of an alphabet from start to end position.\n",
    "\n",
    "> Pay attention: positions of letters in Python string are called indices. \n",
    ">\n",
    "> Indices start at **0**, not at 1.\n",
    "\n",
    "For 4 and 9, the output should be **efghi**.\n"
   ]
  },
  {
   "cell_type": "code",
   "execution_count": null,
   "metadata": {},
   "outputs": [],
   "source": []
  },
  {
   "cell_type": "markdown",
   "metadata": {},
   "source": [
    "<br><div class=\"alert alert-info\"><b>Example 15</b></div>\n",
    "Correct the last program in order to take into account a position that would be easier to understand by a human. Meaning that positioning should start from 1.\n",
    "\n",
    "For 4 and 9, the output should be **defgh**.\n"
   ]
  },
  {
   "cell_type": "code",
   "execution_count": null,
   "metadata": {},
   "outputs": [],
   "source": []
  },
  {
   "cell_type": "markdown",
   "metadata": {},
   "source": [
    "> If you omit the second number, it means until the end of the string. E.g. `alphabet[10:]` would mean `\"klmnopqrstuvwxyz\"`"
   ]
  },
  {
   "cell_type": "markdown",
   "metadata": {},
   "source": [
    "<br><div class=\"alert alert-info\"><b>Example 16</b></div>\n",
    "Write the program that takes a sentence and outputs:\n",
    "- length of the sentence\n",
    "- sentence with first word capitalized (if it isn't already)\n",
    "- uppercase sentence\n",
    "- lowercase sentence\n",
    "- capitalized all the words in the sentence\n",
    "- toggle-cased sentence\n",
    "\n",
    "For \"print MY sentence.\", it should output:\n",
    "```\n",
    "18\n",
    "Print my sentence.\n",
    "PRINT MY SENTENCE.\n",
    "print my sentence.\n",
    "Print My Sentence.\n",
    "PRINT my SENTENCE.\n",
    "```"
   ]
  },
  {
   "cell_type": "code",
   "execution_count": null,
   "metadata": {},
   "outputs": [],
   "source": []
  },
  {
   "cell_type": "markdown",
   "metadata": {},
   "source": [
    "<br><div class=\"alert alert-info\"><b>Example 17</b></div>\n",
    "Say the output shoud be 80 characters wide.\n",
    "Print the sentence \"The five boxing wizards jump quickly\":\n",
    "* centered\n",
    "* right justified\n",
    "* left justified (meaning spaces are added on the right side)\n",
    "\n",
    "Use pipe (or \"|\") character on each start and end of the output."
   ]
  },
  {
   "cell_type": "code",
   "execution_count": null,
   "metadata": {},
   "outputs": [],
   "source": []
  },
  {
   "cell_type": "markdown",
   "metadata": {},
   "source": [
    "<br><div class=\"alert alert-info\"><b>Example 18</b></div>\n",
    "Write a program that takes a first and a last name, and outputs the greeting like this:\n",
    "\n",
    "`Hello John Smith, how are you doing today?`\n",
    "\n",
    "If user enters spaces at the end or start of the input, remove those spaces.\n",
    "Use the string formatting to output the greeting."
   ]
  },
  {
   "cell_type": "code",
   "execution_count": null,
   "metadata": {},
   "outputs": [],
   "source": []
  },
  {
   "cell_type": "markdown",
   "metadata": {},
   "source": [
    "> There are also lstrip() and rstrip() functions, try them!"
   ]
  },
  {
   "cell_type": "markdown",
   "metadata": {},
   "source": [
    "<br><div class=\"alert alert-info\"><b>Example 19</b></div>\n",
    "Store the sentence \"The five boxing wizards jump quickly\" into variable, hardcoded.\n",
    "\n",
    "Then do the following tasks:\n",
    "\n",
    "* split that sentence into words and print all the words\n",
    "* print first, second and third word\n",
    "* print first letter of the first word, second letter of the second word and and third letter of the third word"
   ]
  },
  {
   "cell_type": "code",
   "execution_count": null,
   "metadata": {},
   "outputs": [],
   "source": []
  },
  {
   "cell_type": "markdown",
   "metadata": {},
   "source": [
    "> If you pass the parameter to the `split()` function, it will split the string around the passed parameter (character or words).\n",
    ">\n",
    "> The following program...\n",
    "> ```\n",
    "> str1 = \"ZG-1234-AB\"\n",
    "> print(str1.split(\"-\"))\n",
    "> ```\n",
    "> ...will output: [\"ZG\", \"1234\", \"AB\"]\n"
   ]
  },
  {
   "cell_type": "markdown",
   "metadata": {},
   "source": [
    "## Exercises"
   ]
  },
  {
   "cell_type": "markdown",
   "metadata": {},
   "source": [
    "<br><div class=\"alert alert-info\"><b>Task 01</b></div>\n",
    "Write a program that prints three words: \"Hello\", \"World\", \"Python\", each on its own line, separated by a blank line."
   ]
  },
  {
   "cell_type": "code",
   "execution_count": 2,
   "metadata": {},
   "outputs": [
    {
     "name": "stdout",
     "output_type": "stream",
     "text": [
      "Hello\n",
      "\n",
      "World\n",
      "\n",
      "Python\n"
     ]
    }
   ],
   "source": [
    "print(\"Hello\\n\")\n",
    "print(\"World\\n\")\n",
    "print(\"Python\")"
   ]
  },
  {
   "cell_type": "markdown",
   "metadata": {},
   "source": [
    "<br><div class=\"alert alert-info\"><b>Task 02</b></div>\n",
    "Store the value 52 in the variable named *number*. Print the variable on the screen."
   ]
  },
  {
   "cell_type": "code",
   "execution_count": 3,
   "metadata": {},
   "outputs": [
    {
     "data": {
      "text/plain": [
       "52"
      ]
     },
     "execution_count": 3,
     "metadata": {},
     "output_type": "execute_result"
    }
   ],
   "source": [
    "number = 52\n",
    "number"
   ]
  },
  {
   "cell_type": "markdown",
   "metadata": {},
   "source": [
    "<br><div class=\"alert alert-info\"><b>Task 03</b></div>\n",
    "Write a program that stores the number 10 in one variable, the number 25 in another, and prints the sum, product, difference and quotient of these numbers. Format the printout so that each printout is on its own line, and both the operands and the operator are printed. \n",
    "\n",
    "For example, for the product it is necessary to print: \"10 * 25 = 250\"."
   ]
  },
  {
   "cell_type": "code",
   "execution_count": 4,
   "metadata": {},
   "outputs": [
    {
     "name": "stdout",
     "output_type": "stream",
     "text": [
      "10 + 25 = 35\n",
      "10 * 25 = 250\n",
      "10 - 25 = -15\n",
      "10 / 25 = 0.4\n"
     ]
    }
   ],
   "source": [
    "num1 = 10\n",
    "num2 = 25\n",
    "\n",
    "sum_result = num1 + num2\n",
    "print(f\"{num1} + {num2} = {sum_result}\")\n",
    "\n",
    "product_result = num1 * num2\n",
    "print(f\"{num1} * {num2} = {product_result}\")\n",
    "\n",
    "difference_result = num1 - num2\n",
    "print(f\"{num1} - {num2} = {difference_result}\")\n",
    "\n",
    "quotient_result = num1 / num2\n",
    "print(f\"{num1} / {num2} = {quotient_result}\")"
   ]
  },
  {
   "cell_type": "markdown",
   "metadata": {},
   "source": [
    "<br><div class=\"alert alert-info\"><b>Task 04</b></div>\n",
    "Write a program that prints the left and right digits of a given two-digit number. Each digit should be printed on a separate line. Let the number be assigned directly in the program (*hardcoded*)!"
   ]
  },
  {
   "cell_type": "code",
   "execution_count": 5,
   "metadata": {},
   "outputs": [
    {
     "name": "stdout",
     "output_type": "stream",
     "text": [
      "Left digit: 4\n",
      "Right digit: 2\n"
     ]
    }
   ],
   "source": [
    "number = 42\n",
    "\n",
    "left_digit = number // 10\n",
    "right_digit = number % 10\n",
    "\n",
    "print(\"Left digit:\", left_digit)\n",
    "print(\"Right digit:\", right_digit)"
   ]
  },
  {
   "cell_type": "markdown",
   "metadata": {},
   "source": [
    "<br><div class=\"alert alert-info\"><b>Task 05</b></div>\n",
    "Declare a variable, and load an integer from the user into it. Print the variable to the screen."
   ]
  },
  {
   "cell_type": "code",
   "execution_count": 6,
   "metadata": {},
   "outputs": [
    {
     "name": "stdout",
     "output_type": "stream",
     "text": [
      "You entered: 15\n"
     ]
    }
   ],
   "source": [
    "user_input = input(\"Enter an integer: \")\n",
    "\n",
    "try:\n",
    "    user_integer = int(user_input)\n",
    "    print(\"You entered:\", user_integer)\n",
    "except ValueError:\n",
    "    print(\"Invalid input. Please enter a valid integer.\")"
   ]
  },
  {
   "cell_type": "markdown",
   "metadata": {},
   "source": [
    "<br><div class=\"alert alert-info\"><b>Task 06</b></div>\n",
    "Write a program that loads a person's height in centimeters and that person's name, and prints a message of the form (for entered data 176 and Pete) <br>\n",
    "Person Pete is 176 centimeters tall."
   ]
  },
  {
   "cell_type": "code",
   "execution_count": 7,
   "metadata": {},
   "outputs": [
    {
     "name": "stdout",
     "output_type": "stream",
     "text": [
      "Person petar is 180 centimeters tall.\n"
     ]
    }
   ],
   "source": [
    "name = input(\"Enter the person's name: \")\n",
    "height_cm = input(\"Enter the person's height in centimeters: \")\n",
    "\n",
    "try:\n",
    "    height_cm = int(height_cm)\n",
    "except ValueError:\n",
    "    print(\"Invalid input. Please enter a valid height in centimeters.\")\n",
    "    exit()\n",
    "\n",
    "print(f\"Person {name} is {height_cm} centimeters tall.\")"
   ]
  },
  {
   "cell_type": "markdown",
   "metadata": {},
   "source": [
    "<br><div class=\"alert alert-info\"><b>Task 07</b></div>\n",
    "Write a program that loads an integer from the keyboard and prints its product with 16 and the sum with 42."
   ]
  },
  {
   "cell_type": "code",
   "execution_count": 8,
   "metadata": {},
   "outputs": [
    {
     "name": "stdout",
     "output_type": "stream",
     "text": [
      "55 * 16 = 880\n",
      "55 + 42 = 97\n"
     ]
    }
   ],
   "source": [
    "user_input = input(\"Enter an integer: \")\n",
    "\n",
    "try:\n",
    "    user_integer = int(user_input)\n",
    "except ValueError:\n",
    "    print(\"Invalid input. Please enter a valid integer.\")\n",
    "    exit()\n",
    "\n",
    "product = user_integer * 16\n",
    "sum_result = user_integer + 42\n",
    "\n",
    "print(f\"{user_integer} * 16 = {product}\")\n",
    "print(f\"{user_integer} + 42 = {sum_result}\")"
   ]
  },
  {
   "cell_type": "markdown",
   "metadata": {},
   "source": [
    "<br><div class=\"alert alert-info\"><b>Task 08</b></div>\n",
    "Write a program that loads the length of the sides of a rectangle and prints its area and perimeter."
   ]
  },
  {
   "cell_type": "code",
   "execution_count": 9,
   "metadata": {},
   "outputs": [
    {
     "name": "stdout",
     "output_type": "stream",
     "text": [
      "The area of the rectangle is: 20.0\n",
      "The perimeter of the rectangle is: 18.0\n"
     ]
    }
   ],
   "source": [
    "length = float(input(\"Enter the length of the rectangle: \"))\n",
    "width = float(input(\"Enter the width of the rectangle: \"))\n",
    "\n",
    "area = length * width\n",
    "perimeter = 2 * (length + width)\n",
    "\n",
    "print(f\"The area of the rectangle is: {area}\")\n",
    "print(f\"The perimeter of the rectangle is: {perimeter}\")"
   ]
  },
  {
   "cell_type": "markdown",
   "metadata": {},
   "source": [
    "<br><div class=\"alert alert-info\"><b>Task 09</b></div>\n",
    "Write a program that loads the radius of a circle and prints its area and perimeter (P=r<sup>2</sup>ℿ, O=2rℿ)."
   ]
  },
  {
   "cell_type": "code",
   "execution_count": 10,
   "metadata": {},
   "outputs": [
    {
     "name": "stdout",
     "output_type": "stream",
     "text": [
      "The area of the circle is: 50.26548245743669\n",
      "The perimeter (circumference) of the circle is: 25.132741228718345\n"
     ]
    }
   ],
   "source": [
    "import math\n",
    "\n",
    "radius = float(input(\"Enter the radius of the circle: \"))\n",
    "\n",
    "area = math.pi * (radius ** 2)\n",
    "perimeter = 2 * math.pi * radius\n",
    "\n",
    "print(f\"The area of the circle is: {area}\")\n",
    "print(f\"The perimeter (circumference) of the circle is: {perimeter}\")"
   ]
  },
  {
   "cell_type": "markdown",
   "metadata": {},
   "source": [
    "<br><div class=\"alert alert-info\"><b>Task 10</b></div>\n",
    "Write a program that loads the distance in kilometers and prints the distance in miles (1 mile is approximately 1.6km)"
   ]
  },
  {
   "cell_type": "code",
   "execution_count": 11,
   "metadata": {},
   "outputs": [
    {
     "name": "stdout",
     "output_type": "stream",
     "text": [
      "The distance is approximately 346.875 miles.\n"
     ]
    }
   ],
   "source": [
    "distance_km = float(input(\"Enter the distance in kilometers: \"))\n",
    "\n",
    "distance_miles = distance_km / 1.6\n",
    "\n",
    "print(f\"The distance is approximately {distance_miles} miles.\")"
   ]
  },
  {
   "cell_type": "markdown",
   "metadata": {},
   "source": [
    "<br><div class=\"alert alert-info\"><b>Task 11</b></div>\n",
    "Write a program that loads the heights of 3 students and prints the average height"
   ]
  },
  {
   "cell_type": "code",
   "execution_count": 12,
   "metadata": {},
   "outputs": [
    {
     "name": "stdout",
     "output_type": "stream",
     "text": [
      "The average height of the three students is: 180.0 centimeters\n"
     ]
    }
   ],
   "source": [
    "height1 = float(input(\"Enter the height of the first student (in centimeters): \"))\n",
    "height2 = float(input(\"Enter the height of the second student (in centimeters): \"))\n",
    "height3 = float(input(\"Enter the height of the third student (in centimeters): \"))\n",
    "\n",
    "average_height = (height1 + height2 + height3) / 3\n",
    "\n",
    "print(f\"The average height of the three students is: {average_height} centimeters\")"
   ]
  },
  {
   "cell_type": "markdown",
   "metadata": {},
   "source": [
    "<br><div class=\"alert alert-info\"><b>Task 12</b></div>\n",
    "An athlete throws the javelin and throws the following distances in 5 attempts: 92 m, 97 m, 95.4 m, 90.1 m, 96 m. Calculate the average distance."
   ]
  },
  {
   "cell_type": "code",
   "execution_count": 13,
   "metadata": {},
   "outputs": [
    {
     "name": "stdout",
     "output_type": "stream",
     "text": [
      "The average distance thrown by the athlete is: 94.1 meters\n"
     ]
    }
   ],
   "source": [
    "distances = [92, 97, 95.4, 90.1, 96]\n",
    "\n",
    "average_distance = sum(distances) / len(distances)\n",
    "\n",
    "print(f\"The average distance thrown by the athlete is: {average_distance} meters\")"
   ]
  },
  {
   "cell_type": "markdown",
   "metadata": {},
   "source": [
    "<br><div class=\"alert alert-info\"><b>Task 13</b></div>\n",
    "Read a character from the user and draw something like this using that character (assuming that user entered *x*):\n",
    "```\n",
    "|   x     |\n",
    "|  xxx    |\n",
    "| xxxxx   |\n",
    "```"
   ]
  },
  {
   "cell_type": "code",
   "execution_count": 14,
   "metadata": {},
   "outputs": [
    {
     "name": "stdout",
     "output_type": "stream",
     "text": [
      "|   k     |\n",
      "|  kkk    |\n",
      "| kkkkk   |\n"
     ]
    }
   ],
   "source": [
    "character = input(\"Enter a character: \")\n",
    "\n",
    "print(f\"|   {character}     |\")\n",
    "print(f\"|  {character * 3}    |\")\n",
    "print(f\"| {character * 5}   |\")"
   ]
  },
  {
   "cell_type": "markdown",
   "metadata": {},
   "source": [
    "<br><div class=\"alert alert-info\"><b>Task 14</b></div>\n",
    "Write a program that takes a word and outputs:\n",
    "* the first half in uppercase\n",
    "* the second half in lowercase\n",
    "\n",
    "E.g. for \"sOmElOnGwOrD\" it should output \"SOMELOngword\""
   ]
  },
  {
   "cell_type": "code",
   "execution_count": 15,
   "metadata": {},
   "outputs": [
    {
     "name": "stdout",
     "output_type": "stream",
     "text": [
      "SOMELOngword\n"
     ]
    }
   ],
   "source": [
    "word = input(\"Enter a word: \")\n",
    "\n",
    "word_length = len(word)\n",
    "\n",
    "midpoint = word_length // 2\n",
    "\n",
    "first_half = word[:midpoint].upper()\n",
    "second_half = word[midpoint:].lower()\n",
    "\n",
    "result = first_half + second_half\n",
    "print(result)"
   ]
  },
  {
   "cell_type": "markdown",
   "metadata": {},
   "source": [
    "<br><div class=\"alert alert-info\"><b>Task 15</b></div>\n",
    "Write a program that takes a template and replaces all occurrences of `%ITEM%` and `%PRICE%` with appropriate inputs from the user.\n",
    "For replacing a word in a string use `replace()` function, like this: `word.replace(\"original\", \"replacement\")`.\n",
    "\n",
    "Template is the following string:\n",
    "`template = \"Item name: %ITEM%\\nPrice: %PRICE%\\n\\nPrice for %ITEM% is $%PRICE%\"`"
   ]
  },
  {
   "cell_type": "code",
   "execution_count": 16,
   "metadata": {},
   "outputs": [
    {
     "name": "stdout",
     "output_type": "stream",
     "text": [
      "Item name: Riza\n",
      "Price: 15\n",
      "\n",
      "Price for Riza is $15\n"
     ]
    }
   ],
   "source": [
    "template = \"Item name: %ITEM%\\nPrice: %PRICE%\\n\\nPrice for %ITEM% is $%PRICE%\"\n",
    "\n",
    "item_name = input(\"Enter the item name: \")\n",
    "item_price = input(\"Enter the price: \")\n",
    "\n",
    "template = template.replace(\"%ITEM%\", item_name)\n",
    "template = template.replace(\"%PRICE%\", item_price)\n",
    "\n",
    "print(template)"
   ]
  }
 ],
 "metadata": {
  "kernelspec": {
   "display_name": "Python 3.10.5 64-bit",
   "language": "python",
   "name": "python3"
  },
  "language_info": {
   "codemirror_mode": {
    "name": "ipython",
    "version": 3
   },
   "file_extension": ".py",
   "mimetype": "text/x-python",
   "name": "python",
   "nbconvert_exporter": "python",
   "pygments_lexer": "ipython3",
   "version": "3.12.0"
  },
  "vscode": {
   "interpreter": {
    "hash": "3553903dba64754d2bfb0d59acd2dbff5bc8fcd3f403a6584ff751f2f4eee55f"
   }
  }
 },
 "nbformat": 4,
 "nbformat_minor": 2
}
