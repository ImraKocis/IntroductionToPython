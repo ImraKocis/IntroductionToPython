{
 "cells": [
  {
   "cell_type": "markdown",
   "metadata": {},
   "source": [
    "# 4. Classes"
   ]
  },
  {
   "cell_type": "markdown",
   "metadata": {},
   "source": [
    "## 4.2. Inheritance and advanced concepts"
   ]
  },
  {
   "cell_type": "markdown",
   "metadata": {},
   "source": [
    "<div class=\"alert alert-info\"><b>Example 01</b></div>\n",
    "\n",
    "Create two simple classes: Parent and Child. Child should inherit the parent.\n",
    "\n",
    "Then add attribute `parent_attr` (string) to Parent and `child_attribute` (string) to child.\n",
    "\n",
    "Create string representation method of Parent and Child class with all of their attributes."
   ]
  },
  {
   "cell_type": "code",
   "execution_count": 1,
   "metadata": {},
   "outputs": [
    {
     "name": "stdout",
     "output_type": "stream",
     "text": [
      "parent_attr: 5\n",
      "parent_attr: 10, child_attr: 15\n"
     ]
    }
   ],
   "source": [
    "class Parent():\n",
    "    def __init__(self, parent_attr):\n",
    "        self.parent_attr = parent_attr\n",
    "    def __str__(self):\n",
    "        return f\"parent_attr: {self.parent_attr}\"\n",
    "\n",
    "class Child(Parent):\n",
    "    def __init__(self, parent_attr, child_attr):\n",
    "        super().__init__(parent_attr)\n",
    "        self.child_attr = child_attr\n",
    "    def __str__(self):\n",
    "        return f\"parent_attr: {self.parent_attr}, child_attr: {self.child_attr}\"\n",
    "\n",
    "p = Parent(5)\n",
    "c = Child(10, 15)\n",
    "\n",
    "print(p)\n",
    "print(c)"
   ]
  },
  {
   "cell_type": "markdown",
   "metadata": {},
   "source": [
    "<div class=\"alert alert-info\"><b>Example 02</b></div>\n",
    "\n",
    "Use previous example: add method `print_attr()` to Parent call it on Child. Which attribute does it print?\n",
    "\n",
    "Now override method `print_attr()` on Child with differently printed message and call it. Can it be called from Parent instance?"
   ]
  },
  {
   "cell_type": "code",
   "execution_count": null,
   "metadata": {},
   "outputs": [],
   "source": [
    "class Parent():\n",
    "    def __init__(self, parent_attr):\n",
    "        self.parent_attr = parent_attr\n",
    "    def __str__(self):\n",
    "        return f\"parent_attr: {self.parent_attr}\"\n",
    "    def print_attr(self):\n",
    "        print(self.parent_attr)\n",
    "\n",
    "class Child(Parent):\n",
    "    def __init__(self, parent_attr, child_attr):\n",
    "        super().__init__(parent_attr)\n",
    "        self.child_attr = child_attr\n",
    "    def __str__(self):\n",
    "        return f\"parent_attr: {self.parent_attr}, child_attr: {self.child_attr}\"\n",
    "    def print_attr(self):\n",
    "        print(self.parent_attr)\n",
    "\n",
    "p = Parent(5)\n",
    "c = Child(10, 15)\n",
    "\n",
    "print(p)\n",
    "print(c)\n",
    "\n",
    "p.print_attr()\n",
    "c.print_attr()"
   ]
  },
  {
   "cell_type": "markdown",
   "metadata": {},
   "source": [
    "<div class=\"alert alert-info\"><b>Example 03</b></div>\n",
    "\n",
    "Write a class that takes `word` (string) as an attribute, and has a method `repeat_word()` that takes a number, and prints the word that number of times.\n",
    "\n",
    "Write a class that inherits it and in method `repeat_verified()` if the word is of length between 5 and 10 characters and if number is between 2 and 5. If not, an appropriate error is displayed, otherwise `repeat_word()` method is invoked.\n",
    "\n",
    "*Note: when calling base class method from child, we can either use `self` or `super()`. But if that method is overridden by child, `self` will call the method on child, and `super()` will call method on parent (base).*"
   ]
  },
  {
   "cell_type": "code",
   "execution_count": null,
   "metadata": {},
   "outputs": [],
   "source": [
    "class Repeater():\n",
    "    def __init__(self, word):\n",
    "        self.word = word\n",
    "    def repeat_word(self, n):\n",
    "        print(self.word * n)\n",
    "\n",
    "class VerifiedRepeater(Repeater):\n",
    "    def __init__(self, word):\n",
    "        self.word = word\n",
    "    def repeat_verified(self, n):\n",
    "        if len(self.word) < 5 or len(self.word) > 10:\n",
    "            print(\"Word is either too small or too large\")\n",
    "        elif n < 2 or n > 5:    \n",
    "            print(\"Number is too small or too large\")\n",
    "        else:\n",
    "            self.repeat_word(n)\n",
    "        \n",
    "rep = VerifiedRepeater(\"some\")\n",
    "rep.repeat_verified(3)"
   ]
  },
  {
   "cell_type": "markdown",
   "metadata": {},
   "source": [
    "<div class=\"alert alert-info\"><b>Example 04</b></div>\n",
    "\n",
    "Let's abstract location types as house and building.\n",
    "\n",
    "Write a `Location` class with attributes `number` (int) and `street` (string) initialized in constructor and a string representation method in format: `{street} number`.\n",
    "\n",
    "Write a `House` class that inherits `Location` and adds another attribute `owner` (string).\n",
    "\n",
    "Write a `Building` class that inherits `House` and adds another attribute `number_of_appartments` (int).\n",
    "\n",
    "Instance them and print string representations."
   ]
  },
  {
   "cell_type": "code",
   "execution_count": null,
   "metadata": {},
   "outputs": [],
   "source": [
    "class Location():\n",
    "    def __init__(self, number, street):\n",
    "        self.number = int(number)\n",
    "        self.street = street\n",
    "    def __str__(self):\n",
    "        return f\"{self.street} {self.number}\"\n",
    "\n",
    "class House(Location):\n",
    "    def __init__(self, number, street, owner):\n",
    "        super().__init__(number, street)\n",
    "        self.owner = owner\n",
    "    def __str__(self):\n",
    "        return f\"{self.street} {self.number} - {self.owner}\"\n",
    "\n",
    "class Building(House):\n",
    "    def __init__(self, number, street, owner, number_of_appartments):\n",
    "        super().__init__(number, street, owner)\n",
    "        self.number_of_appartments = int(number_of_appartments)\n",
    "    def __str__(self):\n",
    "        return f\"{self.street} {self.number} - {self.owner} ({self.number_of_appartments} appartments)\"\n",
    "\n",
    "l = Location(\"3\", \"Upper Street\")\n",
    "h = House(\"3\", \"Upper Street\", \"Jane Smith\")\n",
    "b = Building(\"3\", \"Upper Street\", \"Jane Smith\", 5)\n",
    "\n",
    "print(l)\n",
    "print(h)\n",
    "print(b)"
   ]
  },
  {
   "cell_type": "markdown",
   "metadata": {},
   "source": [
    "<div class=\"alert alert-info\"><b>Example 05</b></div>\n",
    "\n",
    "Create UML diagram for the previous example.\n",
    "\n",
    "Use [diagrams.net](https://app.diagrams.net) application for that."
   ]
  },
  {
   "cell_type": "markdown",
   "metadata": {},
   "source": [
    "![Class diagram](./Images/diagram.drawio.png)"
   ]
  },
  {
   "cell_type": "markdown",
   "metadata": {},
   "source": [
    "<div class=\"alert alert-info\"><b>Example 06</b></div>\n",
    "\n",
    "Create two instances of each class from previous task and add them to the list.\n",
    "\n",
    "At the end, loop through the list and print instances."
   ]
  },
  {
   "cell_type": "code",
   "execution_count": null,
   "metadata": {},
   "outputs": [],
   "source": [
    "class Location():\n",
    "    def __init__(self, number, street):\n",
    "        self.number = int(number)\n",
    "        self.street = street\n",
    "    def __str__(self):\n",
    "        return f\"{self.street} {self.number}\"\n",
    "\n",
    "class House(Location):\n",
    "    def __init__(self, number, street, owner):\n",
    "        super().__init__(number, street)\n",
    "        self.owner = owner\n",
    "    def __str__(self):\n",
    "        return f\"{self.street} {self.number} - {self.owner}\"\n",
    "\n",
    "class Building(House):\n",
    "    def __init__(self, number, street, owner, number_of_appartments):\n",
    "        super().__init__(number, street, owner)\n",
    "        self.number_of_appartments = int(number_of_appartments)\n",
    "    def __str__(self):\n",
    "        return f\"{self.street} {self.number} - {self.owner} ({self.number_of_appartments} appartments)\"\n",
    "\n",
    "list = []\n",
    "\n",
    "list.append(Location(\"3\", \"Upper Street\"))\n",
    "list.append(Location(\"54\", \"Lower Street\"))\n",
    "list.append(House(\"4\", \"Upper Street\", \"Jane Smith\"))\n",
    "list.append(House(\"55\", \"Lower Street\", \"John Smith\"))\n",
    "list.append(Building(\"5\", \"Upper Street\", \"Jane Smith\", 5))\n",
    "list.append(Building(\"66\", \"Lower Street\", \"John Smith\", 12))\n",
    "\n",
    "for item in list:\n",
    "    print(item)"
   ]
  },
  {
   "cell_type": "markdown",
   "metadata": {},
   "source": [
    "## Modules"
   ]
  },
  {
   "cell_type": "markdown",
   "metadata": {},
   "source": [
    "<div class=\"alert alert-info\"><b>Example 07</b></div>\n",
    "\n",
    "Write a program in which you ask user to input a whole number from 1 to 30.\n",
    "If number is smaller than 1 or larger than 30, retry the input.\n",
    "\n",
    "Use `math.factorial` function to calculate the factorial, but avoid loading other functions and constants from `math` module!"
   ]
  },
  {
   "cell_type": "code",
   "execution_count": null,
   "metadata": {},
   "outputs": [],
   "source": [
    "from math import factorial\n",
    "\n",
    "while True:\n",
    "  num = int(input(\"Enter a whole number from 1 to 30\"))\n",
    "  if num < 1 or num > 30:\n",
    "    print(\"Number should be from 1 to 30\")\n",
    "    continue\n",
    "  else:\n",
    "    print(factorial(num))\n",
    "    break"
   ]
  },
  {
   "cell_type": "markdown",
   "metadata": {},
   "source": [
    "<div class=\"alert alert-info\"><b>Example 08</b></div>\n",
    "\n",
    "Write a function `random_random()` that returns random number (between 1 and 10) of random numbers (between 1 and 10):\n",
    "\n",
    "Create `random_random()` function in a separate notebook, in a subfolder."
   ]
  },
  {
   "cell_type": "code",
   "execution_count": null,
   "metadata": {},
   "outputs": [],
   "source": [
    "%run ./modules/my_module.ipynb\n",
    "\n",
    "list = random_random()\n",
    "print(list)"
   ]
  },
  {
   "cell_type": "markdown",
   "metadata": {},
   "source": [
    "## Iterators and generators"
   ]
  },
  {
   "cell_type": "markdown",
   "metadata": {},
   "source": [
    "<div class=\"alert alert-info\"><b>Example 09</b></div>\n",
    "\n",
    "Write a simple number generator that starts with 1, ends before 10 and skips every 2nd number.\n"
   ]
  },
  {
   "cell_type": "code",
   "execution_count": null,
   "metadata": {},
   "outputs": [],
   "source": [
    "def number_gen():\n",
    "  n = 1\n",
    "  while n < 10:\n",
    "    yield n\n",
    "    n += 2\n",
    "\n",
    "for n in number_gen():\n",
    "  print(n)"
   ]
  },
  {
   "cell_type": "markdown",
   "metadata": {},
   "source": [
    "<div class=\"alert alert-info\"><b>Example 10</b></div>\n",
    "\n",
    "Write a simple number iterator that does the same as generator from prevous example.\n"
   ]
  },
  {
   "cell_type": "code",
   "execution_count": null,
   "metadata": {},
   "outputs": [],
   "source": [
    "class NumberIterator:\n",
    "  def __iter__(self):\n",
    "    self.n = 1\n",
    "    return self\n",
    "\n",
    "  def __next__(self):\n",
    "    if self.n < 10:\n",
    "      ret = self.n\n",
    "      self.n += 2\n",
    "      return ret\n",
    "    else:\n",
    "      raise StopIteration\n",
    "  \n",
    "ni = iter(NumberIterator())\n",
    "\n",
    "for x in ni:\n",
    "  print(x)"
   ]
  },
  {
   "cell_type": "markdown",
   "metadata": {},
   "source": [
    "<div class=\"alert alert-info\"><b>Example 11</b></div>\n",
    "\n",
    "Write a generator that returns numbers from 1 to n, that are not divisible with 2 or 5.\n"
   ]
  },
  {
   "cell_type": "code",
   "execution_count": null,
   "metadata": {},
   "outputs": [],
   "source": [
    "def number_gen(n):\n",
    "  for i in range(n):\n",
    "    if not(i%2==0 or i%5==0):\n",
    "      yield i\n",
    "\n",
    "for n in number_gen(10):\n",
    "  print(n)"
   ]
  },
  {
   "cell_type": "markdown",
   "metadata": {},
   "source": [
    "## Exercises"
   ]
  },
  {
   "cell_type": "markdown",
   "metadata": {},
   "source": [
    "<div class=\"alert alert-info\"><b>Task 01</b></div>\n",
    "\n",
    "Write a `Cake` class with:\n",
    "- attribute `name` (string) initialized in constructor\n",
    "- attribute `cooking_time` (integer) initialized in constructor\n",
    "- string representation method in format: `Cake {name} ({cooking_time} minutes)`.\n",
    "\n",
    "Write a `FruitCake` subclass of the `Cake` class (inherits it) with:\n",
    "- attributes of the parent class initialized in constructor\n",
    "- attribute `fruit_type` initialized in constructor\n",
    "- method `add_time(minutes)` that increments the `cooking_time` attribute by number of minutes\n",
    "- overriden string representation method in format: `Cake {name} with {fruit_type} ({cooking_time} minutes)`\n",
    "\n",
    "Write a `ChocolateCake` subclass of the `Cake` class that adds one boolean attribute `is_organic` to it.\n",
    "\n",
    "Create one instance per class and show how and where method `add_time()` and attribute `is_organic` can be used."
   ]
  },
  {
   "cell_type": "code",
   "execution_count": null,
   "metadata": {},
   "outputs": [],
   "source": [
    "class Cake:\n",
    "\n",
    "    def __init__(self, name, cooking_time):\n",
    "        self.name = name\n",
    "        self.cooking_time = int(cooking_time)\n",
    "\n",
    "    def __str__(self):\n",
    "        return f\"Cake {self.name} ({self.cooking_time} minutes)\"\n",
    "\n",
    "# child class\n",
    "class FruitCake(Cake):\n",
    "\n",
    "    def __init__(self,name, cooking_time, fruit_type):\n",
    "        super().__init__()\n",
    "        self.fruit_type = fruit_type\n",
    "\n",
    "    def add_time(self, minutes):\n",
    "        self.cooking_time += minutes\n",
    "\n",
    "    def __str__(self):\n",
    "        return f\"Cake {self.name} with {self.fruit_type} ({self.cooking_time} minutes)\"\n",
    "        \n",
    "\n",
    "cake = Penguin()\n",
    "peggy.whoisThis()\n",
    "peggy.swim()\n",
    "peggy.run()"
   ]
  },
  {
   "cell_type": "markdown",
   "metadata": {},
   "source": [
    "<div class=\"alert alert-info\"><b>Task 02</b></div>\n",
    "\n",
    "Create UML diagram for the previous example.\n",
    "\n",
    "Use [diagrams.net](https://app.diagrams.net) application for that."
   ]
  },
  {
   "cell_type": "markdown",
   "metadata": {},
   "source": []
  },
  {
   "cell_type": "markdown",
   "metadata": {},
   "source": [
    "<div class=\"alert alert-info\"><b>Task 03</b></div>\n",
    "\n",
    "Create class ComputerPeripheral that can be initialized using constructor.\n",
    "Attributes:\n",
    "- brand (string)\n",
    "- model (string)\n",
    "\n",
    "Create class Mouse that inherits class ComputerPeripheral and can be initialized using constructor.\n",
    "Attributes:\n",
    "- dpi (int)\n",
    "- is_bluetooth (bool)\n",
    "- number_of_buttons (int)\n",
    "\n",
    "Create class Keyboard that inherits class ComputerPeripheral and can be initialized using constructor.\n",
    "Properties of the class:\n",
    "- is_wireless (bool)\n",
    "- is_full_size (bool)\n",
    "- compatibile_os (list of strings, like \"Windows\", \"Linux\", \"OS X\", \"Android\")\n",
    "\n",
    "Create one Instance of Mouse and one instance of Keyboard.\n",
    "Add both instances to list.\n",
    "Loop through the list and print brand and model of each instance."
   ]
  },
  {
   "cell_type": "code",
   "execution_count": null,
   "metadata": {},
   "outputs": [],
   "source": []
  },
  {
   "cell_type": "markdown",
   "metadata": {},
   "source": [
    "<div class=\"alert alert-info\"><b>Task 04</b></div>\n",
    "\n",
    "Create UML diagram for the previous example.\n",
    "\n",
    "Use [diagrams.net](https://app.diagrams.net) application for that."
   ]
  },
  {
   "cell_type": "markdown",
   "metadata": {},
   "source": []
  },
  {
   "cell_type": "markdown",
   "metadata": {},
   "source": [
    "<div class=\"alert alert-info\"><b>Task 05</b></div>\n",
    "\n",
    "Write a class that has a method `print_ascii()` that takes an ASCII code as a parameter.\n",
    "\n",
    "Then it prints text formatted as `Code 33: character !` (depends on the entered ASCII code)\n",
    "\n",
    "Wrtite another class that overrides that method and adds a constraint: if the ASCII code is not between 33 and 47 (inclusively), print `Code should be between 21 and 47` and exit. If it is, call base class method `print_ascii()`."
   ]
  },
  {
   "cell_type": "code",
   "execution_count": null,
   "metadata": {},
   "outputs": [],
   "source": []
  },
  {
   "cell_type": "markdown",
   "metadata": {},
   "source": [
    "<div class=\"alert alert-info\"><b>Task 06</b></div>\n",
    "\n",
    "Create UML diagram for the previous example.\n",
    "\n",
    "Use [diagrams.net](https://app.diagrams.net) application for that."
   ]
  },
  {
   "cell_type": "markdown",
   "metadata": {},
   "source": []
  },
  {
   "cell_type": "markdown",
   "metadata": {},
   "source": [
    "<div class=\"alert alert-info\"><b>Task 07</b></div>\n",
    "\n",
    "Write a class `Shape` that has a method `draw()`, which prints empty string. Constructor receives a string with the character C.\n",
    "\n",
    "Write two subclasses, `Square` and `Rectangle` that override `draw()` method:\n",
    "- `draw()` method of Square takes one parameter (size) and draws a square using character C\n",
    "- `draw()` method of Rectangle takes two parameters (width and height) and draws a rectangle using character C"
   ]
  },
  {
   "cell_type": "code",
   "execution_count": null,
   "metadata": {},
   "outputs": [],
   "source": []
  },
  {
   "cell_type": "markdown",
   "metadata": {},
   "source": [
    "<div class=\"alert alert-info\"><b>Task 08</b></div>\n",
    "\n",
    "Write a class that uses `randint()` and `choice()` from random module.\n",
    "\n",
    "Function randint() should return number from 1 to 100 and after that return 'win', 'lose' or 'draw' regardless of the number.\n",
    "\n",
    "Program should load just these two functions from the module."
   ]
  },
  {
   "cell_type": "code",
   "execution_count": null,
   "metadata": {},
   "outputs": [],
   "source": []
  },
  {
   "cell_type": "markdown",
   "metadata": {},
   "source": [
    "<div class=\"alert alert-info\"><b>Task 09</b></div>\n",
    "\n",
    "Write a logarithm number generator using `math.log()` function.\n",
    "\n",
    "Load just the `log()` function from math module.\n",
    "\n",
    "Use it in loop to print natural logarithms of numbers from 1 to 100, rounded to 2 decimals."
   ]
  },
  {
   "cell_type": "code",
   "execution_count": null,
   "metadata": {},
   "outputs": [],
   "source": []
  },
  {
   "cell_type": "markdown",
   "metadata": {},
   "source": [
    "<div class=\"alert alert-info\"><b>Task 10</b></div>\n",
    "\n",
    "Write an iterator for the last task."
   ]
  },
  {
   "cell_type": "code",
   "execution_count": null,
   "metadata": {},
   "outputs": [],
   "source": []
  },
  {
   "cell_type": "markdown",
   "metadata": {},
   "source": [
    "<div class=\"alert alert-info\"><b>Task 11</b></div>\n",
    "\n",
    "Write a Fibonacci number generator.\n",
    "\n",
    "Use it in loop to print Fibonacci numbers from 1 to 10.\n",
    "\n",
    "Example:\n",
    "```\n",
    "1\n",
    "1\n",
    "2\n",
    "3\n",
    "5\n",
    "8\n",
    "13\n",
    "21\n",
    "34\n",
    "55\n",
    "```"
   ]
  },
  {
   "cell_type": "code",
   "execution_count": null,
   "metadata": {},
   "outputs": [],
   "source": []
  }
 ],
 "metadata": {
  "kernelspec": {
   "display_name": "Python 3",
   "language": "python",
   "name": "python3"
  },
  "language_info": {
   "codemirror_mode": {
    "name": "ipython",
    "version": 3
   },
   "file_extension": ".py",
   "mimetype": "text/x-python",
   "name": "python",
   "nbconvert_exporter": "python",
   "pygments_lexer": "ipython3",
   "version": "3.12.0"
  },
  "vscode": {
   "interpreter": {
    "hash": "3553903dba64754d2bfb0d59acd2dbff5bc8fcd3f403a6584ff751f2f4eee55f"
   }
  }
 },
 "nbformat": 4,
 "nbformat_minor": 2
}
