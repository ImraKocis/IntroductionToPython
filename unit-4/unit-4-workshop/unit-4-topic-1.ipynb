{
 "cells": [
  {
   "cell_type": "markdown",
   "metadata": {},
   "source": [
    "# 4. Classes"
   ]
  },
  {
   "cell_type": "markdown",
   "metadata": {},
   "source": [
    "## 4.1. Classes, objects and members"
   ]
  },
  {
   "cell_type": "markdown",
   "metadata": {},
   "source": [
    "Everything in Python is an object.\n",
    "Class is a mold (or a template, or a blueprint if you will) that can is used to create that object.\n",
    "All the bits and pieces an object has has to be specified in the class.\n",
    "\n",
    "All the bits and pieces of an object are called members.\n",
    "\n",
    "There are built-in classes and objects that we use not knowingly, like str, int, float etc.\n",
    "\n",
    "Also, there are classes and objects in Python standard library that we can use.\n",
    "\n",
    "And there are classes and objects in external libraries that Python can use."
   ]
  },
  {
   "cell_type": "markdown",
   "metadata": {},
   "source": [
    "<div class=\"alert alert-info\"><b>Example 01</b></div>\n",
    "\n",
    "Create a string object.\n",
    "\n",
    "Create an uppercase string from that string and print it."
   ]
  },
  {
   "cell_type": "code",
   "execution_count": 114,
   "metadata": {},
   "outputs": [
    {
     "name": "stdout",
     "output_type": "stream",
     "text": [
      "TEST\n"
     ]
    }
   ],
   "source": [
    "text = \"test\"\n",
    "print(text.upper())"
   ]
  },
  {
   "cell_type": "markdown",
   "metadata": {},
   "source": [
    "<div class=\"alert alert-info\"><b>Example 02</b></div>\n",
    "\n",
    "Create a class that can store one string value.\n",
    "\n",
    "Instance two objects of that string.\n",
    "\n",
    "Print stored data."
   ]
  },
  {
   "cell_type": "code",
   "execution_count": 1,
   "metadata": {},
   "outputs": [
    {
     "name": "stdout",
     "output_type": "stream",
     "text": [
      "one\n",
      "two\n"
     ]
    }
   ],
   "source": [
    "class StringContainer():\n",
    "  def __init__(self, text):\n",
    "    self.text = text\n",
    "\n",
    "sc1 = StringContainer(\"one\")\n",
    "print(sc1.text)\n",
    "sc2 = StringContainer(\"two\")\n",
    "print(sc2.text)"
   ]
  },
  {
   "cell_type": "markdown",
   "metadata": {},
   "source": [
    "Try to print the object instance itself"
   ]
  },
  {
   "cell_type": "code",
   "execution_count": 5,
   "metadata": {},
   "outputs": [
    {
     "name": "stdout",
     "output_type": "stream",
     "text": [
      "<__main__.StringContainer object at 0x000001DFC0B0A020>\n",
      "<__main__.StringContainer object at 0x000001DFC0B09F90>\n"
     ]
    }
   ],
   "source": [
    "class StringContainer():\n",
    "  def __init__(self, text):\n",
    "    self.text = text\n",
    "\n",
    "sc1 = StringContainer(\"one\")\n",
    "sc2 = StringContainer(\"two\")\n",
    "print(sc1)"
   ]
  },
  {
   "cell_type": "markdown",
   "metadata": {},
   "source": [
    "Now add the string representation function `__str__()`.\n",
    "\n",
    "Function should return the string that represents the object, something like _Hello from object {text}_.\n",
    "\n",
    "Try to print the object instance again."
   ]
  },
  {
   "cell_type": "code",
   "execution_count": 7,
   "metadata": {},
   "outputs": [
    {
     "name": "stdout",
     "output_type": "stream",
     "text": [
      "Hello from object one\n",
      "Hello from object two\n"
     ]
    }
   ],
   "source": [
    "class StringContainer():\n",
    "  def __init__(self, text):\n",
    "    self.text = text\n",
    "  def __str__(self):\n",
    "    return f\"Hello from object {self.text}\"\n",
    "\n",
    "sc1 = StringContainer(\"one\")\n",
    "sc2 = StringContainer(\"two\")\n",
    "print(sc1)\n",
    "print(sc2)"
   ]
  },
  {
   "cell_type": "markdown",
   "metadata": {},
   "source": [
    "Add an integer variable to that class.\n",
    "\n",
    "Add that integer value to the string representation function as well."
   ]
  },
  {
   "cell_type": "code",
   "execution_count": 10,
   "metadata": {},
   "outputs": [
    {
     "name": "stdout",
     "output_type": "stream",
     "text": [
      "one 10\n",
      "two 20\n",
      "Hello from object one with numeric value 10\n",
      "Hello from object two with numeric value 20\n"
     ]
    }
   ],
   "source": [
    "class StringContainer():\n",
    "  def __init__(self, text, number):\n",
    "    self.text = text\n",
    "    self.num = number\n",
    "  def __str__(self):\n",
    "    return f\"Hello from object {self.text} with numeric value {self.num}\"\n",
    "\n",
    "sc1 = StringContainer(\"one\", 10)\n",
    "sc2 = StringContainer(\"two\", 20)\n",
    "print(sc1.text, sc1.num)\n",
    "print(sc2.text, sc2.num)\n",
    "print(sc1)\n",
    "print(sc2)"
   ]
  },
  {
   "cell_type": "markdown",
   "metadata": {},
   "source": [
    "> One approach to solving such tasks is as follows:\n",
    "> 1. Write the class\n",
    "> 2. Write a constructor that receives self as a first parameter, and all other parameters you need\n",
    "> 3. In the constructor, copy the values from the parameters to the variables on the class\n",
    "> 4. While copying values, convert them to target types if needed\n",
    "> 5. Write all other methods making sure that the first parameter is self\n",
    "> 6. Write code that instances objects outside the class, call methods of object instances"
   ]
  },
  {
   "cell_type": "markdown",
   "metadata": {},
   "source": [
    "<div class=\"alert alert-info\"><b>Example 03</b></div>\n",
    "\n",
    "Create a class Person that can store a persons name (str) and and age (int).\n",
    "\n",
    "Instance three persons with the following attributes:\n",
    "* Dianne (31)\n",
    "* Sean (27)\n",
    "* Nathan (34)"
   ]
  },
  {
   "cell_type": "code",
   "execution_count": 4,
   "metadata": {},
   "outputs": [],
   "source": [
    "class Person(): \n",
    "\n",
    "  def __init__(self, name, age):\n",
    "    self.name = name\n",
    "    self.age = int(age)\n",
    "  \n",
    "p1 = Person(\"Dianne\", 31)\n",
    "p2 = Person(\"Sean\", 27)\n",
    "p3 = Person(\"Nathan\", 34)"
   ]
  },
  {
   "cell_type": "markdown",
   "metadata": {},
   "source": [
    "Add a method `print_age()` that prints message in format \"{name} is {age} years old\". Use it to show that for each instance it prints the message."
   ]
  },
  {
   "cell_type": "code",
   "execution_count": 51,
   "metadata": {},
   "outputs": [
    {
     "name": "stdout",
     "output_type": "stream",
     "text": [
      "Dianne is 31 years old\n",
      "Sean is 27 years old\n",
      "Nathan is 34 years old\n"
     ]
    }
   ],
   "source": [
    "class Person(): \n",
    "  def __init__(self, name, age):\n",
    "    self.name = name\n",
    "    self.age = int(age)\n",
    "  \n",
    "  def print_age(self):\n",
    "    print(f\"{self.name} is {self.age} years old\")\n",
    "  \n",
    "p1 = Person(\"Dianne\", 31)\n",
    "p2 = Person(\"Sean\", 27)\n",
    "p3 = Person(\"Nathan\", 34)\n",
    "\n",
    "p1.print_age()\n",
    "p2.print_age()\n",
    "p3.print_age()"
   ]
  },
  {
   "cell_type": "markdown",
   "metadata": {},
   "source": [
    "Add a method `add_year()` that increases number of years by one."
   ]
  },
  {
   "cell_type": "code",
   "execution_count": 54,
   "metadata": {},
   "outputs": [
    {
     "name": "stdout",
     "output_type": "stream",
     "text": [
      "Dianne is 31 years old\n",
      "Dianne is 33 years old\n"
     ]
    }
   ],
   "source": [
    "class Person(): \n",
    "  def __init__(self, name, age):\n",
    "    self.name = name\n",
    "    self.age = int(age)\n",
    "  \n",
    "  def print_age(self):\n",
    "    print(f\"{self.name} is {self.age} years old\")\n",
    "\n",
    "  def add_year(self):\n",
    "    self.age += 1\n",
    "\n",
    "p1 = Person(\"Dianne\", 31)\n",
    "p2 = Person(\"Sean\", 27)\n",
    "p3 = Person(\"Nathan\", 34)\n",
    "\n",
    "p1.print_age()\n",
    "p1.add_year()\n",
    "p1.add_year()\n",
    "p1.print_age()"
   ]
  },
  {
   "cell_type": "markdown",
   "metadata": {},
   "source": [
    "<div class=\"alert alert-info\"><b>Example 04</b></div>\n",
    "\n",
    "Create a class Receipt that contains following data:\n",
    "\n",
    "* `receipt_id` (str)\n",
    "* `total_cost` (float)\n",
    "* `items` (list)\n",
    "\n",
    "In `items` list there should be names of the product.\n",
    "\n",
    "Create following instances:\n",
    "\n",
    "* Receipt 1: \n",
    "  - id: 1\n",
    "  - total: 10.99\n",
    "  - items: bread, milk, cookies\n",
    "* Receipt 2: \n",
    "  - id: 2\n",
    "  - total: 13.45\n",
    "  - items: cat food, cat sand, bowl\n"
   ]
  },
  {
   "cell_type": "code",
   "execution_count": 56,
   "metadata": {},
   "outputs": [],
   "source": [
    "class Receipt():\n",
    "  def __init__(self, receipt_id, total_cost, items):\n",
    "    self.receipt_id = int(receipt_id)\n",
    "    self.total_cost = float(total_cost)\n",
    "    self.items = items\n",
    "\n",
    "rcpt1 = Receipt(1, 10.99, [\"Bread\",\"Milk\",\"Cookies\"])\n",
    "rcpt2 = Receipt(2, 13.45, [\"Cat Food\",\"Cat Sand\",\"Bowl\"])"
   ]
  },
  {
   "cell_type": "markdown",
   "metadata": {},
   "source": [
    "Now add a method to Receipt that prints id, cost and all items in the format:\n",
    "\n",
    "```\n",
    "-----------------\n",
    "ID: 1\n",
    "TOTAL: 10.99\n",
    "NO OF ITEMS: 3\n",
    "ITEMS:\n",
    "- Bread\n",
    "- Milk\n",
    "- Cookies\n",
    "-----------------\n",
    "```\n",
    "\n",
    "Print both receipts."
   ]
  },
  {
   "cell_type": "code",
   "execution_count": 60,
   "metadata": {},
   "outputs": [
    {
     "name": "stdout",
     "output_type": "stream",
     "text": [
      "-----------------\n",
      "ID: 1\n",
      "TOTAL: 10.99\n",
      "NO OF ITEMS: 3\n",
      "- Bread\n",
      "- Milk\n",
      "- Cookies\n",
      "-----------------\n",
      "-----------------\n",
      "ID: 2\n",
      "TOTAL: 13.45\n",
      "NO OF ITEMS: 3\n",
      "- Cat Food\n",
      "- Cat Sand\n",
      "- Bowl\n",
      "-----------------\n"
     ]
    }
   ],
   "source": [
    "class Receipt():\n",
    "  def __init__(self, receipt_id, total_cost, items):\n",
    "    self.receipt_id = int(receipt_id)\n",
    "    self.total_cost = float(total_cost)\n",
    "    self.items = items\n",
    "  \n",
    "  def print_receipt(self):\n",
    "    print(\"-----------------\")\n",
    "    print(f\"ID: {self.receipt_id}\")\n",
    "    print(f\"TOTAL: {self.total_cost}\")\n",
    "    print(f\"NO OF ITEMS: {len(self.items)}\")\n",
    "\n",
    "    for item in self.items:\n",
    "      print(f\"- {item}\")\n",
    "\n",
    "    print(\"-----------------\")\n",
    "\n",
    "rcpt1 = Receipt(1, 10.99, [\"Bread\",\"Milk\",\"Cookies\"])\n",
    "rcpt2 = Receipt(2, 13.45, [\"Cat Food\",\"Cat Sand\",\"Bowl\"])\n",
    "\n",
    "rcpt1.print_receipt()\n",
    "rcpt2.print_receipt()"
   ]
  },
  {
   "cell_type": "markdown",
   "metadata": {},
   "source": [
    "Now: instead of storing instances in separate variables, store them in a list of receipts.\n",
    "\n",
    "At the end, use for loop to print all the receipts."
   ]
  },
  {
   "cell_type": "code",
   "execution_count": 62,
   "metadata": {},
   "outputs": [
    {
     "name": "stdout",
     "output_type": "stream",
     "text": [
      "-----------------\n",
      "ID: 1\n",
      "TOTAL: 10.99\n",
      "NO OF ITEMS: 3\n",
      "- Bread\n",
      "- Milk\n",
      "- Cookies\n",
      "-----------------\n",
      "-----------------\n",
      "ID: 2\n",
      "TOTAL: 13.45\n",
      "NO OF ITEMS: 3\n",
      "- Cat Food\n",
      "- Cat Sand\n",
      "- Bowl\n",
      "-----------------\n"
     ]
    }
   ],
   "source": [
    "class Receipt():\n",
    "  def __init__(self, receipt_id, total_cost, items):\n",
    "    self.receipt_id = int(receipt_id)\n",
    "    self.total_cost = float(total_cost)\n",
    "    self.items = items\n",
    "  \n",
    "  def print_receipt(self):\n",
    "    print(\"-----------------\")\n",
    "    print(f\"ID: {self.receipt_id}\")\n",
    "    print(f\"TOTAL: {self.total_cost}\")\n",
    "    print(f\"NO OF ITEMS: {len(self.items)}\")\n",
    "\n",
    "    for item in self.items:\n",
    "      print(f\"- {item}\")\n",
    "\n",
    "    print(\"-----------------\")\n",
    "\n",
    "receipts = []\n",
    "receipts.append(Receipt(1, 10.99, [\"Bread\",\"Milk\",\"Cookies\"]))\n",
    "receipts.append(Receipt(2, 13.45, [\"Cat Food\",\"Cat Sand\",\"Bowl\"]))\n",
    "\n",
    "for receipt in receipts:\n",
    "  receipt.print_receipt()"
   ]
  },
  {
   "cell_type": "markdown",
   "metadata": {},
   "source": [
    "<div class=\"alert alert-info\"><b>Example 05</b></div>\n",
    "\n",
    "Create a TableGame class that contains the following data:\n",
    "\n",
    "* `heading` (str)\n",
    "* `id` (int)\n",
    "* `name` (str)\n",
    "* `min_age` (int)\n",
    "\n",
    "When heading data changes, it should be changed in all instances.\n",
    "\n",
    "Create following instances in a list:\n",
    "\n",
    "* id=1, name=Monopoly, min_age=3\n",
    "* id=2, name=Ludo, min_age=8\n",
    "* id=3, name=Axis & Allies, min_age=12\n",
    "\n",
    "Then, in a loop print all instances."
   ]
  },
  {
   "cell_type": "code",
   "execution_count": 1,
   "metadata": {},
   "outputs": [
    {
     "name": "stdout",
     "output_type": "stream",
     "text": [
      "<__main__.TableGame object at 0x000001F10FF16CF0>\n",
      "<__main__.TableGame object at 0x000001F111295550>\n",
      "<__main__.TableGame object at 0x000001F111295370>\n"
     ]
    }
   ],
   "source": [
    "class TableGame():\n",
    "  heading = \"TABLETOP GAME\"\n",
    "\n",
    "  def __init__(self, id, name, min_age):\n",
    "    self.id = id\n",
    "    self.name = name\n",
    "    self.min_age = min_age  \n",
    "\n",
    "games = []\n",
    "games.append(TableGame(1, \"Ludo\", 3))\n",
    "games.append(TableGame(2, \"Monopoly\", 8))\n",
    "games.append(TableGame(3, \"Axis & Allies\", 12))\n",
    "\n",
    "for game in games:\n",
    "  print(game)"
   ]
  },
  {
   "cell_type": "markdown",
   "metadata": {},
   "source": [
    "Add `__str__()` method that returns string representation of an object, like \"{heading} ({id}): {name}, minimum age {min_age}\".\n",
    "\n",
    "Now run the program again."
   ]
  },
  {
   "cell_type": "code",
   "execution_count": 68,
   "metadata": {},
   "outputs": [
    {
     "name": "stdout",
     "output_type": "stream",
     "text": [
      "TABLETOP GAME (1): Ludo, minimum age 3\n",
      "TABLETOP GAME (2): Monopoly, minimum age 8\n",
      "TABLETOP GAME (3): Axis & Allies, minimum age 12\n"
     ]
    }
   ],
   "source": [
    "class TableGame():\n",
    "  heading = \"TABLETOP GAME\"\n",
    "\n",
    "  def __init__(self, id, name, min_age):\n",
    "    self.id = id\n",
    "    self.name = name\n",
    "    self.min_age = min_age\n",
    "  \n",
    "  def __str__(self):\n",
    "    return f\"{self.heading} ({self.id}): {self.name}, minimum age {self.min_age}\"\n",
    "  \n",
    "\n",
    "games = []\n",
    "games.append(TableGame(1, \"Ludo\", 3))\n",
    "games.append(TableGame(2, \"Monopoly\", 8))\n",
    "games.append(TableGame(3, \"Axis & Allies\", 12))\n",
    "\n",
    "for game in games:\n",
    "  print(game)"
   ]
  },
  {
   "cell_type": "markdown",
   "metadata": {},
   "source": [
    "Now change the heading in TableGame class before loop starts to \"BOARD GAME\" and run the program again."
   ]
  },
  {
   "cell_type": "code",
   "execution_count": 70,
   "metadata": {},
   "outputs": [
    {
     "name": "stdout",
     "output_type": "stream",
     "text": [
      "BOARD GAME (1): Ludo, minimum age 3\n",
      "BOARD GAME (2): Monopoly, minimum age 8\n",
      "BOARD GAME (3): Axis & Allies, minimum age 12\n"
     ]
    }
   ],
   "source": [
    "class TableGame():\n",
    "  heading = \"TABLETOP GAME\"\n",
    "\n",
    "  def __init__(self, id, name, min_age):\n",
    "    self.id = id\n",
    "    self.name = name\n",
    "    self.min_age = min_age\n",
    "  \n",
    "  def __str__(self):\n",
    "    return f\"{self.heading} ({self.id}): {self.name}, minimum age {self.min_age}\"\n",
    "  \n",
    "\n",
    "games = []\n",
    "games.append(TableGame(1, \"Ludo\", 3))\n",
    "games.append(TableGame(2, \"Monopoly\", 8))\n",
    "games.append(TableGame(3, \"Axis & Allies\", 12))\n",
    "\n",
    "TableGame.heading = \"BOARD GAME\"\n",
    "\n",
    "for game in games:\n",
    "  print(game)"
   ]
  },
  {
   "cell_type": "markdown",
   "metadata": {},
   "source": [
    "Now add the `next_id` attribute to the TableGame class.\n",
    "That attribute should also belong to the class (_class attribute_ or _static attribute_) like _heading_ attribute does.\n",
    "Use it to automatically generate _id_ for the object instance."
   ]
  },
  {
   "cell_type": "code",
   "execution_count": 12,
   "metadata": {},
   "outputs": [
    {
     "name": "stdout",
     "output_type": "stream",
     "text": [
      "BOARD GAME (1): Ludo, minimum age 3\n",
      "BOARD GAME (2): Monopoly, minimum age 8\n",
      "BOARD GAME (3): Axis & Allies, minimum age 12\n"
     ]
    }
   ],
   "source": [
    "class TableGame():\n",
    "  heading = \"TABLETOP GAME\"\n",
    "  next_id = 1\n",
    "\n",
    "  def __init__(self, name, min_age):\n",
    "    self.id = self.next_id\n",
    "    self.name = name\n",
    "    self.min_age = min_age\n",
    "\n",
    "    TableGame.next_id += 1\n",
    "  \n",
    "  def __str__(self):\n",
    "    return f\"{self.heading} ({self.id}): {self.name}, minimum age {self.min_age}\"\n",
    "  \n",
    "games = []\n",
    "games.append(TableGame(\"Ludo\", 3))\n",
    "games.append(TableGame(\"Monopoly\", 8))\n",
    "games.append(TableGame(\"Axis & Allies\", 12))\n",
    "\n",
    "TableGame.heading = \"BOARD GAME\"\n",
    "\n",
    "for game in games:\n",
    "  print(game)"
   ]
  },
  {
   "cell_type": "markdown",
   "metadata": {},
   "source": [
    "## Exercises"
   ]
  },
  {
   "cell_type": "markdown",
   "metadata": {},
   "source": [
    "<div class=\"alert alert-info\"><b>Task 01</b></div>\n",
    "\n",
    "Write a class that can store employee data:\n",
    "- name\n",
    "- last name\n",
    "- title\n",
    "- age\n",
    "\n",
    "Implement string representation method that is used when printing an object; it should print title, name, last name and age.\n",
    "\n",
    "Instance one object and print it.\n"
   ]
  },
  {
   "cell_type": "code",
   "execution_count": 7,
   "metadata": {},
   "outputs": [
    {
     "name": "stdout",
     "output_type": "stream",
     "text": [
      "Mr. Pero Peric, is 55 yung\n"
     ]
    }
   ],
   "source": [
    "class Employee():\n",
    "    def __init__(self,name,lastName, title, age):\n",
    "        self.name = name\n",
    "        self.lastName = lastName\n",
    "        self.title=title\n",
    "        self.age = int(age)\n",
    "    def __str__(self):\n",
    "        return f\"{self.title}. {self.name} {self.lastName}, is {self.age} yung\"\n",
    "    \n",
    "pero = Employee(\"Pero\", \"Peric\", \"Mr\", 55)\n",
    "print(pero)"
   ]
  },
  {
   "cell_type": "markdown",
   "metadata": {},
   "source": [
    "<div class=\"alert alert-info\"><b>Task 02</b></div>\n",
    "\n",
    "Write a class TextPad that has following members:\n",
    "\n",
    "* text message with name `message`\n",
    "* function `modify(c)` that uses c to pad string with character `c`; if message is *text* and c is `+`, it will be modified to `t+e+x+t`\n",
    "\n",
    "Show that the class functions correctly."
   ]
  },
  {
   "cell_type": "code",
   "execution_count": 19,
   "metadata": {},
   "outputs": [
    {
     "name": "stdout",
     "output_type": "stream",
     "text": [
      "M+e+s+s+a+g+e\n"
     ]
    }
   ],
   "source": [
    "class TextPad():\n",
    "  def __init__(self, message, spacer):\n",
    "    self.message = message\n",
    "    self.spacer = spacer\n",
    "  \n",
    "  def modify(self):\n",
    "    i = 0\n",
    "    output = ''\n",
    "    for letter in self.message:\n",
    "      i = i+1\n",
    "      if i == 1:\n",
    "        output = output + letter\n",
    "      else:\n",
    "        output = output + self.spacer + letter\n",
    "      \n",
    "      self.message = output\n",
    "    \n",
    "\n",
    "  def __str__(self):\n",
    "    return f\"{self.message}\"\n",
    "\n",
    "\n",
    "text = TextPad('Message', '+')\n",
    "text.modify()\n",
    "print(text)"
   ]
  },
  {
   "cell_type": "markdown",
   "metadata": {},
   "source": [
    "<div class=\"alert alert-info\"><b>Task 03</b></div>\n",
    "\n",
    "Create class HouseholdBill with the following attributes:\n",
    "* bill type (e.g. electric, water, phone, tv)\n",
    "* amount (float)\n",
    "* paid (bool)\n",
    "\n",
    "The bill must be always instanced as not paid.\n",
    "\n",
    "Create method `set_paid(paid)` that modifies the `paid` flag to the passed boolean value.\n",
    "\n",
    "Create 3 bills in a list, set first one as paid and in a loop print bills that are not paid."
   ]
  },
  {
   "cell_type": "code",
   "execution_count": 98,
   "metadata": {},
   "outputs": [
    {
     "name": "stdout",
     "output_type": "stream",
     "text": [
      "water - 86.33 EUR\n",
      "phone - 66.38 EUR\n"
     ]
    }
   ],
   "source": []
  },
  {
   "cell_type": "markdown",
   "metadata": {},
   "source": [
    "<div class=\"alert alert-info\"><b>Task 04</b></div>\n",
    "\n",
    "Create class ProgressTracker with the attribute `percent_completed` that is inizially set to `0`.\n",
    "\n",
    "Implement method `print_percent_completed()` which prints the value of `percent_completed` variable.\n",
    "\n",
    "Implement method `add_percent_completed(value)` which adds the value to `percent_completed` variable.\n",
    "\n",
    "Create two progress trackers.\n",
    "In a loop, increase 10 times first one by 10, and the second one by loop index.\n",
    "After the loop, print `percent_completed` of each tracker."
   ]
  },
  {
   "cell_type": "code",
   "execution_count": 131,
   "metadata": {},
   "outputs": [
    {
     "name": "stdout",
     "output_type": "stream",
     "text": [
      "100\n",
      "45\n"
     ]
    }
   ],
   "source": []
  },
  {
   "cell_type": "markdown",
   "metadata": {},
   "source": [
    "<div class=\"alert alert-info\"><b>Task 05</b></div>\n",
    "\n",
    "Write a class `TextMod`, which initializes with a string parameter.\n",
    "\n",
    "Write a method `print_mirror` that prints that string in reversed and original order of characters, concatenated in one string, divided by a hyphen.\n",
    "\n",
    "E.g. for \"test\" it should print \"test-tset\"."
   ]
  },
  {
   "cell_type": "code",
   "execution_count": 99,
   "metadata": {},
   "outputs": [
    {
     "name": "stdout",
     "output_type": "stream",
     "text": [
      "test-tset\n"
     ]
    }
   ],
   "source": []
  },
  {
   "cell_type": "markdown",
   "metadata": {},
   "source": [
    "<div class=\"alert alert-info\"><b>Task 06</b></div>\n",
    "\n",
    "Write a class that manipulates string using following methods:\n",
    "\n",
    "* method `mirror(text)` returns mirrored string (mirror -> mirrorrorrim)\n",
    "* method `mirror_r(text)` returns reverse mirrored string (mirror -> rorrimmirror)\n",
    "* method `sum_ascii(text)` returns sum of ascii values of string characters"
   ]
  },
  {
   "cell_type": "code",
   "execution_count": 23,
   "metadata": {},
   "outputs": [
    {
     "name": "stdout",
     "output_type": "stream",
     "text": [
      "mirrorrorrim\n",
      "rorrimmirror\n",
      "667\n"
     ]
    }
   ],
   "source": []
  },
  {
   "cell_type": "markdown",
   "metadata": {},
   "source": [
    "<div class=\"alert alert-info\"><b>Task 07</b></div>\n",
    "\n",
    "Write a class that represents a player in a game.\n",
    "\n",
    "Class should initialize with the following data:\n",
    "\n",
    "* Name `(name: str)`\n",
    "* Life Points `(points: int)`\n",
    "* Player speed `(speed: float)`\n",
    "\n",
    "It should have the following methods:\n",
    "\n",
    "* `apply_damage(amount: int, default is 1)` - lowers Life Points for amount; if it falls under `0`, set it to `0` and print *Game over*\n",
    "* `mod_speed(is_faster: bool)` - if `is_faster` is `True`, increase speed by `1`, otherwise decrease it by `1`\n",
    "* for a string representation print Name, Life Points and Speed"
   ]
  },
  {
   "cell_type": "code",
   "execution_count": 17,
   "metadata": {},
   "outputs": [
    {
     "name": "stdout",
     "output_type": "stream",
     "text": [
      "NAME: Bad one, LIFE: 100, SPEED: 8.0\n",
      "NAME: Bad one, LIFE: 100, SPEED: 10.0\n",
      "NAME: Bad one, LIFE: 88, SPEED: 10.0\n"
     ]
    }
   ],
   "source": [
    "class Player():\n",
    "      def __init__(self, name, points, speed) -> None:\n",
    "        self.name = str(name)\n",
    "        self.points = int(points)\n",
    "        self.speed = float(speed)\n",
    "      \n",
    "      def apply_damage(self, amount=1):\n",
    "         self.points -= amount\n",
    "         if(self.points < 0):\n",
    "            self.points = 0\n",
    "            print(\"Game Over!\")\n",
    "\n",
    "      def mod_speed(self, is_faster):\n",
    "         if is_faster:\n",
    "            self.speed +=1\n",
    "         else:\n",
    "            self.speed -= 1\n",
    "\n",
    "      def __str__(self) -> str:\n",
    "         return f\"NAME: {self.name}, LIFE: {self.points}, SPEED: {self.speed}\"\n",
    "\n",
    "p = Player(\"Bad one\", 100, 8)\n",
    "print(p)\n",
    "p.mod_speed(True)\n",
    "p.mod_speed(True)\n",
    "print(p)\n",
    "p.apply_damage(1)\n",
    "p.apply_damage(1)\n",
    "p.apply_damage(10)\n",
    "print(p)\n",
    "\n"
   ]
  },
  {
   "cell_type": "markdown",
   "metadata": {},
   "source": [
    "<div class=\"alert alert-info\"><b>Task 08</b></div>\n",
    "\n",
    "Create a class ComputerMouse.\n",
    "Class must have the following attributes:\n",
    "- brand (string)\n",
    "- model (string)\n",
    "- is_bluetooth (bool)\n",
    "- weight (int)\n",
    "- dpi (int)\n",
    "- number_of_buttons (int)\n",
    "- free_wheel (bool)\n",
    "\n",
    "All fields should be set in a constructor.\n",
    "\n",
    "Default values are:\n",
    "- is_bluetooth: False\n",
    "- free_wheel: False\n",
    "\n",
    "Create three instances:\n",
    "```\n",
    "pc_mouse1 = ComputerMouse(\"Logitech\", \"MX Master 2S\", 141, 4000, 8, True, True)\n",
    "pc_mouse2 = ComputerMouse(\"Razer\", \"DeathAdder\", 96, 6400, 5, False, True)\n",
    "pc_mouse3 = ComputerMouse(\"Kensington\", \"Pro Fit\", 204, 2400, 5)\n",
    "```\n",
    "Print brand, model and number of DPI for each of them."
   ]
  },
  {
   "cell_type": "code",
   "execution_count": 118,
   "metadata": {},
   "outputs": [
    {
     "name": "stdout",
     "output_type": "stream",
     "text": [
      "Logitech MX Master 2S: 4000 DPI\n",
      "Razer DeathAdder: 6400 DPI\n",
      "Kensington Pro Fit: 2400 DPI\n"
     ]
    }
   ],
   "source": []
  },
  {
   "cell_type": "markdown",
   "metadata": {},
   "source": [
    "<div class=\"alert alert-info\"><b>Task 09</b></div>\n",
    "\n",
    "Write a class to store information about books (title, author, page count).\n",
    "\n",
    "Write the methods:\n",
    "- method that prints a book in the format \"Book {title} of author {author} has {page count} pages\"\n",
    "- if the book is over 200 pages, add a note \"(thick)\" to the printed message\n",
    "\n",
    "Load the title, author, and page count values from the user."
   ]
  },
  {
   "cell_type": "code",
   "execution_count": null,
   "metadata": {},
   "outputs": [],
   "source": []
  },
  {
   "cell_type": "markdown",
   "metadata": {},
   "source": [
    "<div class=\"alert alert-info\"><b>Task 10</b></div>\n",
    "\n",
    "Write a class to hold the data about courses. \n",
    "\n",
    "One course has the following data:\n",
    "- name\n",
    "- number of ECTS point\n",
    "\n",
    "Allow the user to load as many courses as they want. Print all of the courses entered with the associated number of ECT points. Calculate the total number of ECTS points."
   ]
  },
  {
   "cell_type": "code",
   "execution_count": null,
   "metadata": {},
   "outputs": [],
   "source": []
  },
  {
   "cell_type": "markdown",
   "metadata": {},
   "source": [
    "<div class=\"alert alert-info\"><b>Task 11</b></div>\n",
    "\n",
    "Create a class Receipt that holds the following data:\n",
    "\n",
    "* `id` (int)\n",
    "* `amount` (float)\n",
    "\n",
    "Class should automatically set id to the next id in a sequence, which starts in 1.\n",
    "\n",
    "Create 3 instances and show that each instance has automatically generated id."
   ]
  },
  {
   "cell_type": "code",
   "execution_count": 130,
   "metadata": {},
   "outputs": [
    {
     "name": "stdout",
     "output_type": "stream",
     "text": [
      "1: 6.11\n",
      "2: 3.25\n",
      "3: 12.99\n"
     ]
    }
   ],
   "source": []
  },
  {
   "cell_type": "markdown",
   "metadata": {},
   "source": [
    "<div class=\"alert alert-info\"><b>Task 12</b></div>\n",
    "\n",
    "Write a CarOwner class that stores information about the car owner.\n",
    "\n",
    "The class contains the following data:\n",
    "- name\n",
    "- surname\n",
    "- address\n",
    "\n",
    "Define a dictionary with the license plate as a key, and the value should be CarOwner instance. Allow the user to enter as many license plates and owners as he wants.\n",
    "\n",
    "Enable search by registration. If the registration is in the dictionary, print the information about the owner."
   ]
  },
  {
   "cell_type": "code",
   "execution_count": null,
   "metadata": {},
   "outputs": [],
   "source": []
  }
 ],
 "metadata": {
  "kernelspec": {
   "display_name": "Python 3.10.5 64-bit",
   "language": "python",
   "name": "python3"
  },
  "language_info": {
   "codemirror_mode": {
    "name": "ipython",
    "version": 3
   },
   "file_extension": ".py",
   "mimetype": "text/x-python",
   "name": "python",
   "nbconvert_exporter": "python",
   "pygments_lexer": "ipython3",
   "version": "3.12.0"
  },
  "orig_nbformat": 4,
  "vscode": {
   "interpreter": {
    "hash": "3553903dba64754d2bfb0d59acd2dbff5bc8fcd3f403a6584ff751f2f4eee55f"
   }
  }
 },
 "nbformat": 4,
 "nbformat_minor": 2
}
