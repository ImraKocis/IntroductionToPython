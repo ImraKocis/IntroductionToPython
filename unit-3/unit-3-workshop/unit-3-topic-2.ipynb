{
 "cells": [
  {
   "cell_type": "markdown",
   "metadata": {},
   "source": [
    "# 3.2. Functions"
   ]
  },
  {
   "cell_type": "markdown",
   "metadata": {},
   "source": [
    "Functions are named reusable pieces of code.\n",
    "\n",
    "A function can take any number and type of input parameters and return any number and type of output results.\n",
    "\n",
    "To invoke a function we first define it using `def` keyword. \n",
    "\n",
    "Function can return value or not return any value, in which case it's also called a procedure."
   ]
  },
  {
   "cell_type": "markdown",
   "metadata": {},
   "source": [
    "Function help us to:\n",
    "- break down complex problems into simple ones\n",
    "- reuse parts of the code\n",
    "\n",
    "Mentally, we can follow of the \"black box\" principle:\n",
    "- one function uses another as a black box\n",
    "- user of the black box is aware of the following:\n",
    "  - what does the black box do\n",
    "  - which parameters he has to hand over to it\n",
    "  - what will he get as a result (what will the box do)\n",
    "- one black box is not interested in how the other black box works"
   ]
  },
  {
   "cell_type": "markdown",
   "metadata": {},
   "source": [
    "<div class=\"alert alert-info\"><b>Example 01</b></div>\n",
    "\n",
    "Write two functions:\n",
    "- one that returns the product of two integers (print it afterwards)\n",
    "- one that prints the product of two integers and does not return it\n"
   ]
  },
  {
   "cell_type": "code",
   "execution_count": 13,
   "metadata": {},
   "outputs": [
    {
     "name": "stdout",
     "output_type": "stream",
     "text": [
      "10\n",
      "10\n"
     ]
    }
   ],
   "source": [
    "def product(a,b):\n",
    "    c = a * b\n",
    "    return c\n",
    "\n",
    "p = product(2,5)\n",
    "print(p)\n",
    "\n",
    "def product_print(a,b):\n",
    "    c = a * b\n",
    "    print(c)\n",
    "\n",
    "product_print(2,5)\n"
   ]
  },
  {
   "cell_type": "markdown",
   "metadata": {},
   "source": [
    "<div class=\"alert alert-info\"><b>Example 02</b></div>\n",
    "\n",
    "Write a function that accepts an integer n and returns the sum of the numbers from 1 to n. \n",
    "\n",
    "To call the function, load integer n from the user.\n",
    "\n",
    "Then change the function call to use a keyword argument."
   ]
  },
  {
   "cell_type": "code",
   "execution_count": 44,
   "metadata": {},
   "outputs": [
    {
     "name": "stdout",
     "output_type": "stream",
     "text": [
      "Sum of numbers from 1 to 56: 1596\n"
     ]
    }
   ],
   "source": [
    "def MySum(n):\n",
    "  sum = 0\n",
    "  for i in range(1, n+1):\n",
    "    sum += i\n",
    "  return sum\n",
    "\n",
    "number = int(input(\"Enter an integer:\"))\n",
    "sum = MySum(number)\n",
    "sum = MySum(n = number)\n",
    "print(\"Sum of numbers from 1 to {}: {}\".format(number, sum))\n"
   ]
  },
  {
   "cell_type": "markdown",
   "metadata": {},
   "source": [
    "<div class=\"alert alert-info\"><b>Example 03</b></div>\n",
    "\n",
    "Write a function that keeps loading numbers from the user as long as the sum of the already loaded numbers is less than or equal to 100. Inside the function, print the sum of the numbers. The function returns how many numbers were entered from the user. Print the number of entered numbers in the main part of the program."
   ]
  },
  {
   "cell_type": "code",
   "execution_count": null,
   "metadata": {},
   "outputs": [],
   "source": [
    "def addition():\n",
    "  sum = 0\n",
    "  counter = 0\n",
    "  while(sum <= 100):\n",
    "    number = int(input(\"Enter a number:\"))\n",
    "    counter += 1\n",
    "    sum += number\n",
    "  print(\"The sum of the numbers carried is over 100:\", sum)\n",
    "  return counter\n",
    "\n",
    "print(\"Number of loaded numbers:\", addition())"
   ]
  },
  {
   "cell_type": "markdown",
   "metadata": {},
   "source": [
    "<div class=\"alert alert-info\"><b>Example 04</b></div>\n",
    "\n",
    "Write a function that receives a sentence and a character and returns how many times the given character appears in the sentence. If character is not given, default it to \"a\"."
   ]
  },
  {
   "cell_type": "code",
   "execution_count": 43,
   "metadata": {},
   "outputs": [
    {
     "name": "stdout",
     "output_type": "stream",
     "text": [
      "Number of occurrences of character l: 1\n",
      "Number of occurrences of default character: 2\n"
     ]
    }
   ],
   "source": [
    "def character_count(sentence, character=\"a\"):\n",
    "  counter = 0\n",
    "  for letter in sentence:\n",
    "    if(letter == character):\n",
    "      counter += 1\n",
    "  return counter\n",
    "\n",
    "cnt = character_count(\"This is just an example\", \"l\")\n",
    "print(\"Number of occurrences of character l: {}\".format(cnt))\n",
    "\n",
    "cnt = character_count(\"This is just an example\")\n",
    "print(\"Number of occurrences of default character: {}\".format(cnt))"
   ]
  },
  {
   "cell_type": "markdown",
   "metadata": {},
   "source": [
    "<div class=\"alert alert-info\"><b>Example 05</b></div>\n",
    "\n",
    "Write two functions:\n",
    "- a function that generates list of 5 random numbers between 1 and 20\n",
    "- a function that returns the average of the received numbers in list\n",
    "\n",
    "In the main part of the program, use these functions to generate list and calculate the average of the list.\n",
    "After generation, print list items in a single row."
   ]
  },
  {
   "cell_type": "code",
   "execution_count": 2,
   "metadata": {},
   "outputs": [
    {
     "name": "stdout",
     "output_type": "stream",
     "text": [
      "3 8 19 8 17 \n"
     ]
    }
   ],
   "source": [
    "from random import randint\n",
    "\n",
    "def generate():\n",
    "  l = []\n",
    "  for _ in range(5):\n",
    "    number = randint(1,20)\n",
    "    l.append(number)\n",
    "  return l\n",
    "\n",
    "def calc_avg(list):\n",
    "  cnt = len(list)\n",
    "  l_sum = sum(list)\n",
    "  return l_sum/cnt\n",
    "\n",
    "nums = generate()\n",
    "for number in nums:\n",
    "     print(number, end=' ')\n",
    "print()\n",
    "\n",
    "nums_avg = calc_avg(nums)\n",
    "#print(\"Average value of elements:\", nums_avg)"
   ]
  },
  {
   "cell_type": "markdown",
   "metadata": {},
   "source": [
    "<div class=\"alert alert-info\"><b>Example 06</b></div>\n",
    "\n",
    "Write a function that takes a word and returns the same word with a parameterized character between every two characters. \n",
    "\n",
    "For example, if a function receives \"table\" and \"_\", let it return \"t_a_b_l_e\".\n",
    "For example, if a function receives \"word\" and \"+\", let it return \"w+o+r+d\".\n",
    "\n",
    "Let the default characters be \"-\".\n",
    "Call the function using keyword arguments."
   ]
  },
  {
   "cell_type": "code",
   "execution_count": 51,
   "metadata": {},
   "outputs": [
    {
     "name": "stdout",
     "output_type": "stream",
     "text": [
      "t_a_b_l_e\n",
      "t-a-b-l-e\n"
     ]
    }
   ],
   "source": [
    "def word_mod(word, mod_char = \"-\"):\n",
    "  new_word = \"\"\n",
    "  for char in word:\n",
    "    new_word += char + mod_char\n",
    "\n",
    "  new_word = new_word[0:-1]\n",
    "  return new_word\n",
    "\n",
    "print(word_mod(word=\"table\", mod_char=\"_\"))\n",
    "print(word_mod(word=\"table\"))"
   ]
  },
  {
   "cell_type": "markdown",
   "metadata": {},
   "source": [
    "### Built-in functions\n",
    "\n",
    "Python comes with a number of ready-to-use functions\n",
    "- some are built into the language itself, some are available in additional packages\n",
    "\n",
    "Here are a few useful built-in functions (we've already used some):\n",
    "- _abs(number)_ – returns the absolute value of a number\n",
    "- _pow(base, exponent)_ – raises a number to the given exponent\n",
    "- _min(container)_ – returns the smallest value in the container\n",
    "- _max(container)_ – returns the largest value in the container\n",
    "- _round(number, digits)_ – rounds the number to the specified number of digits\n",
    "- _format(text, specification)_ – returns formatted text according to the given specification\n",
    "  - the _format()_ function runs through the given text and replaces each placeholder with the given values\n",
    "  - curly brackets can contain placeholder names or indices, or can be empty (anonymous)\n",
    "  - if placeholders are not named (anonymous), they are used in ordinal manner"
   ]
  },
  {
   "cell_type": "markdown",
   "metadata": {},
   "source": [
    "<div class=\"alert alert-info\"><b>Example 07</b></div>\n",
    "\n",
    "Define a message of the form \"Weather: Sunny, Temperature: 20 degrees\" using the format function.\n",
    "Use named, indexed and anonymous placeholders."
   ]
  },
  {
   "cell_type": "code",
   "execution_count": 5,
   "metadata": {},
   "outputs": [
    {
     "name": "stdout",
     "output_type": "stream",
     "text": [
      "Weather: Sunny, Temperature: 20 degrees\n",
      "Weather: Sunny, Temperature: 20 degrees\n",
      "Weather: Sunny, Temperature: 20 degrees\n"
     ]
    }
   ],
   "source": [
    "message = 'Weather: {forecast}, Temperature: {temp} degrees'.format(forecast='Sunny', temp=20)\n",
    "print(message)\n",
    "\n",
    "message = 'Weather: {1}, Temperature: {0} degrees'.format(20, 'Sunny')\n",
    "print(message)\n",
    "\n",
    "message = 'Weather: {}, Temperature: {} degrees'.format('Sunny', 20)\n",
    "print(message)"
   ]
  },
  {
   "cell_type": "markdown",
   "metadata": {},
   "source": [
    "### Built-in modules\n",
    "\n",
    "Python comes with a number of built-in modules.\n",
    "\n",
    "To use functions in a particular module, we have to import the content of the module into our program:\n",
    "\n",
    "- importing of a module\n",
    "```python\n",
    "    import module_name\n",
    "```\n",
    "- importing of a module with a different name (alias)\n",
    "```python\n",
    "    import module_name as some_alias\n",
    "```\n",
    "- importing of individual module element directly into the namespace of our program\n",
    "```python\n",
    "    from module_name import some_alias\n",
    "```"
   ]
  },
  {
   "cell_type": "markdown",
   "metadata": {},
   "source": [
    "<div class=\"alert alert-info\"><b>Example 08</b></div>\n",
    "\n",
    "Import the \"random\" module. Generate and print 10 random integers between 1 and 50 in the same line."
   ]
  },
  {
   "cell_type": "code",
   "execution_count": 9,
   "metadata": {},
   "outputs": [
    {
     "name": "stdout",
     "output_type": "stream",
     "text": [
      "28 25 23 21 2 45 4 18 39 40 "
     ]
    }
   ],
   "source": [
    "import random\n",
    "\n",
    "for _ in range(10):\n",
    "  num = random.randint(1,50)\n",
    "  print(num, end=\" \")\n"
   ]
  },
  {
   "cell_type": "markdown",
   "metadata": {},
   "source": [
    "Solve the same task by importing the \"random\" module aliased as \"r\"."
   ]
  },
  {
   "cell_type": "code",
   "execution_count": 10,
   "metadata": {},
   "outputs": [
    {
     "name": "stdout",
     "output_type": "stream",
     "text": [
      "24 7 48 48 19 40 30 16 1 13 "
     ]
    }
   ],
   "source": [
    "import random as r\n",
    "\n",
    "for _ in range(10):\n",
    "  num = r.randint(1,50)\n",
    "  print(num, end=\" \")\n"
   ]
  },
  {
   "cell_type": "markdown",
   "metadata": {},
   "source": [
    "Solve the same task by importing the randint() function from \"random\" module into our namespace."
   ]
  },
  {
   "cell_type": "code",
   "execution_count": 11,
   "metadata": {},
   "outputs": [
    {
     "name": "stdout",
     "output_type": "stream",
     "text": [
      "22 12 40 39 3 27 11 48 22 7 "
     ]
    }
   ],
   "source": [
    "from random import randint\n",
    "\n",
    "for _ in range(10):\n",
    "  num = randint(1,50)\n",
    "  print(num, end=\" \")"
   ]
  },
  {
   "cell_type": "markdown",
   "metadata": {},
   "source": [
    "### Gathering arguments"
   ]
  },
  {
   "cell_type": "markdown",
   "metadata": {},
   "source": [
    "<div class=\"alert alert-info\"><b>Example 09</b></div>\n",
    "\n",
    "Write a function that calculates and returns the sum of passed positional arguments.\n",
    "\n",
    "Call the function using:\n",
    "\n",
    "- 3 integer values\n",
    "- 3 float values\n",
    "- 3 complex values"
   ]
  },
  {
   "cell_type": "code",
   "execution_count": 6,
   "metadata": {},
   "outputs": [
    {
     "name": "stdout",
     "output_type": "stream",
     "text": [
      "10\n",
      "11.0\n",
      "(11+16j)\n"
     ]
    }
   ],
   "source": [
    "def calc_sum(*nums):\n",
    "  res = 0\n",
    "  for num in nums:\n",
    "    res += num\n",
    "  \n",
    "  return res\n",
    "\n",
    "print(calc_sum(2, 3, 5))\n",
    "print(calc_sum(2.0, 3.3, 5.7))\n",
    "print(calc_sum(1+2j, 3+5j, 7+9j))"
   ]
  },
  {
   "cell_type": "markdown",
   "metadata": {},
   "source": [
    "<div class=\"alert alert-info\"><b>Example 10</b></div>\n",
    "\n",
    "Write a function that gathers keyword arguments and returns them in the following format:\n",
    "\n",
    "`arg1:val1,arg2:val2,arg3:val3`"
   ]
  },
  {
   "cell_type": "code",
   "execution_count": 16,
   "metadata": {},
   "outputs": [
    {
     "name": "stdout",
     "output_type": "stream",
     "text": [
      "arg1:val1,arg2:val2,arg3:val3\n"
     ]
    }
   ],
   "source": [
    "def get_string(**kwargs):\n",
    "  out_tokens = []\n",
    "  for key in kwargs:\n",
    "    #print(key, kwargs[key])\n",
    "    out_tokens.append(f\"{key}:{kwargs[key]}\")\n",
    "  \n",
    "  return \",\".join(out_tokens)\n",
    "\n",
    "print(get_string(arg1 = \"val1\", arg2 = \"val2\", arg3 = \"val3\" ))"
   ]
  },
  {
   "cell_type": "markdown",
   "metadata": {},
   "source": [
    "<div class=\"alert alert-info\"><b>Example 11</b></div>\n",
    "\n",
    "For the previous example, write a Docstring with keyword arguments."
   ]
  },
  {
   "cell_type": "code",
   "execution_count": 17,
   "metadata": {},
   "outputs": [
    {
     "name": "stdout",
     "output_type": "stream",
     "text": [
      "arg1:val1,arg2:val2,arg3:val3\n"
     ]
    }
   ],
   "source": [
    "def get_string(**kwargs):\n",
    "  \"\"\"Gathers keyword arguments and returns them in format arg1:val1,arg2:val2,arg3:val3\n",
    "  \n",
    "  Keyword arguments:\n",
    "    kwargs -- keyword arguments used to create output string\"\"\"\n",
    "  out_tokens = []\n",
    "  for key in kwargs:\n",
    "    #print(key, kwargs[key])\n",
    "    out_tokens.append(f\"{key}:{kwargs[key]}\")\n",
    "  \n",
    "  return \",\".join(out_tokens)\n",
    "\n",
    "print(get_string(arg1 = \"val1\", arg2 = \"val2\", arg3 = \"val3\" ))"
   ]
  },
  {
   "cell_type": "markdown",
   "metadata": {},
   "source": [
    "<div class=\"alert alert-info\"><b>Example 12</b></div>\n",
    "\n",
    "Write a function that adds two decimal numbers and returns a result rounded to the nearest integer.\n",
    "\n",
    "Add annotations for input arguments and return value."
   ]
  },
  {
   "cell_type": "code",
   "execution_count": 23,
   "metadata": {},
   "outputs": [
    {
     "name": "stdout",
     "output_type": "stream",
     "text": [
      "4\n"
     ]
    }
   ],
   "source": [
    "def sum_2(a: float, b: float) -> int:\n",
    "  return round(a + b)\n",
    "\n",
    "print(sum_2(1.1, 2.5))\n"
   ]
  },
  {
   "cell_type": "markdown",
   "metadata": {},
   "source": [
    "<div class=\"alert alert-info\"><b>Example 13</b></div>\n",
    "\n",
    "Inititalize a list with first 7 fibonacci numbers (1,1,2,3,5,8,13).\n",
    "Then use filter() function to get all the even numbers from that list.\n",
    "Print the result."
   ]
  },
  {
   "cell_type": "code",
   "execution_count": 21,
   "metadata": {},
   "outputs": [
    {
     "name": "stdout",
     "output_type": "stream",
     "text": [
      "[2, 8]\n"
     ]
    }
   ],
   "source": [
    "fibo = [1,1,2,3,5,8,13]\n",
    "fibo_filter = filter(lambda x: x%2 == 0, fibo)\n",
    "fibo_even = list(fibo_filter)\n",
    "print(fibo_even)"
   ]
  },
  {
   "cell_type": "markdown",
   "metadata": {},
   "source": [
    "## Exercises"
   ]
  },
  {
   "cell_type": "markdown",
   "metadata": {},
   "source": [
    "<div class=\"alert alert-info\"><b>Task 01</b></div>\n",
    "\n",
    "Write a function that prints characters with ASCII codes from 65 to 70.\n",
    "\n",
    "Then write a function that returns characters with ASCII codes from 65 to 70.\n",
    "\n",
    "Then change that function to receive one parameter n, and return characters with ASCII codes from 65 to 65+n."
   ]
  },
  {
   "cell_type": "code",
   "execution_count": 6,
   "metadata": {},
   "outputs": [
    {
     "data": {
      "text/plain": [
       "['A', 'B', 'C', 'D', 'E', 'F', 'G']"
      ]
     },
     "execution_count": 6,
     "metadata": {},
     "output_type": "execute_result"
    }
   ],
   "source": [
    "def printCharsWithASCII():\n",
    "    i = 65\n",
    "    while(i <= 70):\n",
    "        print(chr(i))\n",
    "        i+=1\n",
    "\n",
    "def getCharsFromASCII(n: int):\n",
    "    i = 65\n",
    "    chars = []\n",
    "    while(i <= n):\n",
    "        chars.append(chr(i)) \n",
    "        i+=1\n",
    "    return chars\n",
    "\n",
    "getCharsFromASCII(71)"
   ]
  },
  {
   "cell_type": "markdown",
   "metadata": {},
   "source": [
    "<div class=\"alert alert-info\"><b>Task 02</b></div>\n",
    "\n",
    "Write a function that takes a string input. If the string input is longer than 10 characters or shorter than 3 characters, return None. Otherwise return lowercase string."
   ]
  },
  {
   "cell_type": "code",
   "execution_count": 8,
   "metadata": {},
   "outputs": [
    {
     "data": {
      "text/plain": [
       "'imra'"
      ]
     },
     "execution_count": 8,
     "metadata": {},
     "output_type": "execute_result"
    }
   ],
   "source": [
    "def checkStringLength(str):\n",
    "    if(len(str) < 3 or len(str) > 10):\n",
    "        return None\n",
    "    else: \n",
    "        return str.lower()\n",
    "    \n",
    "checkStringLength('Imra')"
   ]
  },
  {
   "cell_type": "markdown",
   "metadata": {},
   "source": [
    "<div class=\"alert alert-info\"><b>Task 03</b></div>\n",
    "\n",
    "Write a function that takes a sentence as an argument and _prints_ number of words in it."
   ]
  },
  {
   "cell_type": "code",
   "execution_count": 9,
   "metadata": {},
   "outputs": [
    {
     "data": {
      "text/plain": [
       "4"
      ]
     },
     "execution_count": 9,
     "metadata": {},
     "output_type": "execute_result"
    }
   ],
   "source": [
    "def getNumberOfChars(sent):\n",
    "    return len(sent.split())\n",
    "\n",
    "getNumberOfChars('This is one sentance')\n"
   ]
  },
  {
   "cell_type": "markdown",
   "metadata": {},
   "source": [
    "<div class=\"alert alert-info\"><b>Task 04</b></div>\n",
    "\n",
    "Write a function that calculates and returns triangle area, `P = 0.5 * base * height`"
   ]
  },
  {
   "cell_type": "code",
   "execution_count": 12,
   "metadata": {},
   "outputs": [
    {
     "data": {
      "text/plain": [
       "'Wrong input'"
      ]
     },
     "execution_count": 12,
     "metadata": {},
     "output_type": "execute_result"
    }
   ],
   "source": [
    "def getTriangleArea(base: int, height:int):\n",
    "    try:\n",
    "        return 0.5*base*height\n",
    "    except:\n",
    "        return 'Wrong input'\n",
    "    \n",
    "getTriangleArea(5,5)"
   ]
  },
  {
   "cell_type": "markdown",
   "metadata": {},
   "source": [
    "<div class=\"alert alert-info\"><b>Task 05</b></div>\n",
    "\n",
    "Write a function that takes a sentence as an argument and returns average length of a word, rounded to nearest integer (use `round(x)`). \n",
    "\n",
    "When function returns, print the returned value in the format \"Average length of word is: 5\" ."
   ]
  },
  {
   "cell_type": "code",
   "execution_count": 17,
   "metadata": {},
   "outputs": [
    {
     "data": {
      "text/plain": [
       "'Average length of word is: 4'"
      ]
     },
     "execution_count": 17,
     "metadata": {},
     "output_type": "execute_result"
    }
   ],
   "source": [
    "def getAverageWordLen(sent):\n",
    "    wordLens = 0\n",
    "    words = sent.split()\n",
    "\n",
    "    for word in words:\n",
    "        wordLens = wordLens + len(word)\n",
    "\n",
    "\n",
    "    return f'Average length of word is: {round(wordLens/len(words))}'\n",
    "\n",
    "getAverageWordLen('This is some sentance')"
   ]
  },
  {
   "cell_type": "markdown",
   "metadata": {},
   "source": [
    "<div class=\"alert alert-info\"><b>Task 06</b></div>\n",
    "\n",
    "Write a function that takes a word as an input.\n",
    "If the word is shorter than 4 characters, pad it with `*` character to the length 4.\n",
    "If the word is longer than 4 characters, truncate it.\n",
    "\n",
    "Then:\n",
    "- convert the sentence \"The quick brown fox jumps over the lazy dog\" to list of words\n",
    "- for each word call the implemented function and print the result "
   ]
  },
  {
   "cell_type": "code",
   "execution_count": 21,
   "metadata": {},
   "outputs": [
    {
     "name": "stdout",
     "output_type": "stream",
     "text": [
      "The*\n",
      "quic\n",
      "brow\n",
      "fox*\n",
      "jump\n",
      "over\n",
      "the*\n",
      "lazy\n",
      "dog*\n"
     ]
    }
   ],
   "source": [
    "def trincateWord(word):\n",
    "    i = 0\n",
    "    if(len(word) >= 4):\n",
    "        return word[0:4]\n",
    "    else:\n",
    "        i = len(word)\n",
    "        newWord=word\n",
    "        while(i<4):\n",
    "            newWord = newWord + '*'\n",
    "            i+=1\n",
    "\n",
    "        return newWord\n",
    "\n",
    "def convertSentance(sent):\n",
    "    words = sent.split()\n",
    "    for word in words:\n",
    "        print(trincateWord(word))\n",
    "\n",
    "convertSentance('The quick brown fox jumps over the lazy dog')\n"
   ]
  },
  {
   "cell_type": "markdown",
   "metadata": {},
   "source": [
    "<div class=\"alert alert-info\"><b>Task 07</b></div>\n",
    "\n",
    "Write a function that calculates the volume of the cylinder: `V = 2 * r * PI * h`\n",
    "\n",
    "Function receives parameters `r` and `h` and returns the result.\n",
    "\n",
    "Call the function using keyword arguments.\n",
    "\n",
    "If argument `h` is not given, default it to 10."
   ]
  },
  {
   "cell_type": "code",
   "execution_count": 38,
   "metadata": {},
   "outputs": [
    {
     "name": "stdout",
     "output_type": "stream",
     "text": [
      "188.4\n",
      "94.2\n"
     ]
    }
   ],
   "source": []
  },
  {
   "cell_type": "markdown",
   "metadata": {},
   "source": [
    "<div class=\"alert alert-info\"><b>Task 08</b></div>\n",
    "\n",
    "Write a function that takes string positional arguments and returns them joined in a string with a dash between:\n",
    "\n",
    "E.g. `arg1-arg2-arg3`\n",
    "\n",
    "> Use join() function for that, e.g. \"\".join(args)"
   ]
  },
  {
   "cell_type": "code",
   "execution_count": null,
   "metadata": {},
   "outputs": [],
   "source": []
  },
  {
   "cell_type": "markdown",
   "metadata": {},
   "source": [
    "<div class=\"alert alert-info\"><b>Task 09</b></div>\n",
    "\n",
    "Write a function that gathers keyword arguments and returns them in the following format:\n",
    "\n",
    "`arg1=val1;arg2=val2;arg3=val3`"
   ]
  },
  {
   "cell_type": "code",
   "execution_count": 52,
   "metadata": {},
   "outputs": [
    {
     "name": "stdout",
     "output_type": "stream",
     "text": [
      "arg1=val1;arg2=val2;arg3=val3\n"
     ]
    }
   ],
   "source": []
  },
  {
   "cell_type": "markdown",
   "metadata": {},
   "source": [
    "<div class=\"alert alert-info\"><b>Task 10</b></div>\n",
    "\n",
    "Document a function that calculates cylinder volume using a simple docstring like `Calculates the volume of a cylinder`.\n",
    "\n",
    "Then add docstring `Keyword arguments` section with input arguments.\n",
    "\n",
    "Then annotate the function for float input arguments and float return value."
   ]
  },
  {
   "cell_type": "code",
   "execution_count": null,
   "metadata": {},
   "outputs": [],
   "source": []
  },
  {
   "cell_type": "markdown",
   "metadata": {},
   "source": [
    "<div class=\"alert alert-info\"><b>Task 11</b></div>\n",
    "\n",
    "Write a function that takes one integer positional argument `n` and other keyword arguments.\n",
    "\n",
    "Print all the values of keyword arguments one after the another, `n` times.\n",
    "\n",
    "Document the function using docstring and annotations."
   ]
  },
  {
   "cell_type": "code",
   "execution_count": null,
   "metadata": {},
   "outputs": [],
   "source": []
  },
  {
   "cell_type": "markdown",
   "metadata": {},
   "source": [
    "<div class=\"alert alert-info\"><b>Task 12</b></div>\n",
    "\n",
    "Ask user to input a string of numbers divided by spaces.\n",
    "\n",
    "Then use filter to get all the input numbers that are divisible by 3.\n",
    "\n",
    "Print the result."
   ]
  },
  {
   "cell_type": "code",
   "execution_count": null,
   "metadata": {},
   "outputs": [],
   "source": []
  },
  {
   "cell_type": "markdown",
   "metadata": {},
   "source": [
    "<div class=\"alert alert-info\"><b>Task 13</b></div>\n",
    "\n",
    "Input the sentence from user.\n",
    "Then input the character string and print all the words from the sentence that start with that character string.\n",
    "\n",
    "Use `filter()` function for that.\n",
    "\n",
    "> Hint: you can use `startswith('str')` string method to check if string starts with something"
   ]
  },
  {
   "cell_type": "code",
   "execution_count": null,
   "metadata": {},
   "outputs": [],
   "source": []
  },
  {
   "cell_type": "markdown",
   "metadata": {},
   "source": [
    "<br><div class=\"alert alert-info\"><b>Example 14</b></div>\n",
    "Write a program that calculates the perimeter and area of a right-angled triangle. \n",
    "\n",
    "Allow the user to choose whether they want to input legs (catheti), perimeter, or area as long as they want. \n",
    "\n",
    "Use functions to print menus, calculate hypotenuse, calculate area and calculate perimeter.\n",
    "\n",
    "Pythagorean theorem:\n",
    "$$\n",
    "c = \\sqrt{a^2+b^2}\n",
    "$$\n",
    "Perimeter:\n",
    "$$\n",
    "O = a + b + c\n",
    "$$\n",
    "Area:\n",
    "$$\n",
    "P = \\frac{a * b}{2}\n",
    "$$"
   ]
  },
  {
   "cell_type": "code",
   "execution_count": null,
   "metadata": {},
   "outputs": [],
   "source": []
  }
 ],
 "metadata": {
  "kernelspec": {
   "display_name": "Python 3.10.5 64-bit",
   "language": "python",
   "name": "python3"
  },
  "language_info": {
   "codemirror_mode": {
    "name": "ipython",
    "version": 3
   },
   "file_extension": ".py",
   "mimetype": "text/x-python",
   "name": "python",
   "nbconvert_exporter": "python",
   "pygments_lexer": "ipython3",
   "version": "3.12.0"
  },
  "orig_nbformat": 4,
  "vscode": {
   "interpreter": {
    "hash": "3553903dba64754d2bfb0d59acd2dbff5bc8fcd3f403a6584ff751f2f4eee55f"
   }
  }
 },
 "nbformat": 4,
 "nbformat_minor": 2
}
