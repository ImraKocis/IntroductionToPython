{
 "cells": [
  {
   "cell_type": "markdown",
   "metadata": {},
   "source": [
    "# 3.1. Data collections"
   ]
  },
  {
   "cell_type": "markdown",
   "metadata": {},
   "source": [
    "## List"
   ]
  },
  {
   "cell_type": "markdown",
   "metadata": {},
   "source": [
    "List is a type used to store multiple items in the same ordered and indexed structure.\n",
    "Every item in the list can be of different type.\n",
    "Usually in one list we store same types.\n",
    "\n",
    "List does preserve its order - when item is added to list on one position, it remains on that position if we don't change it.\n",
    "\n",
    "Indexed means that address of the item in the list is an index."
   ]
  },
  {
   "cell_type": "markdown",
   "metadata": {},
   "source": [
    "<div class=\"alert alert-info\"><b>Example 01</b></div>\n",
    "\n",
    "Write a program that initializes the list with 5 numbers.\n",
    "\n",
    "Print the elements of the list using a for loop.\n",
    "\n",
    "Print the middle three elements of the list using a for loop.\n",
    "\n",
    "Print the list in reverse using a for loop.\n"
   ]
  },
  {
   "cell_type": "code",
   "execution_count": 1,
   "metadata": {},
   "outputs": [
    {
     "name": "stdout",
     "output_type": "stream",
     "text": [
      "Elements of the list:\n",
      "1\n",
      "2\n",
      "3\n",
      "4\n",
      "5\n",
      "\n",
      "Middle three elements of the list:\n",
      "2\n",
      "3\n",
      "4\n",
      "\n",
      "List in reverse:\n",
      "5\n",
      "4\n",
      "3\n",
      "2\n",
      "1\n"
     ]
    }
   ],
   "source": [
    "# Initialize the list with 5 numbers\n",
    "my_list = [1, 2, 3, 4, 5]\n",
    "\n",
    "# Print the elements of the list using a for loop\n",
    "print(\"Elements of the list:\")\n",
    "for element in my_list:\n",
    "    print(element)\n",
    "\n",
    "# Print the middle three elements of the list using a for loop\n",
    "print(\"\\nMiddle three elements of the list:\")\n",
    "for element in my_list[1:4]:\n",
    "    print(element)\n",
    "\n",
    "# Print the list in reverse using a for loop\n",
    "print(\"\\nList in reverse:\")\n",
    "for element in reversed(my_list):\n",
    "    print(element)\n"
   ]
  },
  {
   "cell_type": "markdown",
   "metadata": {},
   "source": [
    "<div class=\"alert alert-info\"><b>Example 02</b></div>\n",
    "\n",
    "Initialize an empty list and:\n",
    "\n",
    "- append integers from 1 to 10\n",
    "- append every 20th integer from 100 to 0\n"
   ]
  },
  {
   "cell_type": "code",
   "execution_count": 3,
   "metadata": {},
   "outputs": [
    {
     "name": "stdout",
     "output_type": "stream",
     "text": [
      "[1, 2, 3, 4, 5, 6, 7, 8, 9, 10, 100, 80, 60, 40, 20, 0]\n"
     ]
    }
   ],
   "source": [
    "# Initialize an empty list\n",
    "my_list = []\n",
    "\n",
    "# Append integers from 1 to 10\n",
    "for i in range(1, 11):\n",
    "    my_list.append(i)\n",
    "\n",
    "# Append every 20th integer from 100 to 0\n",
    "for i in range(100, -1, -20):\n",
    "    my_list.append(i)\n",
    "\n",
    "# Print the final list\n",
    "print(my_list)\n"
   ]
  },
  {
   "cell_type": "markdown",
   "metadata": {},
   "source": [
    "<div class=\"alert alert-info\"><b>Example 03</b></div>\n",
    "\n",
    "In an infinite loop, load a word from the user and append it to the list.\n",
    "Then the program should ask \"Add another? (yes/no)\", and if the answer is either 'y' or 'yes' then the loop continues, otherwise exits.\n",
    "At the end, print all the words."
   ]
  },
  {
   "cell_type": "code",
   "execution_count": null,
   "metadata": {},
   "outputs": [],
   "source": []
  },
  {
   "cell_type": "code",
   "execution_count": null,
   "metadata": {},
   "outputs": [],
   "source": []
  },
  {
   "cell_type": "code",
   "execution_count": 5,
   "metadata": {},
   "outputs": [
    {
     "name": "stdout",
     "output_type": "stream",
     "text": [
      "All words entered:\n",
      "pero\n",
      "zika\n",
      "ssss\n",
      "aaaa\n"
     ]
    }
   ],
   "source": [
    "# Initialize an empty list to store words\n",
    "word_list = []\n",
    "\n",
    "# Infinite loop to continuously load words\n",
    "while True:\n",
    "    # Load a word from the user\n",
    "    word = input(\"Enter a word: \")\n",
    "    \n",
    "    # Append the word to the list\n",
    "    word_list.append(word)\n",
    "    \n",
    "    # Ask the user whether to add another word\n",
    "    add_another = input(\"Add another? (yes/no): \").lower()\n",
    "    \n",
    "    # Check if the answer is not 'y' or 'yes', then break out of the loop\n",
    "    if add_another not in ['y', 'yes']:\n",
    "        break\n",
    "\n",
    "# Print all the words in the list\n",
    "print(\"All words entered:\")\n",
    "for word in word_list:\n",
    "    print(word)\n"
   ]
  },
  {
   "cell_type": "markdown",
   "metadata": {},
   "source": [
    "<br><div class=\"alert alert-info\"><b>Example 04</b></div>\n",
    "\n",
    "Write a program in which you fill the list with 300 random numbers between 1 and 1000. "
   ]
  },
  {
   "cell_type": "code",
   "execution_count": 6,
   "metadata": {},
   "outputs": [
    {
     "name": "stdout",
     "output_type": "stream",
     "text": [
      "List of 300 random numbers between 1 and 1000:\n",
      "[189, 312, 751, 593, 131, 54, 974, 658, 356, 841, 169, 612, 205, 138, 173, 718, 304, 545, 250, 486, 153, 185, 230, 711, 359, 153, 99, 73, 34, 103, 164, 211, 527, 139, 972, 117, 583, 964, 628, 236, 739, 941, 698, 240, 457, 121, 296, 915, 714, 13, 633, 734, 194, 544, 965, 495, 862, 104, 168, 988, 442, 941, 272, 394, 684, 33, 96, 148, 950, 109, 959, 563, 339, 408, 505, 400, 461, 609, 516, 818, 913, 236, 382, 61, 759, 101, 841, 250, 488, 76, 73, 513, 314, 635, 939, 765, 490, 260, 649, 411, 636, 371, 108, 386, 658, 996, 225, 470, 805, 910, 767, 700, 40, 721, 90, 248, 652, 529, 189, 78, 670, 579, 258, 113, 671, 492, 469, 389, 911, 522, 512, 322, 477, 214, 398, 563, 832, 994, 476, 106, 545, 525, 318, 526, 600, 505, 702, 636, 333, 475, 316, 162, 152, 71, 563, 184, 772, 593, 387, 445, 814, 922, 243, 965, 808, 313, 409, 894, 807, 103, 416, 316, 254, 616, 730, 547, 97, 675, 523, 23, 187, 593, 238, 378, 734, 769, 417, 964, 839, 798, 820, 515, 251, 690, 717, 98, 63, 535, 952, 343, 45, 852, 56, 848, 990, 278, 305, 11, 872, 310, 542, 14, 542, 322, 450, 934, 233, 114, 242, 300, 751, 267, 848, 658, 131, 951, 793, 677, 269, 160, 970, 871, 914, 100, 750, 718, 67, 568, 669, 84, 731, 485, 771, 995, 813, 773, 226, 287, 927, 798, 502, 624, 323, 927, 582, 272, 709, 995, 88, 217, 71, 169, 25, 566, 175, 501, 660, 951, 326, 358, 611, 38, 196, 545, 758, 143, 17, 357, 878, 42, 607, 398, 145, 736, 733, 379, 329, 617, 421, 363, 887, 708, 773, 252, 496, 990, 968, 874, 749, 247]\n"
     ]
    }
   ],
   "source": [
    "import random\n",
    "\n",
    "# Initialize an empty list to store random numbers\n",
    "random_numbers = []\n",
    "\n",
    "# Fill the list with 300 random numbers between 1 and 1000\n",
    "for _ in range(300):\n",
    "    random_number = random.randint(1, 1000)\n",
    "    random_numbers.append(random_number)\n",
    "\n",
    "# Print the list of random numbers\n",
    "print(\"List of 300 random numbers between 1 and 1000:\")\n",
    "print(random_numbers)\n"
   ]
  },
  {
   "cell_type": "markdown",
   "metadata": {},
   "source": [
    "## Dictionary"
   ]
  },
  {
   "cell_type": "markdown",
   "metadata": {},
   "source": [
    "Dictionary is a type used to store values that can be addressed using keys. \n",
    "\n",
    "As in list, every item in the dictionary can be of different type.\n",
    "Also, every key can be of different type.\n",
    "\n",
    "Structure does have an order, but traditionally we don't rely on it (ordered from v3.7)."
   ]
  },
  {
   "cell_type": "markdown",
   "metadata": {},
   "source": [
    "<div class=\"alert alert-info\"><b>Example 05</b></div>\n",
    "\n",
    "Write a code that initializes a dictionary \"car\" with the following keys: manufacturer, model, engineVolume and enginePower. Assign arbitrary values to the keys.\n",
    "\n",
    "Print the dictionary in the form:\n",
    "\n",
    "- Manufacturer: Opel\n",
    "- Model: Astra\n",
    "- Engine volume: 2.2\n",
    "- Engine power: 144\n",
    "\n",
    "[Example car data](https://www.autosnout.com/Car-Power-List.php)"
   ]
  },
  {
   "cell_type": "code",
   "execution_count": 7,
   "metadata": {},
   "outputs": [
    {
     "name": "stdout",
     "output_type": "stream",
     "text": [
      "Manufacturer: Opel\n",
      "Model: Astra\n",
      "Engine volume: 2.2\n",
      "Engine power: 144\n"
     ]
    }
   ],
   "source": [
    "# Initialize the dictionary \"car\" with keys and values\n",
    "car = {\n",
    "    \"manufacturer\": \"Opel\",\n",
    "    \"model\": \"Astra\",\n",
    "    \"engineVolume\": 2.2,\n",
    "    \"enginePower\": 144\n",
    "}\n",
    "\n",
    "# Print the dictionary in the specified format\n",
    "print(\"Manufacturer:\", car[\"manufacturer\"])\n",
    "print(\"Model:\", car[\"model\"])\n",
    "print(\"Engine volume:\", car[\"engineVolume\"])\n",
    "print(\"Engine power:\", car[\"enginePower\"])"
   ]
  },
  {
   "cell_type": "markdown",
   "metadata": {},
   "source": [
    "<div class=\"alert alert-info\"><b>Example 06</b></div>\n",
    "\n",
    "Write a code that initializes a list of dictionaries.\n",
    "\n",
    "```\n",
    "data = [{ \"id\": 1,  \"first_name\": \"Aleksandr\",  \"last_name\": \"Matuszewski\",  \"email\": \"amatuszewski0@issuu.com\",  \"gender\": \"M\" },\n",
    "{ \"id\": 2,  \"first_name\": \"Jacobo\",  \"last_name\": \"Papaminas\",  \"email\": \"jpapaminas1@networksolutions.com\",  \"gender\": \"M\"},\n",
    "{ \"id\": 3,  \"first_name\": \"Jannel\",  \"last_name\": \"Skerme\",  \"email\": \"jskerme2@bloglines.com\",  \"gender\": \"F\"},\n",
    "{ \"id\": 4,  \"first_name\": \"Foss\",  \"last_name\": \"Yosselevitch\",  \"email\": \"fyosselevitch3@goo.gl\",  \"gender\": \"M\"},\n",
    "{ \"id\": 5,  \"first_name\": \"Alexina\",  \"last_name\": \"Pitrasso\",  \"email\": \"apitrasso4@barnesandnoble.com\",  \"gender\": \"F\" }]\n",
    "```\n",
    "\n",
    "Iterate the list and print last name and email.\n",
    "\n",
    "While iterating, delete first name and gender.\n",
    "\n",
    "In the end print the entire list."
   ]
  },
  {
   "cell_type": "code",
   "execution_count": 8,
   "metadata": {},
   "outputs": [
    {
     "name": "stdout",
     "output_type": "stream",
     "text": [
      "Last Name: Matuszewski\n",
      "Email: amatuszewski0@issuu.com\n",
      "Last Name: Papaminas\n",
      "Email: jpapaminas1@networksolutions.com\n",
      "Last Name: Skerme\n",
      "Email: jskerme2@bloglines.com\n",
      "Last Name: Yosselevitch\n",
      "Email: fyosselevitch3@goo.gl\n",
      "Last Name: Pitrasso\n",
      "Email: apitrasso4@barnesandnoble.com\n",
      "\n",
      "Modified List:\n",
      "[{'id': 1, 'last_name': 'Matuszewski', 'email': 'amatuszewski0@issuu.com'}, {'id': 2, 'last_name': 'Papaminas', 'email': 'jpapaminas1@networksolutions.com'}, {'id': 3, 'last_name': 'Skerme', 'email': 'jskerme2@bloglines.com'}, {'id': 4, 'last_name': 'Yosselevitch', 'email': 'fyosselevitch3@goo.gl'}, {'id': 5, 'last_name': 'Pitrasso', 'email': 'apitrasso4@barnesandnoble.com'}]\n"
     ]
    }
   ],
   "source": [
    "data = [\n",
    "    { \"id\": 1, \"first_name\": \"Aleksandr\", \"last_name\": \"Matuszewski\", \"email\": \"amatuszewski0@issuu.com\", \"gender\": \"M\" },\n",
    "    { \"id\": 2, \"first_name\": \"Jacobo\", \"last_name\": \"Papaminas\", \"email\": \"jpapaminas1@networksolutions.com\", \"gender\": \"M\"},\n",
    "    { \"id\": 3, \"first_name\": \"Jannel\", \"last_name\": \"Skerme\", \"email\": \"jskerme2@bloglines.com\", \"gender\": \"F\"},\n",
    "    { \"id\": 4, \"first_name\": \"Foss\", \"last_name\": \"Yosselevitch\", \"email\": \"fyosselevitch3@goo.gl\", \"gender\": \"M\"},\n",
    "    { \"id\": 5, \"first_name\": \"Alexina\", \"last_name\": \"Pitrasso\", \"email\": \"apitrasso4@barnesandnoble.com\", \"gender\": \"F\" }\n",
    "]\n",
    "\n",
    "# Iterate through the list\n",
    "for entry in data:\n",
    "    # Print last name and email\n",
    "    print(\"Last Name:\", entry[\"last_name\"])\n",
    "    print(\"Email:\", entry[\"email\"])\n",
    "    \n",
    "    # Delete first name and gender\n",
    "    del entry[\"first_name\"]\n",
    "    del entry[\"gender\"]\n",
    "\n",
    "# Print the modified list\n",
    "print(\"\\nModified List:\")\n",
    "print(data)\n"
   ]
  },
  {
   "cell_type": "markdown",
   "metadata": {},
   "source": [
    "## Tuple"
   ]
  },
  {
   "cell_type": "markdown",
   "metadata": {},
   "source": [
    "An n-tuple is similar to a list.\n",
    "\n",
    "- ordered structure\n",
    "- the main difference is that n-tuple content cannot be changed (immutable)\n",
    "- it's not unusual to mix values of different types"
   ]
  },
  {
   "cell_type": "markdown",
   "metadata": {},
   "source": [
    "<div class=\"alert alert-info\"><b>Example 07</b></div>\n",
    "\n",
    "Create an n-tuple containing 5 numbers. \n",
    "\n",
    "Change the 5th element to the letter 'A' and delete the 4th element.\n",
    "\n",
    "> Hint: use list() and tuple() conversions to work around immutability\n",
    "\n",
    "Also, add a complex number element to a tuple."
   ]
  },
  {
   "cell_type": "code",
   "execution_count": 9,
   "metadata": {},
   "outputs": [
    {
     "name": "stdout",
     "output_type": "stream",
     "text": [
      "Modified Tuple: (1, 2, 3, 'A')\n",
      "Modified Tuple with Complex Number: (1, 2, 3, 'A', (1+2j))\n"
     ]
    }
   ],
   "source": [
    "# Create an n-tuple containing 5 numbers\n",
    "original_tuple = (1, 2, 3, 4, 5)\n",
    "\n",
    "# Convert the tuple to a list to make modifications\n",
    "modified_list = list(original_tuple)\n",
    "\n",
    "# Change the 5th element to the letter 'A' (indexing starts from 0)\n",
    "modified_list[4] = 'A'\n",
    "\n",
    "# Delete the 4th element (indexing starts from 0)\n",
    "del modified_list[3]\n",
    "\n",
    "# Convert the list back to a tuple\n",
    "modified_tuple = tuple(modified_list)\n",
    "\n",
    "# Print the modified tuple\n",
    "print(\"Modified Tuple:\", modified_tuple)\n",
    "\n",
    "# Add a complex number element to the tuple\n",
    "complex_number = 1 + 2j\n",
    "modified_tuple_with_complex = modified_tuple + (complex_number,)\n",
    "\n",
    "# Print the modified tuple with the added complex number\n",
    "print(\"Modified Tuple with Complex Number:\", modified_tuple_with_complex)\n"
   ]
  },
  {
   "cell_type": "markdown",
   "metadata": {},
   "source": [
    "<div class=\"alert alert-info\"><b>Example 08</b></div>\n",
    "\n",
    "Load the student's name, surname and student identifier from the user and make an n-tuple out of that. \n",
    "\n",
    "Unpack the n-tuple and print the student's last name.\n",
    "\n",
    "> Hint: you can use discard operator `_` for that"
   ]
  },
  {
   "cell_type": "code",
   "execution_count": 10,
   "metadata": {},
   "outputs": [
    {
     "name": "stdout",
     "output_type": "stream",
     "text": [
      "Student's Last Name:  Smith\n"
     ]
    }
   ],
   "source": [
    "# Get student's name, surname, and identifier from the user\n",
    "name = input(\"Enter student's name: \")\n",
    "surname = input(\"Enter student's surname: \")\n",
    "identifier = input(\"Enter student's identifier: \")\n",
    "\n",
    "# Create an n-tuple from the user input\n",
    "student_tuple = (name, surname, identifier)\n",
    "\n",
    "# Unpack the n-tuple (using _ for values we don't need)\n",
    "_, student_last_name, _ = student_tuple\n",
    "\n",
    "# Print the student's last name\n",
    "print(\"Student's Last Name:\", student_last_name)\n"
   ]
  },
  {
   "cell_type": "markdown",
   "metadata": {},
   "source": [
    "## Set"
   ]
  },
  {
   "cell_type": "markdown",
   "metadata": {},
   "source": [
    "Each element of a set is different to other elements in the same set.\n",
    "\n",
    "Inside a set, no item can be changed.\n",
    "\n",
    "- actually an item of the set can be replaced, but item in the set must be immutable and cannot be changed\n",
    "- set is mutable but its members are immutable\n",
    "\n",
    "Order of set does not matter."
   ]
  },
  {
   "cell_type": "markdown",
   "metadata": {},
   "source": [
    "<div class=\"alert alert-info\"><b>Example 09</b></div>\n",
    "\n",
    "Write a program in which you fill the list with 30 random numbers between 1 and 100. \n",
    "\n",
    "Create the program that will remove all the duplicate numbers.\n",
    "\n",
    "> Use set() conversion for that\n",
    "\n",
    "Print the unique numbers."
   ]
  },
  {
   "cell_type": "code",
   "execution_count": 2,
   "metadata": {},
   "outputs": [
    {
     "name": "stdout",
     "output_type": "stream",
     "text": [
      "Original List with Duplicates:\n",
      "[79, 62, 68, 48, 17, 75, 10, 75, 27, 11, 79, 35, 63, 90, 6, 66, 89, 79, 19, 74, 25, 94, 11, 32, 14, 55, 66, 59, 91, 45]\n",
      "\n",
      "Unique Numbers:\n",
      "[6, 10, 11, 14, 17, 19, 25, 27, 32, 35, 45, 48, 55, 59, 62, 63, 66, 68, 74, 75, 79, 89, 90, 91, 94]\n"
     ]
    }
   ],
   "source": [
    "import random\n",
    "\n",
    "# Fill the list with 30 random numbers between 1 and 100\n",
    "random_numbers_list = [random.randint(1, 100) for _ in range(30)]\n",
    "\n",
    "# Remove duplicates using set conversion\n",
    "unique_numbers_set = set(random_numbers_list)\n",
    "\n",
    "# Print the unique numbers\n",
    "print(\"Original List with Duplicates:\")\n",
    "print(random_numbers_list)\n",
    "\n",
    "print(\"\\nUnique Numbers:\")\n",
    "print(list(unique_numbers_set))\n"
   ]
  },
  {
   "cell_type": "markdown",
   "metadata": {},
   "source": [
    "<br><div class=\"alert alert-info\"><b>Example 10</b></div>\n",
    "\n",
    "Write a program in which you fill the list with 300 random numbers between 1 and 1000. \n",
    "\n",
    "Remove all the duplicate numbers from that list and print how many duplicate numbers were there.\n",
    "\n",
    "> Hint: You can sort the list e.g. using in-place sorting."
   ]
  },
  {
   "cell_type": "code",
   "execution_count": 3,
   "metadata": {},
   "outputs": [
    {
     "name": "stdout",
     "output_type": "stream",
     "text": [
      "[4, 518, 6, 520, 9, 10, 13, 526, 528, 529, 16, 531, 532, 533, 534, 536, 537, 538, 540, 29, 541, 543, 34, 551, 44, 46, 47, 560, 51, 55, 58, 571, 63, 588, 76, 591, 80, 594, 596, 598, 600, 89, 603, 93, 607, 608, 613, 614, 101, 616, 105, 108, 622, 112, 113, 116, 629, 118, 117, 121, 123, 635, 640, 129, 130, 131, 646, 135, 137, 140, 652, 656, 148, 661, 662, 660, 151, 665, 667, 156, 155, 670, 668, 160, 672, 674, 164, 165, 682, 685, 175, 687, 689, 177, 691, 692, 182, 698, 189, 702, 193, 194, 707, 706, 197, 198, 710, 712, 201, 714, 715, 716, 717, 718, 205, 720, 206, 722, 723, 212, 207, 726, 216, 731, 220, 223, 739, 232, 747, 235, 237, 751, 241, 754, 757, 758, 761, 764, 254, 776, 778, 268, 270, 783, 272, 274, 275, 788, 277, 790, 280, 283, 284, 798, 287, 286, 290, 803, 294, 807, 811, 301, 302, 819, 821, 310, 311, 313, 830, 319, 320, 326, 839, 840, 329, 328, 330, 844, 845, 843, 847, 337, 338, 852, 341, 344, 858, 863, 351, 865, 866, 353, 354, 356, 361, 873, 875, 367, 891, 382, 896, 898, 391, 393, 395, 912, 402, 919, 920, 409, 411, 413, 926, 414, 416, 930, 931, 423, 424, 937, 938, 426, 941, 433, 435, 436, 437, 444, 961, 450, 964, 965, 452, 454, 459, 460, 462, 463, 464, 465, 467, 984, 985, 989, 991, 992, 479, 995, 484, 485, 998, 491, 492, 495, 501, 502, 503, 504, 505, 506, 508, 511]\n",
      "38\n"
     ]
    }
   ],
   "source": [
    "import random\n",
    "list1 = []\n",
    "\n",
    "for _ in range(300):\n",
    "    number = random.randint(1,1000)\n",
    "    list1.append(number)\n",
    "\n",
    "unique_list = set(list1)\n",
    "\n",
    "print(list(unique_list))\n",
    "\n",
    "print(len(list1)-len(unique_list))"
   ]
  },
  {
   "cell_type": "markdown",
   "metadata": {},
   "source": [
    "Another way of solving this is by using sets."
   ]
  },
  {
   "cell_type": "code",
   "execution_count": 110,
   "metadata": {},
   "outputs": [
    {
     "name": "stdout",
     "output_type": "stream",
     "text": [
      "39\n"
     ]
    }
   ],
   "source": []
  },
  {
   "cell_type": "markdown",
   "metadata": {},
   "source": [
    "## Exercises"
   ]
  },
  {
   "cell_type": "markdown",
   "metadata": {},
   "source": [
    "<div class=\"alert alert-info\"><b>Task 01</b></div>\n",
    "\n",
    "Write a program that initializes the list with 5 names.\n",
    "\n",
    "Reverse each name using a for loop, and print original and reversed list.\n"
   ]
  },
  {
   "cell_type": "code",
   "execution_count": 4,
   "metadata": {},
   "outputs": [
    {
     "name": "stdout",
     "output_type": "stream",
     "text": [
      "Original List:\n",
      "['Alice', 'Bob', 'Charlie', 'David', 'Eva']\n",
      "\n",
      "Reversed List:\n",
      "['ecilA', 'boB', 'eilrahC', 'divaD', 'avE']\n"
     ]
    }
   ],
   "source": [
    "# Initialize the list with 5 names\n",
    "names_list = [\"Alice\", \"Bob\", \"Charlie\", \"David\", \"Eva\"]\n",
    "\n",
    "# Initialize an empty list to store reversed names\n",
    "reversed_names_list = []\n",
    "\n",
    "# Reverse each name using a for loop\n",
    "for name in names_list:\n",
    "    reversed_name = name[::-1]  # Using string slicing to reverse the name\n",
    "    reversed_names_list.append(reversed_name)\n",
    "\n",
    "# Print the original and reversed lists\n",
    "print(\"Original List:\")\n",
    "print(names_list)\n",
    "\n",
    "print(\"\\nReversed List:\")\n",
    "print(reversed_names_list)\n"
   ]
  },
  {
   "cell_type": "markdown",
   "metadata": {},
   "source": [
    "<div class=\"alert alert-info\"><b>Task 02</b></div>\n",
    "\n",
    "Start with the previous example.\n",
    "\n",
    "For each name in original list print also its index, and the item at that index in reversed name list."
   ]
  },
  {
   "cell_type": "code",
   "execution_count": 8,
   "metadata": {},
   "outputs": [
    {
     "name": "stdout",
     "output_type": "stream",
     "text": [
      "Original List with Indices:\n",
      "Index: 0, Name: Alice, Reversed Name: ecilA\n",
      "Index: 1, Name: Bob, Reversed Name: boB\n",
      "Index: 2, Name: Charlie, Reversed Name: eilrahC\n",
      "Index: 3, Name: David, Reversed Name: divaD\n",
      "Index: 4, Name: Eva, Reversed Name: avE\n"
     ]
    }
   ],
   "source": [
    "# Reverse each name using a for loop\n",
    "for name in names_list:\n",
    "    reversed_name = name[::-1]  # Using string slicing to reverse the name\n",
    "    reversed_names_list.append(reversed_name)\n",
    "\n",
    "# Print the original and reversed lists with indices\n",
    "print(\"Original List with Indices:\")\n",
    "for index, name in enumerate(names_list):\n",
    "    print(f\"Index: {index}, Name: {name}, Reversed Name: {reversed_names_list[index]}\")\n",
    "\n",
    "\n"
   ]
  },
  {
   "cell_type": "markdown",
   "metadata": {},
   "source": [
    "<div class=\"alert alert-info\"><b>Task 03</b></div>\n",
    "\n",
    "Start with the previous example.\n",
    "\n",
    "Use `zip()` function to correlate items in two lists and print them."
   ]
  },
  {
   "cell_type": "code",
   "execution_count": 9,
   "metadata": {},
   "outputs": [
    {
     "name": "stdout",
     "output_type": "stream",
     "text": [
      "Correlated Items using zip():\n",
      "Original Name: Alice, Reversed Name: ecilA\n",
      "Original Name: Bob, Reversed Name: boB\n",
      "Original Name: Charlie, Reversed Name: eilrahC\n",
      "Original Name: David, Reversed Name: divaD\n",
      "Original Name: Eva, Reversed Name: avE\n"
     ]
    }
   ],
   "source": [
    "# Print the correlated items using zip()\n",
    "print(\"Correlated Items using zip():\")\n",
    "for original_name, reversed_name in zip(names_list, reversed_names_list):\n",
    "    print(f\"Original Name: {original_name}, Reversed Name: {reversed_name}\")\n",
    "\n"
   ]
  },
  {
   "cell_type": "markdown",
   "metadata": {},
   "source": [
    "<br><div class=\"alert alert-info\"><b>Task 04</b></div>\n",
    "\n",
    "Write a program in which you fill the list with 100 random numbers between 1 and 1000. \n",
    "\n",
    "Print how many even elements are there in a list.\n",
    "\n",
    "Then remove all the odd elements and count again how many elements are there in a list."
   ]
  },
  {
   "cell_type": "code",
   "execution_count": 16,
   "metadata": {},
   "outputs": [
    {
     "name": "stdout",
     "output_type": "stream",
     "text": [
      "Count of even elements in the original list: 43\n",
      "Count of even elements after removing odd elements: 43\n"
     ]
    }
   ],
   "source": [
    "import random\n",
    "\n",
    "# Fill the list with 100 random numbers between 1 and 1000\n",
    "random_numbers_list = [random.randint(1, 1000) for _ in range(100)]\n",
    "\n",
    "# Print the count of even elements\n",
    "even_count = sum(1 for num in random_numbers_list if num % 2 == 0)\n",
    "print(\"Count of even elements in the original list:\", even_count)\n",
    "\n",
    "# Remove odd elements from the list\n",
    "random_numbers_list = [num for num in random_numbers_list if num % 2 == 0]\n",
    "\n",
    "# Print the count again after removing odd elements\n",
    "even_count_after_removal = len(random_numbers_list)\n",
    "print(\"Count of even elements after removing odd elements:\", even_count_after_removal)\n"
   ]
  },
  {
   "cell_type": "markdown",
   "metadata": {},
   "source": [
    "<br><div class=\"alert alert-info\"><b>Task 05</b></div>\n",
    "\n",
    "Create an empty dictionary. Load the user's 5 domain tags and the country to which the domain belongs to the dictionary. After entering, print the contents of the dictionary in the format of country - domain name."
   ]
  },
  {
   "cell_type": "code",
   "execution_count": 17,
   "metadata": {},
   "outputs": [
    {
     "name": "stdout",
     "output_type": "stream",
     "text": [
      "\n",
      "Dictionary Contents:\n",
      "Croatia - hr\n",
      "England - uk\n",
      "Germany - de\n",
      "Russia - ru\n",
      " - \n"
     ]
    }
   ],
   "source": [
    "# Create an empty dictionary to store domain tags and countries\n",
    "domain_dict = {}\n",
    "\n",
    "# Load user's 5 domain tags and corresponding countries\n",
    "for _ in range(5):\n",
    "    domain_tag = input(\"Enter a domain tag: \")\n",
    "    country = input(\"Enter the country for the domain tag: \")\n",
    "    domain_dict[domain_tag] = country\n",
    "\n",
    "# Print the contents of the dictionary in the format of country - domain name\n",
    "print(\"\\nDictionary Contents:\")\n",
    "for domain_tag, country in domain_dict.items():\n",
    "    print(f\"{country} - {domain_tag}\")\n"
   ]
  },
  {
   "cell_type": "markdown",
   "metadata": {},
   "source": [
    "<br><div class=\"alert alert-info\"><b>Task 06</b></div>\n",
    "\n",
    "For the previous example, after input, allow the user to search endlessly by domain tag. If the domain does not exist in the dictionary, inform the user about it."
   ]
  },
  {
   "cell_type": "code",
   "execution_count": 18,
   "metadata": {},
   "outputs": [
    {
     "name": "stdout",
     "output_type": "stream",
     "text": [
      "Country for domain tag 'hr': Croatia\n",
      "Country for domain tag 'ru': Russia\n",
      "Domain tag 'ss' not found in the dictionary.\n",
      "Country for domain tag '': \n",
      "Country for domain tag '': \n",
      "Country for domain tag '': \n",
      "Country for domain tag '': \n",
      "Country for domain tag '': \n"
     ]
    }
   ],
   "source": [
    "while True:\n",
    "    search_tag = input(\"\\nEnter a domain tag to search (or 'exit' to stop): \")\n",
    "    \n",
    "    if search_tag.lower() == 'exit':\n",
    "        break\n",
    "    \n",
    "    # Check if the domain tag exists in the dictionary\n",
    "    if search_tag in domain_dict:\n",
    "        country = domain_dict[search_tag]\n",
    "        print(f\"Country for domain tag '{search_tag}': {country}\")\n",
    "    else:\n",
    "        print(f\"Domain tag '{search_tag}' not found in the dictionary.\")"
   ]
  },
  {
   "cell_type": "markdown",
   "metadata": {},
   "source": [
    "<br><div class=\"alert alert-info\"><b>Task 07</b></div>\n",
    "\n",
    "Write a program that will for each letter of the alphabet store its ASCII code. Print the contents of the data structure."
   ]
  },
  {
   "cell_type": "code",
   "execution_count": 19,
   "metadata": {},
   "outputs": [
    {
     "name": "stdout",
     "output_type": "stream",
     "text": [
      "Alphabet ASCII Codes:\n",
      "A: 65\n",
      "B: 66\n",
      "C: 67\n",
      "D: 68\n",
      "E: 69\n",
      "F: 70\n",
      "G: 71\n",
      "H: 72\n",
      "I: 73\n",
      "J: 74\n",
      "K: 75\n",
      "L: 76\n",
      "M: 77\n",
      "N: 78\n",
      "O: 79\n",
      "P: 80\n",
      "Q: 81\n",
      "R: 82\n",
      "S: 83\n",
      "T: 84\n",
      "U: 85\n",
      "V: 86\n",
      "W: 87\n",
      "X: 88\n",
      "Y: 89\n",
      "Z: 90\n"
     ]
    }
   ],
   "source": [
    "# Create a dictionary to store ASCII codes for each letter of the alphabet\n",
    "ascii_codes = {chr(letter): ord(chr(letter)) for letter in range(ord('A'), ord('Z') + 1)}\n",
    "\n",
    "# Print the contents of the dictionary\n",
    "print(\"Alphabet ASCII Codes:\")\n",
    "for letter, code in ascii_codes.items():\n",
    "    print(f\"{letter}: {code}\")\n"
   ]
  },
  {
   "cell_type": "markdown",
   "metadata": {},
   "source": [
    "<br><div class=\"alert alert-info\"><b>Task08</b></div>\n",
    "\n",
    "Write a program to enter survey data on students and their favorite programming language (key: name, value: favorite programming language).\n",
    "Allow the user to enter survey results as long as he wants. Ensure that survey entries are unique (the key to making the survey unique is the username). \n",
    "\n",
    "Print the survey results in the form: <br>\n",
    "- Name:\n",
    "- Favorite language:\n"
   ]
  },
  {
   "cell_type": "code",
   "execution_count": 21,
   "metadata": {},
   "outputs": [
    {
     "name": "stdout",
     "output_type": "stream",
     "text": [
      "{'pero': 'c++', 'jana': 'c', 'mirko python': 'exit'}\n",
      "\n",
      "Survey Results:\n",
      "\n",
      "Name: pero\n",
      "Favorite Language: c++\n",
      "\n",
      "Name: jana\n",
      "Favorite Language: c\n",
      "\n",
      "Name: mirko python\n",
      "Favorite Language: exit\n"
     ]
    }
   ],
   "source": [
    "# Create an empty dictionary to store survey data\n",
    "survey_results = {}\n",
    "\n",
    "# Allow the user to enter survey data\n",
    "while True:\n",
    "    name = input(\"\\nEnter student's name (or 'exit' to stop): \")\n",
    "    \n",
    "    # Check if the user wants to exit\n",
    "    if name.lower() == 'exit':\n",
    "        break\n",
    "    \n",
    "    # Ensure uniqueness of survey entries based on the student's name\n",
    "    if name in survey_results:\n",
    "        print(f\"Survey data for {name} already exists. Please enter a unique name.\")\n",
    "        continue\n",
    "    \n",
    "    # Get the student's favorite programming language\n",
    "    favorite_language = input(\"Enter student's favorite programming language: \")\n",
    "    \n",
    "    # Store survey data in the dictionary\n",
    "    survey_results[name] = favorite_language\n",
    "\n",
    "# Print the survey results\n",
    "print(survey_results)\n"
   ]
  },
  {
   "cell_type": "markdown",
   "metadata": {},
   "source": [
    "<br><div class=\"alert alert-info\"><b>Task 09</b></div>\n",
    "\n",
    "Write a program that will parse the following string: `key1=value1;key2=value2;key3=value3`.\n",
    "\n",
    "Use an appropriate structure for that.\n"
   ]
  },
  {
   "cell_type": "code",
   "execution_count": 23,
   "metadata": {},
   "outputs": [
    {
     "name": "stdout",
     "output_type": "stream",
     "text": [
      "{'key1': 'value1', 'key2': 'value2', 'key3': 'value3'}\n"
     ]
    }
   ],
   "source": [
    "# Input string\n",
    "input_string = \"key1=value1;key2=value2;key3=value3\"\n",
    "\n",
    "# Split the string into key-value pairs\n",
    "key_value_pairs = input_string.split(\";\")\n",
    "\n",
    "# Create a dictionary to store the parsed key-value pairs\n",
    "parsed_data = {}\n",
    "\n",
    "# Parse and store the key-value pairs in the dictionary\n",
    "for pair in key_value_pairs:\n",
    "    key, value = pair.split(\"=\")\n",
    "    parsed_data[key] = value\n",
    "\n",
    "# Print the parsed data\n",
    "print(parsed_data)\n",
    "\n"
   ]
  },
  {
   "cell_type": "markdown",
   "metadata": {},
   "source": [
    "<br><div class=\"alert alert-info\"><b>Task 10</b></div>\n",
    "\n",
    "Write a program that inputs two strings, swaps their values using tuples and outputs them."
   ]
  },
  {
   "cell_type": "code",
   "execution_count": 26,
   "metadata": {},
   "outputs": [
    {
     "name": "stdout",
     "output_type": "stream",
     "text": [
      "ccc aaa\n"
     ]
    }
   ],
   "source": [
    "# Input two strings\n",
    "string1 = input(\"Enter the first string: \")\n",
    "string2 = input(\"Enter the second string: \")\n",
    "string1, string2 = string2, string1\n",
    "\n",
    "print(string1, string2)\n"
   ]
  },
  {
   "cell_type": "markdown",
   "metadata": {},
   "source": [
    "<br><div class=\"alert alert-info\"><b>Task 11</b></div>\n",
    "\n",
    "Write a program that initializes 3 strings and starts the for loop that runs 10 times. In for loop, it rotates 3 strings (str1=> str2, str2=>str3, str3=>str1) using tuples and writes strings in the same line, with number of iteration: \n",
    "```\n",
    "0: str1 str2 str3\n",
    "1: str3 str1 str2\n",
    "2: str2 str3 str1\n",
    "...\n",
    "```"
   ]
  },
  {
   "cell_type": "code",
   "execution_count": 29,
   "metadata": {},
   "outputs": [
    {
     "name": "stdout",
     "output_type": "stream",
     "text": [
      "0 111 222 333\n",
      "1 222 333 111\n",
      "2 333 111 222\n",
      "3 111 222 333\n",
      "4 222 333 111\n",
      "5 333 111 222\n",
      "6 111 222 333\n",
      "7 222 333 111\n",
      "8 333 111 222\n",
      "9 111 222 333\n"
     ]
    }
   ],
   "source": [
    "str1 = 111 \n",
    "str2 = 222\n",
    "str3 = 333\n",
    "\n",
    "for i in range(10):\n",
    "    if i == 0:\n",
    "        print(i, str1, str2, str3)\n",
    "    else:\n",
    "        str1, str2,str3 = str2, str3, str1\n",
    "        print(i, str1, str2, str3)\n",
    "\n",
    "    "
   ]
  },
  {
   "cell_type": "markdown",
   "metadata": {},
   "source": [
    "<br><div class=\"alert alert-info\"><b>Task 12</b></div>\n",
    "\n",
    "Write a program that asks for two strings.\n",
    "\n",
    "Then it should print the following:\n",
    "\n",
    "- all characters that can be found in strings, but without repetition (for 'abc' and 'bcd', it should print 'abcd')\n",
    "- all the characters that exist in both strings (for 'abc' and 'bcd', it should print 'bc')\n",
    "- all the characters that exist in first but not in second string (for 'abc' and 'bcd', it should print 'a')\n",
    "- all characters in strings, but but without intersection (for 'abc' and 'bcd', it should print 'ad')\n",
    "\n",
    "> Hint: set structure implements all these operations"
   ]
  },
  {
   "cell_type": "code",
   "execution_count": 65,
   "metadata": {},
   "outputs": [
    {
     "name": "stdout",
     "output_type": "stream",
     "text": [
      "String 1 is abc\n",
      "String 2 is bcd\n",
      "abcd\n",
      "bc\n",
      "a\n",
      "ad\n"
     ]
    }
   ],
   "source": []
  }
 ],
 "metadata": {
  "kernelspec": {
   "display_name": "Python 3.10.5 64-bit",
   "language": "python",
   "name": "python3"
  },
  "language_info": {
   "codemirror_mode": {
    "name": "ipython",
    "version": 3
   },
   "file_extension": ".py",
   "mimetype": "text/x-python",
   "name": "python",
   "nbconvert_exporter": "python",
   "pygments_lexer": "ipython3",
   "version": "3.11.6"
  },
  "orig_nbformat": 4,
  "vscode": {
   "interpreter": {
    "hash": "3553903dba64754d2bfb0d59acd2dbff5bc8fcd3f403a6584ff751f2f4eee55f"
   }
  }
 },
 "nbformat": 4,
 "nbformat_minor": 2
}
