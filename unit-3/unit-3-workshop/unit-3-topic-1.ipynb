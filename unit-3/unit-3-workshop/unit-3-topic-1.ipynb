{
 "cells": [
  {
   "cell_type": "markdown",
   "metadata": {},
   "source": [
    "# 3.1. Data collections"
   ]
  },
  {
   "cell_type": "markdown",
   "metadata": {},
   "source": [
    "## List"
   ]
  },
  {
   "cell_type": "markdown",
   "metadata": {},
   "source": [
    "List is a type used to store multiple items in the same ordered and indexed structure.\n",
    "Every item in the list can be of different type.\n",
    "Usually in one list we store same types.\n",
    "\n",
    "List does preserve its order - when item is added to list on one position, it remains on that position if we don't change it.\n",
    "\n",
    "Indexed means that address of the item in the list is an index."
   ]
  },
  {
   "cell_type": "markdown",
   "metadata": {},
   "source": [
    "<div class=\"alert alert-info\"><b>Example 01</b></div>\n",
    "\n",
    "Write a program that initializes the list with 5 numbers.\n",
    "\n",
    "Print the elements of the list using a for loop.\n",
    "\n",
    "Print the middle three elements of the list using a for loop.\n",
    "\n",
    "Print the list in reverse using a for loop.\n"
   ]
  },
  {
   "cell_type": "code",
   "execution_count": 68,
   "metadata": {},
   "outputs": [
    {
     "name": "stdout",
     "output_type": "stream",
     "text": [
      "4\n",
      "5\n",
      "7\n",
      "9\n",
      "12\n",
      "\n",
      "5\n",
      "7\n",
      "9\n",
      "\n",
      "12\n",
      "9\n",
      "7\n",
      "5\n",
      "4\n",
      "\n"
     ]
    }
   ],
   "source": []
  },
  {
   "cell_type": "markdown",
   "metadata": {},
   "source": [
    "<div class=\"alert alert-info\"><b>Example 02</b></div>\n",
    "\n",
    "Initialize an empty list and:\n",
    "\n",
    "- append integers from 1 to 10\n",
    "- append every 20th integer from 100 to 0\n"
   ]
  },
  {
   "cell_type": "code",
   "execution_count": 7,
   "metadata": {},
   "outputs": [
    {
     "name": "stdout",
     "output_type": "stream",
     "text": [
      "[1, 2, 3, 4, 5, 6, 7, 8, 9, 10, 100, 80, 60, 40, 20, 0]\n"
     ]
    }
   ],
   "source": []
  },
  {
   "cell_type": "markdown",
   "metadata": {},
   "source": [
    "<div class=\"alert alert-info\"><b>Example 03</b></div>\n",
    "\n",
    "In an infinite loop, load a word from the user and append it to the list.\n",
    "Then the program should ask \"Add another? (yes/no)\", and if the answer is either 'y' or 'yes' then the loop continues, otherwise exits.\n",
    "At the end, print all the words."
   ]
  },
  {
   "cell_type": "code",
   "execution_count": 8,
   "metadata": {},
   "outputs": [
    {
     "name": "stdout",
     "output_type": "stream",
     "text": [
      "['asdf', 'qwewqr', 'fsfdg']\n"
     ]
    }
   ],
   "source": []
  },
  {
   "cell_type": "markdown",
   "metadata": {},
   "source": [
    "<br><div class=\"alert alert-info\"><b>Example 04</b></div>\n",
    "\n",
    "Write a program in which you fill the list with 300 random numbers between 1 and 1000. "
   ]
  },
  {
   "cell_type": "code",
   "execution_count": 70,
   "metadata": {},
   "outputs": [
    {
     "name": "stdout",
     "output_type": "stream",
     "text": [
      "[701, 615, 501, 458, 882, 656, 519, 639, 586, 347, 558, 371, 296, 996, 811, 795, 561, 517, 887, 877, 356, 25, 425, 191, 853, 937, 945, 539, 623, 260, 538, 767, 377, 508, 808, 967, 648, 749, 412, 886, 519, 95, 127, 372, 475, 8, 330, 505, 914, 463, 443, 668, 483, 424, 649, 311, 623, 634, 660, 833, 629, 397, 160, 137, 330, 322, 334, 892, 809, 558, 443, 466, 683, 675, 852, 951, 324, 890, 542, 973, 463, 473, 749, 193, 495, 994, 349, 957, 919, 31, 563, 397, 290, 394, 116, 619, 206, 554, 607, 322, 58, 435, 973, 565, 949, 685, 498, 768, 811, 501, 872, 934, 705, 769, 188, 994, 831, 765, 613, 205, 958, 368, 485, 490, 298, 164, 800, 152, 508, 556, 269, 823, 137, 957, 382, 565, 484, 719, 279, 584, 428, 607, 128, 796, 467, 589, 598, 757, 163, 318, 310, 194, 313, 189, 51, 164, 631, 72, 270, 178, 144, 122, 169, 281, 394, 319, 436, 929, 224, 417, 678, 579, 969, 407, 418, 935, 416, 994, 419, 678, 318, 551, 349, 484, 939, 420, 662, 638, 138, 637, 873, 581, 129, 170, 392, 985, 818, 10, 441, 78, 209, 776, 101, 729, 978, 96, 440, 136, 396, 493, 32, 739, 993, 430, 191, 300, 107, 404, 927, 907, 632, 602, 710, 52, 603, 540, 818, 77, 78, 658, 183, 385, 671, 466, 349, 838, 609, 273, 849, 310, 187, 597, 207, 951, 802, 503, 824, 264, 149, 984, 694, 456, 95, 265, 736, 687, 229, 743, 68, 571, 402, 698, 625, 161, 197, 875, 600, 722, 769, 242, 253, 804, 232, 832, 500, 57, 772, 809, 718, 429, 760, 801, 639, 220, 841, 909, 232, 64, 380, 856, 676, 343, 365, 117, 399, 921, 699, 837, 111, 489]\n"
     ]
    }
   ],
   "source": []
  },
  {
   "cell_type": "markdown",
   "metadata": {},
   "source": [
    "## Dictionary"
   ]
  },
  {
   "cell_type": "markdown",
   "metadata": {},
   "source": [
    "Dictionary is a type used to store values that can be addressed using keys. \n",
    "\n",
    "As in list, every item in the dictionary can be of different type.\n",
    "Also, every key can be of different type.\n",
    "\n",
    "Structure does have an order, but traditionally we don't rely on it (ordered from v3.7)."
   ]
  },
  {
   "cell_type": "markdown",
   "metadata": {},
   "source": [
    "<div class=\"alert alert-info\"><b>Example 05</b></div>\n",
    "\n",
    "Write a code that initializes a dictionary \"car\" with the following keys: manufacturer, model, engineVolume and enginePower. Assign arbitrary values to the keys.\n",
    "\n",
    "Print the dictionary in the form:\n",
    "\n",
    "- Manufacturer: Opel\n",
    "- Model: Astra\n",
    "- Engine volume: 2.2\n",
    "- Engine power: 144\n",
    "\n",
    "[Example car data](https://www.autosnout.com/Car-Power-List.php)"
   ]
  },
  {
   "cell_type": "code",
   "execution_count": 72,
   "metadata": {},
   "outputs": [
    {
     "name": "stdout",
     "output_type": "stream",
     "text": [
      "Manufacturer: Opel\n",
      "model: Astra\n",
      "Engine volume: 2.2\n",
      "Engine power: 144\n"
     ]
    }
   ],
   "source": []
  },
  {
   "cell_type": "markdown",
   "metadata": {},
   "source": [
    "<div class=\"alert alert-info\"><b>Example 06</b></div>\n",
    "\n",
    "Write a code that initializes a list of dictionaries.\n",
    "\n",
    "```\n",
    "data = [{ \"id\": 1,  \"first_name\": \"Aleksandr\",  \"last_name\": \"Matuszewski\",  \"email\": \"amatuszewski0@issuu.com\",  \"gender\": \"M\" },\n",
    "{ \"id\": 2,  \"first_name\": \"Jacobo\",  \"last_name\": \"Papaminas\",  \"email\": \"jpapaminas1@networksolutions.com\",  \"gender\": \"M\"},\n",
    "{ \"id\": 3,  \"first_name\": \"Jannel\",  \"last_name\": \"Skerme\",  \"email\": \"jskerme2@bloglines.com\",  \"gender\": \"F\"},\n",
    "{ \"id\": 4,  \"first_name\": \"Foss\",  \"last_name\": \"Yosselevitch\",  \"email\": \"fyosselevitch3@goo.gl\",  \"gender\": \"M\"},\n",
    "{ \"id\": 5,  \"first_name\": \"Alexina\",  \"last_name\": \"Pitrasso\",  \"email\": \"apitrasso4@barnesandnoble.com\",  \"gender\": \"F\" }]\n",
    "```\n",
    "\n",
    "Iterate the list and print last name and email.\n",
    "\n",
    "While iterating, delete first name and gender.\n",
    "\n",
    "In the end print the entire list."
   ]
  },
  {
   "cell_type": "code",
   "execution_count": 75,
   "metadata": {},
   "outputs": [
    {
     "name": "stdout",
     "output_type": "stream",
     "text": [
      "Matuszewski amatuszewski0@issuu.com\n",
      "Papaminas jpapaminas1@networksolutions.com\n",
      "Skerme jskerme2@bloglines.com\n",
      "Yosselevitch fyosselevitch3@goo.gl\n",
      "Pitrasso apitrasso4@barnesandnoble.com\n",
      "[{'id': 1, 'last_name': 'Matuszewski', 'email': 'amatuszewski0@issuu.com'}, {'id': 2, 'last_name': 'Papaminas', 'email': 'jpapaminas1@networksolutions.com'}, {'id': 3, 'last_name': 'Skerme', 'email': 'jskerme2@bloglines.com'}, {'id': 4, 'last_name': 'Yosselevitch', 'email': 'fyosselevitch3@goo.gl'}, {'id': 5, 'last_name': 'Pitrasso', 'email': 'apitrasso4@barnesandnoble.com'}]\n"
     ]
    }
   ],
   "source": []
  },
  {
   "cell_type": "markdown",
   "metadata": {},
   "source": [
    "## Tuple"
   ]
  },
  {
   "cell_type": "markdown",
   "metadata": {},
   "source": [
    "An n-tuple is similar to a list.\n",
    "\n",
    "- ordered structure\n",
    "- the main difference is that n-tuple content cannot be changed (immutable)\n",
    "- it's not unusual to mix values of different types"
   ]
  },
  {
   "cell_type": "markdown",
   "metadata": {},
   "source": [
    "<div class=\"alert alert-info\"><b>Example 07</b></div>\n",
    "\n",
    "Create an n-tuple containing 5 numbers. \n",
    "\n",
    "Change the 5th element to the letter 'A' and delete the 4th element.\n",
    "\n",
    "> Hint: use list() and tuple() conversions to work around immutability\n",
    "\n",
    "Also, add a complex number element to a tuple."
   ]
  },
  {
   "cell_type": "code",
   "execution_count": 79,
   "metadata": {},
   "outputs": [
    {
     "name": "stdout",
     "output_type": "stream",
     "text": [
      "(2, 3, 5, 'A')\n"
     ]
    }
   ],
   "source": []
  },
  {
   "cell_type": "markdown",
   "metadata": {},
   "source": [
    "<div class=\"alert alert-info\"><b>Example 08</b></div>\n",
    "\n",
    "Load the student's name, surname and student identifier from the user and make an n-tuple out of that. \n",
    "\n",
    "Unpack the n-tuple and print the student's last name.\n",
    "\n",
    "> Hint: you can use discard operator `_` for that"
   ]
  },
  {
   "cell_type": "code",
   "execution_count": 81,
   "metadata": {},
   "outputs": [
    {
     "name": "stdout",
     "output_type": "stream",
     "text": [
      "Smith\n"
     ]
    }
   ],
   "source": []
  },
  {
   "cell_type": "markdown",
   "metadata": {},
   "source": [
    "## Set"
   ]
  },
  {
   "cell_type": "markdown",
   "metadata": {},
   "source": [
    "Each element of a set is different to other elements in the same set.\n",
    "\n",
    "Inside a set, no item can be changed.\n",
    "\n",
    "- actually an item of the set can be replaced, but item in the set must be immutable and cannot be changed\n",
    "- set is mutable but its members are immutable\n",
    "\n",
    "Order of set does not matter."
   ]
  },
  {
   "cell_type": "markdown",
   "metadata": {},
   "source": [
    "<div class=\"alert alert-info\"><b>Example 09</b></div>\n",
    "\n",
    "Write a program in which you fill the list with 30 random numbers between 1 and 100. \n",
    "\n",
    "Create the program that will remove all the duplicate numbers.\n",
    "\n",
    "> Use set() conversion for that\n",
    "\n",
    "Print the unique numbers."
   ]
  },
  {
   "cell_type": "code",
   "execution_count": 93,
   "metadata": {},
   "outputs": [
    {
     "name": "stdout",
     "output_type": "stream",
     "text": [
      "{5, 6, 7, 22, 28, 30, 31, 34, 35, 37, 39, 45, 58, 62, 68, 75, 78, 79, 80, 82, 83, 87, 88, 92, 93, 97}\n"
     ]
    }
   ],
   "source": []
  },
  {
   "cell_type": "markdown",
   "metadata": {},
   "source": [
    "<br><div class=\"alert alert-info\"><b>Example 10</b></div>\n",
    "\n",
    "Write a program in which you fill the list with 300 random numbers between 1 and 1000. \n",
    "\n",
    "Remove all the duplicate numbers from that list and print how many duplicate numbers were there.\n",
    "\n",
    "> Hint: You can sort the list e.g. using in-place sorting."
   ]
  },
  {
   "cell_type": "code",
   "execution_count": 114,
   "metadata": {},
   "outputs": [
    {
     "name": "stdout",
     "output_type": "stream",
     "text": [
      "40\n",
      "40\n"
     ]
    }
   ],
   "source": []
  },
  {
   "cell_type": "markdown",
   "metadata": {},
   "source": [
    "Another way of solving this is by using sets."
   ]
  },
  {
   "cell_type": "code",
   "execution_count": 110,
   "metadata": {},
   "outputs": [
    {
     "name": "stdout",
     "output_type": "stream",
     "text": [
      "39\n"
     ]
    }
   ],
   "source": []
  },
  {
   "cell_type": "markdown",
   "metadata": {},
   "source": [
    "## Exercises"
   ]
  },
  {
   "cell_type": "markdown",
   "metadata": {},
   "source": [
    "<div class=\"alert alert-info\"><b>Task 01</b></div>\n",
    "\n",
    "Write a program that initializes the list with 5 names.\n",
    "\n",
    "Reverse each name using a for loop, and print original and reversed list.\n"
   ]
  },
  {
   "cell_type": "code",
   "execution_count": 3,
   "metadata": {},
   "outputs": [
    {
     "name": "stdout",
     "output_type": "stream",
     "text": [
      "['Cathy', 'Gianni', 'Lian', 'Camilla', 'Eve']\n",
      "['yhtaC', 'innaiG', 'naiL', 'allimaC', 'evE']\n"
     ]
    }
   ],
   "source": []
  },
  {
   "cell_type": "markdown",
   "metadata": {},
   "source": [
    "<div class=\"alert alert-info\"><b>Task 02</b></div>\n",
    "\n",
    "Start with the previous example.\n",
    "\n",
    "For each name in original list print also its index, and the item at that index in reversed name list."
   ]
  },
  {
   "cell_type": "code",
   "execution_count": 7,
   "metadata": {},
   "outputs": [
    {
     "name": "stdout",
     "output_type": "stream",
     "text": [
      "Cathy 0 yhtaC\n",
      "Gianni 1 innaiG\n",
      "Lian 2 naiL\n",
      "Camilla 3 allimaC\n",
      "Eve 4 evE\n"
     ]
    }
   ],
   "source": []
  },
  {
   "cell_type": "markdown",
   "metadata": {},
   "source": [
    "<div class=\"alert alert-info\"><b>Task 03</b></div>\n",
    "\n",
    "Start with the previous example.\n",
    "\n",
    "Use `zip()` function to correlate items in two lists and print them."
   ]
  },
  {
   "cell_type": "code",
   "execution_count": 10,
   "metadata": {},
   "outputs": [
    {
     "name": "stdout",
     "output_type": "stream",
     "text": [
      "('Cathy', 'yhtaC')\n",
      "Cathy -> yhtaC\n",
      "('Gianni', 'innaiG')\n",
      "Gianni -> innaiG\n",
      "('Lian', 'naiL')\n",
      "Lian -> naiL\n",
      "('Camilla', 'allimaC')\n",
      "Camilla -> allimaC\n",
      "('Eve', 'evE')\n",
      "Eve -> evE\n"
     ]
    }
   ],
   "source": []
  },
  {
   "cell_type": "markdown",
   "metadata": {},
   "source": [
    "<br><div class=\"alert alert-info\"><b>Task 04</b></div>\n",
    "\n",
    "Write a program in which you fill the list with 100 random numbers between 1 and 1000. \n",
    "\n",
    "Print how many even elements are there in a list.\n",
    "\n",
    "Then remove all the odd elements and count again how many elements are there in a list."
   ]
  },
  {
   "cell_type": "code",
   "execution_count": 28,
   "metadata": {},
   "outputs": [
    {
     "name": "stdout",
     "output_type": "stream",
     "text": [
      "100\n",
      "56\n"
     ]
    }
   ],
   "source": []
  },
  {
   "cell_type": "markdown",
   "metadata": {},
   "source": []
  },
  {
   "cell_type": "markdown",
   "metadata": {},
   "source": [
    "<br><div class=\"alert alert-info\"><b>Task 05</b></div>\n",
    "\n",
    "Create an empty dictionary. Load the user's 5 domain tags and the country to which the domain belongs to the dictionary. After entering, print the contents of the dictionary in the format of country - domain name."
   ]
  },
  {
   "cell_type": "code",
   "execution_count": 32,
   "metadata": {},
   "outputs": [
    {
     "name": "stdout",
     "output_type": "stream",
     "text": [
      "hr Croatia\n",
      "fr France\n",
      "ua Ukraine\n",
      "au Australia\n",
      "de Germany\n"
     ]
    }
   ],
   "source": []
  },
  {
   "cell_type": "markdown",
   "metadata": {},
   "source": [
    "<br><div class=\"alert alert-info\"><b>Task 06</b></div>\n",
    "\n",
    "For the previous example, after input, allow the user to search endlessly by domain tag. If the domain does not exist in the dictionary, inform the user about it."
   ]
  },
  {
   "cell_type": "code",
   "execution_count": 33,
   "metadata": {},
   "outputs": [
    {
     "name": "stdout",
     "output_type": "stream",
     "text": [
      "No such country tag\n",
      "Australia\n",
      "Ukraine\n",
      "Croatia\n",
      "Have a nice day!\n"
     ]
    }
   ],
   "source": []
  },
  {
   "cell_type": "markdown",
   "metadata": {},
   "source": [
    "<br><div class=\"alert alert-info\"><b>Task 07</b></div>\n",
    "\n",
    "Write a program that will for each letter of the alphabet store its ASCII code. Print the contents of the data structure."
   ]
  },
  {
   "cell_type": "code",
   "execution_count": 35,
   "metadata": {},
   "outputs": [
    {
     "name": "stdout",
     "output_type": "stream",
     "text": [
      "{'a': 97, 'b': 98, 'c': 99, 'd': 100, 'e': 101, 'f': 102, 'g': 103, 'h': 104, 'i': 105, 'j': 106, 'k': 107, 'l': 108, 'm': 109, 'n': 110, 'o': 111, 'p': 112, 'q': 113, 'r': 114, 's': 115, 't': 116, 'u': 117, 'v': 118, 'w': 119, 'x': 120, 'y': 121, 'z': 122}\n"
     ]
    }
   ],
   "source": []
  },
  {
   "cell_type": "markdown",
   "metadata": {},
   "source": [
    "<br><div class=\"alert alert-info\"><b>Task08</b></div>\n",
    "\n",
    "Write a program to enter survey data on students and their favorite programming language (key: name, value: favorite programming language).\n",
    "Allow the user to enter survey results as long as he wants. Ensure that survey entries are unique (the key to making the survey unique is the username). \n",
    "\n",
    "Print the survey results in the form: <br>\n",
    "- Name:\n",
    "- Favorite language:\n"
   ]
  },
  {
   "cell_type": "code",
   "execution_count": 37,
   "metadata": {},
   "outputs": [
    {
     "name": "stdout",
     "output_type": "stream",
     "text": [
      "{'Cathy': 'C++', 'Peter': 'Python', 'Jane': 'Java'}\n"
     ]
    }
   ],
   "source": []
  },
  {
   "cell_type": "markdown",
   "metadata": {},
   "source": [
    "<br><div class=\"alert alert-info\"><b>Task 09</b></div>\n",
    "\n",
    "Write a program that will parse the following string: `key1=value1;key2=value2;key3=value3`.\n",
    "\n",
    "Use an appropriate structure for that.\n"
   ]
  },
  {
   "cell_type": "code",
   "execution_count": 42,
   "metadata": {},
   "outputs": [
    {
     "name": "stdout",
     "output_type": "stream",
     "text": [
      "{'key1': 'value1', 'key2': 'value2', 'key3': 'value3'}\n"
     ]
    }
   ],
   "source": []
  },
  {
   "cell_type": "markdown",
   "metadata": {},
   "source": [
    "<br><div class=\"alert alert-info\"><b>Task 10</b></div>\n",
    "\n",
    "Write a program that inputs two strings, swaps their values using tuples and outputs them."
   ]
  },
  {
   "cell_type": "code",
   "execution_count": 43,
   "metadata": {},
   "outputs": [
    {
     "name": "stdout",
     "output_type": "stream",
     "text": [
      "bbb aaa\n"
     ]
    }
   ],
   "source": []
  },
  {
   "cell_type": "markdown",
   "metadata": {},
   "source": [
    "<br><div class=\"alert alert-info\"><b>Task 11</b></div>\n",
    "\n",
    "Write a program that initializes 3 strings and starts the for loop that runs 10 times. In for loop, it rotates 3 strings (str1=> str2, str2=>str3, str3=>str1) using tuples and writes strings in the same line, with number of iteration: \n",
    "```\n",
    "0: str1 str2 str3\n",
    "1: str3 str1 str2\n",
    "2: str2 str3 str1\n",
    "...\n",
    "```"
   ]
  },
  {
   "cell_type": "code",
   "execution_count": 50,
   "metadata": {},
   "outputs": [
    {
     "name": "stdout",
     "output_type": "stream",
     "text": [
      "0 111 222 333\n",
      "1 333 111 222\n",
      "2 222 333 111\n",
      "3 111 222 333\n",
      "4 333 111 222\n",
      "5 222 333 111\n",
      "6 111 222 333\n",
      "7 333 111 222\n",
      "8 222 333 111\n",
      "9 111 222 333\n"
     ]
    }
   ],
   "source": []
  },
  {
   "cell_type": "markdown",
   "metadata": {},
   "source": [
    "<br><div class=\"alert alert-info\"><b>Task 12</b></div>\n",
    "\n",
    "Write a program that asks for two strings.\n",
    "\n",
    "Then it should print the following:\n",
    "\n",
    "- all characters that can be found in strings, but without repetition (for 'abc' and 'bcd', it should print 'abcd')\n",
    "- all the characters that exist in both strings (for 'abc' and 'bcd', it should print 'bc')\n",
    "- all the characters that exist in first but not in second string (for 'abc' and 'bcd', it should print 'a')\n",
    "- all characters in strings, but but without intersection (for 'abc' and 'bcd', it should print 'ad')\n",
    "\n",
    "> Hint: set structure implements all these operations"
   ]
  },
  {
   "cell_type": "code",
   "execution_count": 65,
   "metadata": {},
   "outputs": [
    {
     "name": "stdout",
     "output_type": "stream",
     "text": [
      "String 1 is abc\n",
      "String 2 is bcd\n",
      "abcd\n",
      "bc\n",
      "a\n",
      "ad\n"
     ]
    }
   ],
   "source": []
  }
 ],
 "metadata": {
  "kernelspec": {
   "display_name": "Python 3.10.5 64-bit",
   "language": "python",
   "name": "python3"
  },
  "language_info": {
   "codemirror_mode": {
    "name": "ipython",
    "version": 3
   },
   "file_extension": ".py",
   "mimetype": "text/x-python",
   "name": "python",
   "nbconvert_exporter": "python",
   "pygments_lexer": "ipython3",
   "version": "3.10.7"
  },
  "orig_nbformat": 4,
  "vscode": {
   "interpreter": {
    "hash": "3553903dba64754d2bfb0d59acd2dbff5bc8fcd3f403a6584ff751f2f4eee55f"
   }
  }
 },
 "nbformat": 4,
 "nbformat_minor": 2
}
